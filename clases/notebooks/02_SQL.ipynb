{
  "nbformat": 4,
  "nbformat_minor": 0,
  "metadata": {
    "colab": {
      "provenance": []
    },
    "kernelspec": {
      "name": "python3",
      "display_name": "Python 3"
    },
    "language_info": {
      "name": "python"
    }
  },
  "cells": [
    {
      "cell_type": "code",
      "source": [
        "import pandas as pd\n",
        "from sqlalchemy import create_engine, text"
      ],
      "metadata": {
        "id": "HKy2QHkyOoI7"
      },
      "execution_count": null,
      "outputs": []
    },
    {
      "cell_type": "code",
      "execution_count": null,
      "metadata": {
        "id": "2WlMFft4Oewg"
      },
      "outputs": [],
      "source": [
        "url = 'https://cs.famaf.unc.edu.ar/~mteruel/datasets/diplodatos/sysarmy_survey_2020_processed.csv'\n",
        "df = pd.read_csv(url)"
      ]
    },
    {
      "cell_type": "code",
      "source": [
        "df.head()"
      ],
      "metadata": {
        "colab": {
          "base_uri": "https://localhost:8080/",
          "height": 412
        },
        "id": "sVFh91tZJBj5",
        "outputId": "4f28256e-53b9-4bca-c9c4-e5cc2b714183"
      },
      "execution_count": null,
      "outputs": [
        {
          "output_type": "execute_result",
          "data": {
            "text/plain": [
              "  profile_gender  profile_age work_country                    work_province  \\\n",
              "0          Mujer           26    Argentina  Ciudad Autónoma de Buenos Aires   \n",
              "1         Hombre           29    Argentina                       Corrientes   \n",
              "2          Mujer           22    Argentina  Ciudad Autónoma de Buenos Aires   \n",
              "3         Hombre           39    Argentina                       Corrientes   \n",
              "4         Hombre           32    Argentina  Ciudad Autónoma de Buenos Aires   \n",
              "\n",
              "   profile_years_experience  work_years_in_company  \\\n",
              "0                       3.0                    3.0   \n",
              "1                       5.0                    2.0   \n",
              "2                       2.0                    0.0   \n",
              "3                      15.0                   15.0   \n",
              "4                       9.0                    6.0   \n",
              "\n",
              "   work_years_in_current_position  work_people_in_charge_of  \\\n",
              "0                             3.0                         0   \n",
              "1                             2.0                         4   \n",
              "2                             0.0                         0   \n",
              "3                            13.0                         5   \n",
              "4                             6.0                         0   \n",
              "\n",
              "  profile_studies_level profile_studies_level_state  ...  \\\n",
              "0         Universitario                    En curso  ...   \n",
              "1         Universitario                    En curso  ...   \n",
              "2            Secundario                  Completado  ...   \n",
              "3              Posgrado                  Incompleto  ...   \n",
              "4         Universitario                    En curso  ...   \n",
              "\n",
              "  work_has_violence_situations profile_sexual_orientation  \\\n",
              "0         En mi trabajo actual                 Homosexual   \n",
              "1                        Jamás               Heterosexual   \n",
              "2       En un trabajo anterior           Bisexual o queer   \n",
              "3         En mi trabajo actual               Heterosexual   \n",
              "4                        Jamás               Heterosexual   \n",
              "\n",
              "  profile_has_disabilities profile_has_disabilities_hiring_difficulties  \\\n",
              "0                      NaN                                          NaN   \n",
              "1                   Visual                                           No   \n",
              "2                      NaN                                           No   \n",
              "3                      NaN                                          NaN   \n",
              "4                      NaN                                          NaN   \n",
              "\n",
              "  company_employee_number                          company_main_activity  \\\n",
              "0                501-1000  Servicios / Consultoría de Software / Digital   \n",
              "1                 201-500                               Otras industrias   \n",
              "2               2001-5000                               Otras industrias   \n",
              "3                501-1000                               Otras industrias   \n",
              "4                   11-50  Servicios / Consultoría de Software / Digital   \n",
              "\n",
              "  company_recommended company_diversity_policies  \\\n",
              "0                   7                          2   \n",
              "1                   8                          9   \n",
              "2                   6                          9   \n",
              "3                   7                          6   \n",
              "4                   6                          6   \n",
              "\n",
              "                              company_extra_benefits  \\\n",
              "0  Capacitaciones y/o cursos, Comidas pagas / sub...   \n",
              "1  Horarios flexibles, Stock options / RSUs, Viát...   \n",
              "2  Clases de gimnasia online, Comidas pagas / sub...   \n",
              "3  Abono de celular, Capacitaciones y/o cursos, C...   \n",
              "4  Clases de idiomas, Horarios flexibles, Vacacio...   \n",
              "\n",
              "  company_best_companies_city  \n",
              "0                         NaN  \n",
              "1                         NaN  \n",
              "2                         NaN  \n",
              "3                         NaN  \n",
              "4                         NaN  \n",
              "\n",
              "[5 rows x 48 columns]"
            ],
            "text/html": [
              "\n",
              "  <div id=\"df-3a6683f3-3112-4fbf-9064-611b65056197\" class=\"colab-df-container\">\n",
              "    <div>\n",
              "<style scoped>\n",
              "    .dataframe tbody tr th:only-of-type {\n",
              "        vertical-align: middle;\n",
              "    }\n",
              "\n",
              "    .dataframe tbody tr th {\n",
              "        vertical-align: top;\n",
              "    }\n",
              "\n",
              "    .dataframe thead th {\n",
              "        text-align: right;\n",
              "    }\n",
              "</style>\n",
              "<table border=\"1\" class=\"dataframe\">\n",
              "  <thead>\n",
              "    <tr style=\"text-align: right;\">\n",
              "      <th></th>\n",
              "      <th>profile_gender</th>\n",
              "      <th>profile_age</th>\n",
              "      <th>work_country</th>\n",
              "      <th>work_province</th>\n",
              "      <th>profile_years_experience</th>\n",
              "      <th>work_years_in_company</th>\n",
              "      <th>work_years_in_current_position</th>\n",
              "      <th>work_people_in_charge_of</th>\n",
              "      <th>profile_studies_level</th>\n",
              "      <th>profile_studies_level_state</th>\n",
              "      <th>...</th>\n",
              "      <th>work_has_violence_situations</th>\n",
              "      <th>profile_sexual_orientation</th>\n",
              "      <th>profile_has_disabilities</th>\n",
              "      <th>profile_has_disabilities_hiring_difficulties</th>\n",
              "      <th>company_employee_number</th>\n",
              "      <th>company_main_activity</th>\n",
              "      <th>company_recommended</th>\n",
              "      <th>company_diversity_policies</th>\n",
              "      <th>company_extra_benefits</th>\n",
              "      <th>company_best_companies_city</th>\n",
              "    </tr>\n",
              "  </thead>\n",
              "  <tbody>\n",
              "    <tr>\n",
              "      <th>0</th>\n",
              "      <td>Mujer</td>\n",
              "      <td>26</td>\n",
              "      <td>Argentina</td>\n",
              "      <td>Ciudad Autónoma de Buenos Aires</td>\n",
              "      <td>3.0</td>\n",
              "      <td>3.0</td>\n",
              "      <td>3.0</td>\n",
              "      <td>0</td>\n",
              "      <td>Universitario</td>\n",
              "      <td>En curso</td>\n",
              "      <td>...</td>\n",
              "      <td>En mi trabajo actual</td>\n",
              "      <td>Homosexual</td>\n",
              "      <td>NaN</td>\n",
              "      <td>NaN</td>\n",
              "      <td>501-1000</td>\n",
              "      <td>Servicios / Consultoría de Software / Digital</td>\n",
              "      <td>7</td>\n",
              "      <td>2</td>\n",
              "      <td>Capacitaciones y/o cursos, Comidas pagas / sub...</td>\n",
              "      <td>NaN</td>\n",
              "    </tr>\n",
              "    <tr>\n",
              "      <th>1</th>\n",
              "      <td>Hombre</td>\n",
              "      <td>29</td>\n",
              "      <td>Argentina</td>\n",
              "      <td>Corrientes</td>\n",
              "      <td>5.0</td>\n",
              "      <td>2.0</td>\n",
              "      <td>2.0</td>\n",
              "      <td>4</td>\n",
              "      <td>Universitario</td>\n",
              "      <td>En curso</td>\n",
              "      <td>...</td>\n",
              "      <td>Jamás</td>\n",
              "      <td>Heterosexual</td>\n",
              "      <td>Visual</td>\n",
              "      <td>No</td>\n",
              "      <td>201-500</td>\n",
              "      <td>Otras industrias</td>\n",
              "      <td>8</td>\n",
              "      <td>9</td>\n",
              "      <td>Horarios flexibles, Stock options / RSUs, Viát...</td>\n",
              "      <td>NaN</td>\n",
              "    </tr>\n",
              "    <tr>\n",
              "      <th>2</th>\n",
              "      <td>Mujer</td>\n",
              "      <td>22</td>\n",
              "      <td>Argentina</td>\n",
              "      <td>Ciudad Autónoma de Buenos Aires</td>\n",
              "      <td>2.0</td>\n",
              "      <td>0.0</td>\n",
              "      <td>0.0</td>\n",
              "      <td>0</td>\n",
              "      <td>Secundario</td>\n",
              "      <td>Completado</td>\n",
              "      <td>...</td>\n",
              "      <td>En un trabajo anterior</td>\n",
              "      <td>Bisexual o queer</td>\n",
              "      <td>NaN</td>\n",
              "      <td>No</td>\n",
              "      <td>2001-5000</td>\n",
              "      <td>Otras industrias</td>\n",
              "      <td>6</td>\n",
              "      <td>9</td>\n",
              "      <td>Clases de gimnasia online, Comidas pagas / sub...</td>\n",
              "      <td>NaN</td>\n",
              "    </tr>\n",
              "    <tr>\n",
              "      <th>3</th>\n",
              "      <td>Hombre</td>\n",
              "      <td>39</td>\n",
              "      <td>Argentina</td>\n",
              "      <td>Corrientes</td>\n",
              "      <td>15.0</td>\n",
              "      <td>15.0</td>\n",
              "      <td>13.0</td>\n",
              "      <td>5</td>\n",
              "      <td>Posgrado</td>\n",
              "      <td>Incompleto</td>\n",
              "      <td>...</td>\n",
              "      <td>En mi trabajo actual</td>\n",
              "      <td>Heterosexual</td>\n",
              "      <td>NaN</td>\n",
              "      <td>NaN</td>\n",
              "      <td>501-1000</td>\n",
              "      <td>Otras industrias</td>\n",
              "      <td>7</td>\n",
              "      <td>6</td>\n",
              "      <td>Abono de celular, Capacitaciones y/o cursos, C...</td>\n",
              "      <td>NaN</td>\n",
              "    </tr>\n",
              "    <tr>\n",
              "      <th>4</th>\n",
              "      <td>Hombre</td>\n",
              "      <td>32</td>\n",
              "      <td>Argentina</td>\n",
              "      <td>Ciudad Autónoma de Buenos Aires</td>\n",
              "      <td>9.0</td>\n",
              "      <td>6.0</td>\n",
              "      <td>6.0</td>\n",
              "      <td>0</td>\n",
              "      <td>Universitario</td>\n",
              "      <td>En curso</td>\n",
              "      <td>...</td>\n",
              "      <td>Jamás</td>\n",
              "      <td>Heterosexual</td>\n",
              "      <td>NaN</td>\n",
              "      <td>NaN</td>\n",
              "      <td>11-50</td>\n",
              "      <td>Servicios / Consultoría de Software / Digital</td>\n",
              "      <td>6</td>\n",
              "      <td>6</td>\n",
              "      <td>Clases de idiomas, Horarios flexibles, Vacacio...</td>\n",
              "      <td>NaN</td>\n",
              "    </tr>\n",
              "  </tbody>\n",
              "</table>\n",
              "<p>5 rows × 48 columns</p>\n",
              "</div>\n",
              "    <div class=\"colab-df-buttons\">\n",
              "\n",
              "  <div class=\"colab-df-container\">\n",
              "    <button class=\"colab-df-convert\" onclick=\"convertToInteractive('df-3a6683f3-3112-4fbf-9064-611b65056197')\"\n",
              "            title=\"Convert this dataframe to an interactive table.\"\n",
              "            style=\"display:none;\">\n",
              "\n",
              "  <svg xmlns=\"http://www.w3.org/2000/svg\" height=\"24px\" viewBox=\"0 -960 960 960\">\n",
              "    <path d=\"M120-120v-720h720v720H120Zm60-500h600v-160H180v160Zm220 220h160v-160H400v160Zm0 220h160v-160H400v160ZM180-400h160v-160H180v160Zm440 0h160v-160H620v160ZM180-180h160v-160H180v160Zm440 0h160v-160H620v160Z\"/>\n",
              "  </svg>\n",
              "    </button>\n",
              "\n",
              "  <style>\n",
              "    .colab-df-container {\n",
              "      display:flex;\n",
              "      gap: 12px;\n",
              "    }\n",
              "\n",
              "    .colab-df-convert {\n",
              "      background-color: #E8F0FE;\n",
              "      border: none;\n",
              "      border-radius: 50%;\n",
              "      cursor: pointer;\n",
              "      display: none;\n",
              "      fill: #1967D2;\n",
              "      height: 32px;\n",
              "      padding: 0 0 0 0;\n",
              "      width: 32px;\n",
              "    }\n",
              "\n",
              "    .colab-df-convert:hover {\n",
              "      background-color: #E2EBFA;\n",
              "      box-shadow: 0px 1px 2px rgba(60, 64, 67, 0.3), 0px 1px 3px 1px rgba(60, 64, 67, 0.15);\n",
              "      fill: #174EA6;\n",
              "    }\n",
              "\n",
              "    .colab-df-buttons div {\n",
              "      margin-bottom: 4px;\n",
              "    }\n",
              "\n",
              "    [theme=dark] .colab-df-convert {\n",
              "      background-color: #3B4455;\n",
              "      fill: #D2E3FC;\n",
              "    }\n",
              "\n",
              "    [theme=dark] .colab-df-convert:hover {\n",
              "      background-color: #434B5C;\n",
              "      box-shadow: 0px 1px 3px 1px rgba(0, 0, 0, 0.15);\n",
              "      filter: drop-shadow(0px 1px 2px rgba(0, 0, 0, 0.3));\n",
              "      fill: #FFFFFF;\n",
              "    }\n",
              "  </style>\n",
              "\n",
              "    <script>\n",
              "      const buttonEl =\n",
              "        document.querySelector('#df-3a6683f3-3112-4fbf-9064-611b65056197 button.colab-df-convert');\n",
              "      buttonEl.style.display =\n",
              "        google.colab.kernel.accessAllowed ? 'block' : 'none';\n",
              "\n",
              "      async function convertToInteractive(key) {\n",
              "        const element = document.querySelector('#df-3a6683f3-3112-4fbf-9064-611b65056197');\n",
              "        const dataTable =\n",
              "          await google.colab.kernel.invokeFunction('convertToInteractive',\n",
              "                                                    [key], {});\n",
              "        if (!dataTable) return;\n",
              "\n",
              "        const docLinkHtml = 'Like what you see? Visit the ' +\n",
              "          '<a target=\"_blank\" href=https://colab.research.google.com/notebooks/data_table.ipynb>data table notebook</a>'\n",
              "          + ' to learn more about interactive tables.';\n",
              "        element.innerHTML = '';\n",
              "        dataTable['output_type'] = 'display_data';\n",
              "        await google.colab.output.renderOutput(dataTable, element);\n",
              "        const docLink = document.createElement('div');\n",
              "        docLink.innerHTML = docLinkHtml;\n",
              "        element.appendChild(docLink);\n",
              "      }\n",
              "    </script>\n",
              "  </div>\n",
              "\n",
              "\n",
              "<div id=\"df-77e9ccad-b22f-4f52-8db1-cc60be0a3f7b\">\n",
              "  <button class=\"colab-df-quickchart\" onclick=\"quickchart('df-77e9ccad-b22f-4f52-8db1-cc60be0a3f7b')\"\n",
              "            title=\"Suggest charts\"\n",
              "            style=\"display:none;\">\n",
              "\n",
              "<svg xmlns=\"http://www.w3.org/2000/svg\" height=\"24px\"viewBox=\"0 0 24 24\"\n",
              "     width=\"24px\">\n",
              "    <g>\n",
              "        <path d=\"M19 3H5c-1.1 0-2 .9-2 2v14c0 1.1.9 2 2 2h14c1.1 0 2-.9 2-2V5c0-1.1-.9-2-2-2zM9 17H7v-7h2v7zm4 0h-2V7h2v10zm4 0h-2v-4h2v4z\"/>\n",
              "    </g>\n",
              "</svg>\n",
              "  </button>\n",
              "\n",
              "<style>\n",
              "  .colab-df-quickchart {\n",
              "      --bg-color: #E8F0FE;\n",
              "      --fill-color: #1967D2;\n",
              "      --hover-bg-color: #E2EBFA;\n",
              "      --hover-fill-color: #174EA6;\n",
              "      --disabled-fill-color: #AAA;\n",
              "      --disabled-bg-color: #DDD;\n",
              "  }\n",
              "\n",
              "  [theme=dark] .colab-df-quickchart {\n",
              "      --bg-color: #3B4455;\n",
              "      --fill-color: #D2E3FC;\n",
              "      --hover-bg-color: #434B5C;\n",
              "      --hover-fill-color: #FFFFFF;\n",
              "      --disabled-bg-color: #3B4455;\n",
              "      --disabled-fill-color: #666;\n",
              "  }\n",
              "\n",
              "  .colab-df-quickchart {\n",
              "    background-color: var(--bg-color);\n",
              "    border: none;\n",
              "    border-radius: 50%;\n",
              "    cursor: pointer;\n",
              "    display: none;\n",
              "    fill: var(--fill-color);\n",
              "    height: 32px;\n",
              "    padding: 0;\n",
              "    width: 32px;\n",
              "  }\n",
              "\n",
              "  .colab-df-quickchart:hover {\n",
              "    background-color: var(--hover-bg-color);\n",
              "    box-shadow: 0 1px 2px rgba(60, 64, 67, 0.3), 0 1px 3px 1px rgba(60, 64, 67, 0.15);\n",
              "    fill: var(--button-hover-fill-color);\n",
              "  }\n",
              "\n",
              "  .colab-df-quickchart-complete:disabled,\n",
              "  .colab-df-quickchart-complete:disabled:hover {\n",
              "    background-color: var(--disabled-bg-color);\n",
              "    fill: var(--disabled-fill-color);\n",
              "    box-shadow: none;\n",
              "  }\n",
              "\n",
              "  .colab-df-spinner {\n",
              "    border: 2px solid var(--fill-color);\n",
              "    border-color: transparent;\n",
              "    border-bottom-color: var(--fill-color);\n",
              "    animation:\n",
              "      spin 1s steps(1) infinite;\n",
              "  }\n",
              "\n",
              "  @keyframes spin {\n",
              "    0% {\n",
              "      border-color: transparent;\n",
              "      border-bottom-color: var(--fill-color);\n",
              "      border-left-color: var(--fill-color);\n",
              "    }\n",
              "    20% {\n",
              "      border-color: transparent;\n",
              "      border-left-color: var(--fill-color);\n",
              "      border-top-color: var(--fill-color);\n",
              "    }\n",
              "    30% {\n",
              "      border-color: transparent;\n",
              "      border-left-color: var(--fill-color);\n",
              "      border-top-color: var(--fill-color);\n",
              "      border-right-color: var(--fill-color);\n",
              "    }\n",
              "    40% {\n",
              "      border-color: transparent;\n",
              "      border-right-color: var(--fill-color);\n",
              "      border-top-color: var(--fill-color);\n",
              "    }\n",
              "    60% {\n",
              "      border-color: transparent;\n",
              "      border-right-color: var(--fill-color);\n",
              "    }\n",
              "    80% {\n",
              "      border-color: transparent;\n",
              "      border-right-color: var(--fill-color);\n",
              "      border-bottom-color: var(--fill-color);\n",
              "    }\n",
              "    90% {\n",
              "      border-color: transparent;\n",
              "      border-bottom-color: var(--fill-color);\n",
              "    }\n",
              "  }\n",
              "</style>\n",
              "\n",
              "  <script>\n",
              "    async function quickchart(key) {\n",
              "      const quickchartButtonEl =\n",
              "        document.querySelector('#' + key + ' button');\n",
              "      quickchartButtonEl.disabled = true;  // To prevent multiple clicks.\n",
              "      quickchartButtonEl.classList.add('colab-df-spinner');\n",
              "      try {\n",
              "        const charts = await google.colab.kernel.invokeFunction(\n",
              "            'suggestCharts', [key], {});\n",
              "      } catch (error) {\n",
              "        console.error('Error during call to suggestCharts:', error);\n",
              "      }\n",
              "      quickchartButtonEl.classList.remove('colab-df-spinner');\n",
              "      quickchartButtonEl.classList.add('colab-df-quickchart-complete');\n",
              "    }\n",
              "    (() => {\n",
              "      let quickchartButtonEl =\n",
              "        document.querySelector('#df-77e9ccad-b22f-4f52-8db1-cc60be0a3f7b button');\n",
              "      quickchartButtonEl.style.display =\n",
              "        google.colab.kernel.accessAllowed ? 'block' : 'none';\n",
              "    })();\n",
              "  </script>\n",
              "</div>\n",
              "\n",
              "    </div>\n",
              "  </div>\n"
            ],
            "application/vnd.google.colaboratory.intrinsic+json": {
              "type": "dataframe",
              "variable_name": "df"
            }
          },
          "metadata": {},
          "execution_count": 3
        }
      ]
    },
    {
      "cell_type": "code",
      "source": [
        "df.columns"
      ],
      "metadata": {
        "colab": {
          "base_uri": "https://localhost:8080/"
        },
        "id": "7QsdgDXKMTJl",
        "outputId": "bb0a13a6-232a-4175-fc14-2b284ceb9e4a"
      },
      "execution_count": null,
      "outputs": [
        {
          "output_type": "execute_result",
          "data": {
            "text/plain": [
              "Index(['profile_gender', 'profile_age', 'work_country', 'work_province',\n",
              "       'profile_years_experience', 'work_years_in_company',\n",
              "       'work_years_in_current_position', 'work_people_in_charge_of',\n",
              "       'profile_studies_level', 'profile_studies_level_state',\n",
              "       'profile_career', 'profile_university',\n",
              "       'profile_specialization_courses', 'profile_open_source_contributions',\n",
              "       'profile_programming_as_hobby', 'work_role', 'tools_platform',\n",
              "       'tools_programming_languages', 'tools_frameworks', 'tools_data_bases',\n",
              "       'tools_qa_testing', 'tools_IDEs', 'tools_work_pc_os',\n",
              "       'tools_cellphone_os', 'work_on_call_duty', 'salary_on_call_duty_charge',\n",
              "       'work_on_call_duty_charge_type', 'work_contract_type',\n",
              "       'salary_monthly_BRUTO', 'salary_monthly_NETO', 'salary_in_usd',\n",
              "       'salary_satisfaction', 'salary_comparison_last_semester',\n",
              "       'salary_has_bonus', 'salary_bonus_tied_to',\n",
              "       'salary_inflation_adjustment_2020',\n",
              "       'salary_percentage_inflation_adjustment_2020',\n",
              "       'salary_month_last_inflation_adjustment',\n",
              "       'work_has_violence_situations', 'profile_sexual_orientation',\n",
              "       'profile_has_disabilities',\n",
              "       'profile_has_disabilities_hiring_difficulties',\n",
              "       'company_employee_number', 'company_main_activity',\n",
              "       'company_recommended', 'company_diversity_policies',\n",
              "       'company_extra_benefits', 'company_best_companies_city'],\n",
              "      dtype='object')"
            ]
          },
          "metadata": {},
          "execution_count": 4
        }
      ]
    },
    {
      "cell_type": "code",
      "source": [
        "engine = create_engine('sqlite:///sysarmy.sqlite3', echo=True)"
      ],
      "metadata": {
        "id": "BR8W4-A4Gm9x"
      },
      "execution_count": null,
      "outputs": []
    },
    {
      "cell_type": "code",
      "source": [
        "df.to_sql('survey', con=engine, if_exists=\"replace\")"
      ],
      "metadata": {
        "colab": {
          "base_uri": "https://localhost:8080/"
        },
        "id": "4L4U1pKvGp8A",
        "outputId": "d8610d26-2e66-495a-d371-aeb2557f89b4"
      },
      "execution_count": null,
      "outputs": [
        {
          "output_type": "stream",
          "name": "stdout",
          "text": [
            "2023-05-13 13:14:49,011 INFO sqlalchemy.engine.Engine BEGIN (implicit)\n"
          ]
        },
        {
          "output_type": "stream",
          "name": "stderr",
          "text": [
            "INFO:sqlalchemy.engine.Engine:BEGIN (implicit)\n"
          ]
        },
        {
          "output_type": "stream",
          "name": "stdout",
          "text": [
            "2023-05-13 13:14:49,019 INFO sqlalchemy.engine.Engine PRAGMA main.table_info(\"survey\")\n"
          ]
        },
        {
          "output_type": "stream",
          "name": "stderr",
          "text": [
            "INFO:sqlalchemy.engine.Engine:PRAGMA main.table_info(\"survey\")\n"
          ]
        },
        {
          "output_type": "stream",
          "name": "stdout",
          "text": [
            "2023-05-13 13:14:49,022 INFO sqlalchemy.engine.Engine [raw sql] ()\n"
          ]
        },
        {
          "output_type": "stream",
          "name": "stderr",
          "text": [
            "INFO:sqlalchemy.engine.Engine:[raw sql] ()\n"
          ]
        },
        {
          "output_type": "stream",
          "name": "stdout",
          "text": [
            "2023-05-13 13:14:49,026 INFO sqlalchemy.engine.Engine PRAGMA temp.table_info(\"survey\")\n"
          ]
        },
        {
          "output_type": "stream",
          "name": "stderr",
          "text": [
            "INFO:sqlalchemy.engine.Engine:PRAGMA temp.table_info(\"survey\")\n"
          ]
        },
        {
          "output_type": "stream",
          "name": "stdout",
          "text": [
            "2023-05-13 13:14:49,028 INFO sqlalchemy.engine.Engine [raw sql] ()\n"
          ]
        },
        {
          "output_type": "stream",
          "name": "stderr",
          "text": [
            "INFO:sqlalchemy.engine.Engine:[raw sql] ()\n"
          ]
        },
        {
          "output_type": "stream",
          "name": "stdout",
          "text": [
            "2023-05-13 13:14:49,031 INFO sqlalchemy.engine.Engine ROLLBACK\n"
          ]
        },
        {
          "output_type": "stream",
          "name": "stderr",
          "text": [
            "INFO:sqlalchemy.engine.Engine:ROLLBACK\n"
          ]
        },
        {
          "output_type": "stream",
          "name": "stdout",
          "text": [
            "2023-05-13 13:14:49,040 INFO sqlalchemy.engine.Engine BEGIN (implicit)\n"
          ]
        },
        {
          "output_type": "stream",
          "name": "stderr",
          "text": [
            "INFO:sqlalchemy.engine.Engine:BEGIN (implicit)\n"
          ]
        },
        {
          "output_type": "stream",
          "name": "stdout",
          "text": [
            "2023-05-13 13:14:49,045 INFO sqlalchemy.engine.Engine \n",
            "CREATE TABLE survey (\n",
            "\t\"index\" BIGINT, \n",
            "\tprofile_gender TEXT, \n",
            "\tprofile_age BIGINT, \n",
            "\twork_country TEXT, \n",
            "\twork_province TEXT, \n",
            "\tprofile_years_experience FLOAT, \n",
            "\twork_years_in_company FLOAT, \n",
            "\twork_years_in_current_position FLOAT, \n",
            "\twork_people_in_charge_of BIGINT, \n",
            "\tprofile_studies_level TEXT, \n",
            "\tprofile_studies_level_state TEXT, \n",
            "\tprofile_career TEXT, \n",
            "\tprofile_university TEXT, \n",
            "\tprofile_specialization_courses TEXT, \n",
            "\tprofile_open_source_contributions TEXT, \n",
            "\tprofile_programming_as_hobby TEXT, \n",
            "\twork_role TEXT, \n",
            "\ttools_platform TEXT, \n",
            "\ttools_programming_languages TEXT, \n",
            "\ttools_frameworks TEXT, \n",
            "\ttools_data_bases TEXT, \n",
            "\ttools_qa_testing TEXT, \n",
            "\t\"tools_IDEs\" TEXT, \n",
            "\ttools_work_pc_os TEXT, \n",
            "\ttools_cellphone_os TEXT, \n",
            "\twork_on_call_duty TEXT, \n",
            "\tsalary_on_call_duty_charge FLOAT, \n",
            "\twork_on_call_duty_charge_type TEXT, \n",
            "\twork_contract_type TEXT, \n",
            "\t\"salary_monthly_BRUTO\" FLOAT, \n",
            "\t\"salary_monthly_NETO\" FLOAT, \n",
            "\tsalary_in_usd TEXT, \n",
            "\tsalary_satisfaction BIGINT, \n",
            "\tsalary_comparison_last_semester BIGINT, \n",
            "\tsalary_has_bonus TEXT, \n",
            "\tsalary_bonus_tied_to TEXT, \n",
            "\tsalary_inflation_adjustment_2020 TEXT, \n",
            "\tsalary_percentage_inflation_adjustment_2020 FLOAT, \n",
            "\tsalary_month_last_inflation_adjustment BIGINT, \n",
            "\twork_has_violence_situations TEXT, \n",
            "\tprofile_sexual_orientation TEXT, \n",
            "\tprofile_has_disabilities TEXT, \n",
            "\tprofile_has_disabilities_hiring_difficulties TEXT, \n",
            "\tcompany_employee_number TEXT, \n",
            "\tcompany_main_activity TEXT, \n",
            "\tcompany_recommended BIGINT, \n",
            "\tcompany_diversity_policies BIGINT, \n",
            "\tcompany_extra_benefits TEXT, \n",
            "\tcompany_best_companies_city TEXT\n",
            ")\n",
            "\n",
            "\n"
          ]
        },
        {
          "output_type": "stream",
          "name": "stderr",
          "text": [
            "INFO:sqlalchemy.engine.Engine:\n",
            "CREATE TABLE survey (\n",
            "\t\"index\" BIGINT, \n",
            "\tprofile_gender TEXT, \n",
            "\tprofile_age BIGINT, \n",
            "\twork_country TEXT, \n",
            "\twork_province TEXT, \n",
            "\tprofile_years_experience FLOAT, \n",
            "\twork_years_in_company FLOAT, \n",
            "\twork_years_in_current_position FLOAT, \n",
            "\twork_people_in_charge_of BIGINT, \n",
            "\tprofile_studies_level TEXT, \n",
            "\tprofile_studies_level_state TEXT, \n",
            "\tprofile_career TEXT, \n",
            "\tprofile_university TEXT, \n",
            "\tprofile_specialization_courses TEXT, \n",
            "\tprofile_open_source_contributions TEXT, \n",
            "\tprofile_programming_as_hobby TEXT, \n",
            "\twork_role TEXT, \n",
            "\ttools_platform TEXT, \n",
            "\ttools_programming_languages TEXT, \n",
            "\ttools_frameworks TEXT, \n",
            "\ttools_data_bases TEXT, \n",
            "\ttools_qa_testing TEXT, \n",
            "\t\"tools_IDEs\" TEXT, \n",
            "\ttools_work_pc_os TEXT, \n",
            "\ttools_cellphone_os TEXT, \n",
            "\twork_on_call_duty TEXT, \n",
            "\tsalary_on_call_duty_charge FLOAT, \n",
            "\twork_on_call_duty_charge_type TEXT, \n",
            "\twork_contract_type TEXT, \n",
            "\t\"salary_monthly_BRUTO\" FLOAT, \n",
            "\t\"salary_monthly_NETO\" FLOAT, \n",
            "\tsalary_in_usd TEXT, \n",
            "\tsalary_satisfaction BIGINT, \n",
            "\tsalary_comparison_last_semester BIGINT, \n",
            "\tsalary_has_bonus TEXT, \n",
            "\tsalary_bonus_tied_to TEXT, \n",
            "\tsalary_inflation_adjustment_2020 TEXT, \n",
            "\tsalary_percentage_inflation_adjustment_2020 FLOAT, \n",
            "\tsalary_month_last_inflation_adjustment BIGINT, \n",
            "\twork_has_violence_situations TEXT, \n",
            "\tprofile_sexual_orientation TEXT, \n",
            "\tprofile_has_disabilities TEXT, \n",
            "\tprofile_has_disabilities_hiring_difficulties TEXT, \n",
            "\tcompany_employee_number TEXT, \n",
            "\tcompany_main_activity TEXT, \n",
            "\tcompany_recommended BIGINT, \n",
            "\tcompany_diversity_policies BIGINT, \n",
            "\tcompany_extra_benefits TEXT, \n",
            "\tcompany_best_companies_city TEXT\n",
            ")\n",
            "\n",
            "\n"
          ]
        },
        {
          "output_type": "stream",
          "name": "stdout",
          "text": [
            "2023-05-13 13:14:49,048 INFO sqlalchemy.engine.Engine [no key 0.00294s] ()\n"
          ]
        },
        {
          "output_type": "stream",
          "name": "stderr",
          "text": [
            "INFO:sqlalchemy.engine.Engine:[no key 0.00294s] ()\n"
          ]
        },
        {
          "output_type": "stream",
          "name": "stdout",
          "text": [
            "2023-05-13 13:14:49,070 INFO sqlalchemy.engine.Engine CREATE INDEX ix_survey_index ON survey (\"index\")\n"
          ]
        },
        {
          "output_type": "stream",
          "name": "stderr",
          "text": [
            "INFO:sqlalchemy.engine.Engine:CREATE INDEX ix_survey_index ON survey (\"index\")\n"
          ]
        },
        {
          "output_type": "stream",
          "name": "stdout",
          "text": [
            "2023-05-13 13:14:49,073 INFO sqlalchemy.engine.Engine [no key 0.00234s] ()\n"
          ]
        },
        {
          "output_type": "stream",
          "name": "stderr",
          "text": [
            "INFO:sqlalchemy.engine.Engine:[no key 0.00234s] ()\n"
          ]
        },
        {
          "output_type": "stream",
          "name": "stdout",
          "text": [
            "2023-05-13 13:14:49,090 INFO sqlalchemy.engine.Engine COMMIT\n"
          ]
        },
        {
          "output_type": "stream",
          "name": "stderr",
          "text": [
            "INFO:sqlalchemy.engine.Engine:COMMIT\n"
          ]
        },
        {
          "output_type": "stream",
          "name": "stdout",
          "text": [
            "2023-05-13 13:14:49,143 INFO sqlalchemy.engine.Engine BEGIN (implicit)\n"
          ]
        },
        {
          "output_type": "stream",
          "name": "stderr",
          "text": [
            "INFO:sqlalchemy.engine.Engine:BEGIN (implicit)\n"
          ]
        },
        {
          "output_type": "stream",
          "name": "stdout",
          "text": [
            "2023-05-13 13:14:49,379 INFO sqlalchemy.engine.Engine INSERT INTO survey (\"index\", profile_gender, profile_age, work_country, work_province, profile_years_experience, work_years_in_company, work_years_in_current_position, work_people_in_charge_of, profile_studies_level, profile_studies_level_state, profile_career, profile_university, profile_specialization_courses, profile_open_source_contributions, profile_programming_as_hobby, work_role, tools_platform, tools_programming_languages, tools_frameworks, tools_data_bases, tools_qa_testing, \"tools_IDEs\", tools_work_pc_os, tools_cellphone_os, work_on_call_duty, salary_on_call_duty_charge, work_on_call_duty_charge_type, work_contract_type, \"salary_monthly_BRUTO\", \"salary_monthly_NETO\", salary_in_usd, salary_satisfaction, salary_comparison_last_semester, salary_has_bonus, salary_bonus_tied_to, salary_inflation_adjustment_2020, salary_percentage_inflation_adjustment_2020, salary_month_last_inflation_adjustment, work_has_violence_situations, profile_sexual_orientation, profile_has_disabilities, profile_has_disabilities_hiring_difficulties, company_employee_number, company_main_activity, company_recommended, company_diversity_policies, company_extra_benefits, company_best_companies_city) VALUES (?, ?, ?, ?, ?, ?, ?, ?, ?, ?, ?, ?, ?, ?, ?, ?, ?, ?, ?, ?, ?, ?, ?, ?, ?, ?, ?, ?, ?, ?, ?, ?, ?, ?, ?, ?, ?, ?, ?, ?, ?, ?, ?, ?, ?, ?, ?, ?, ?)\n"
          ]
        },
        {
          "output_type": "stream",
          "name": "stderr",
          "text": [
            "INFO:sqlalchemy.engine.Engine:INSERT INTO survey (\"index\", profile_gender, profile_age, work_country, work_province, profile_years_experience, work_years_in_company, work_years_in_current_position, work_people_in_charge_of, profile_studies_level, profile_studies_level_state, profile_career, profile_university, profile_specialization_courses, profile_open_source_contributions, profile_programming_as_hobby, work_role, tools_platform, tools_programming_languages, tools_frameworks, tools_data_bases, tools_qa_testing, \"tools_IDEs\", tools_work_pc_os, tools_cellphone_os, work_on_call_duty, salary_on_call_duty_charge, work_on_call_duty_charge_type, work_contract_type, \"salary_monthly_BRUTO\", \"salary_monthly_NETO\", salary_in_usd, salary_satisfaction, salary_comparison_last_semester, salary_has_bonus, salary_bonus_tied_to, salary_inflation_adjustment_2020, salary_percentage_inflation_adjustment_2020, salary_month_last_inflation_adjustment, work_has_violence_situations, profile_sexual_orientation, profile_has_disabilities, profile_has_disabilities_hiring_difficulties, company_employee_number, company_main_activity, company_recommended, company_diversity_policies, company_extra_benefits, company_best_companies_city) VALUES (?, ?, ?, ?, ?, ?, ?, ?, ?, ?, ?, ?, ?, ?, ?, ?, ?, ?, ?, ?, ?, ?, ?, ?, ?, ?, ?, ?, ?, ?, ?, ?, ?, ?, ?, ?, ?, ?, ?, ?, ?, ?, ?, ?, ?, ?, ?, ?, ?)\n"
          ]
        },
        {
          "output_type": "stream",
          "name": "stdout",
          "text": [
            "2023-05-13 13:14:49,384 INFO sqlalchemy.engine.Engine [generated in 0.17222s] [(0, 'Mujer', 26, 'Argentina', 'Ciudad Autónoma de Buenos Aires', 3.0, 3.0, 3.0, 0, 'Universitario', 'En curso', 'Ingeniería en Sistemas de Información', 'UTN - Universidad Tecnológica Nacional', 'Sí, los pagó un empleador', 'No', 'Sí', 'Consultant', 'Ninguna', 'Ninguno', 'Ninguno', 'Ninguna', 'Ninguna', 'Ninguno', 'GNU/Linux', 'Android', 'No', 0.0, 'Bruto', 'Full-Time', 53000.0, 43000.0, None, 1, 1, 'No', 'No recibo bono', 'No', 0.0, 0, 'En mi trabajo actual', 'Homosexual', None, None, '501-1000', 'Servicios / Consultoría de Software / Digital', 7, 2, 'Capacitaciones y/o cursos, Comidas pagas / subvencionadas, Cuota para universidad / posgrados, Descuentos varios (Mercado Pago, Clarín 365, Club La Nación, etc), Horarios flexibles, Lactario en la oficina, Licencia de paternidad/maternidad extendida, Viáticos', None), (1, 'Hombre', 29, 'Argentina', 'Corrientes', 5.0, 2.0, 2.0, 4, 'Universitario', 'En curso', 'Ingeniería en Sistemas de Información', 'UTN - Universidad Tecnológica Nacional', 'Sí, de forma particular, Sí, los pagó un empleador', 'No', 'Sí', 'Developer', 'Docker, Google Cloud Platform/App Engine', 'HTML, Javascript, Python', 'Django, jQuery', 'Informix, MySQL, PostgreSQL', 'Ninguna', 'IPython / Jupyter, Sublime Text, Visual Studio Code', 'GNU/Linux', 'Android', 'No', 0.0, 'Bruto', 'Full-Time', 79000.0, 63000.0, None, 2, 2, 'Menos de un sueldo', 'Performance de la compañía', 'Uno', 10.0, 1, 'Jamás', 'Heterosexual', 'Visual', 'No', '201-500', 'Otras industrias', 8, 9, 'Horarios flexibles, Stock options / RSUs, Viáticos', None), (2, 'Mujer', 22, 'Argentina', 'Ciudad Autónoma de Buenos Aires', 2.0, 0.0, 0.0, 0, 'Secundario', 'Completado', None, None, 'Sí, de forma particular, Sí, los pagó un empleador', 'No', 'Sí', 'Infosec', 'Linux, VMWare', 'Ninguno', 'Ninguno', 'Ninguna', 'Ninguna', 'Ninguno', 'Windows', 'iOS', 'No', 0.0, 'Porcentaje de mi sueldo', 'Full-Time', 160000.0, 127000.0, None, 3, 3, 'Un sueldo', 'Performance individual', 'No', 0.0, 0, 'En un trabajo anterior', 'Bisexual o queer', None, 'No', '2001-5000', 'Otras industrias', 6, 9, 'Clases de gimnasia online, Comidas pagas / subvencionadas, Descuentos varios (Mercado Pago, Clarín 365, Club La Nación, etc)', None), (3, 'Hombre', 39, 'Argentina', 'Corrientes', 15.0, 15.0, 13.0, 5, 'Posgrado', 'Incompleto', 'Licenciatura en Sistemas', 'UNNE Universidad Nacional del Nordeste', 'Sí, de forma particular, Sí, los pagó un empleador', 'Sí', 'Sí', 'SysAdmin / DevOps / SRE', 'Docker, Linux, OpenStack, VMWare, Windows Server', 'Bash/Shell, C, CSS, HTML, Java, Javascript, PHP, Python, SQL', 'jQuery, WordPress', 'Microsoft SQL Server, MySQL', 'PHPUnit', 'Eclipse, Visual Studio Code', 'GNU/Linux', 'Android', 'Sí, pasiva', 0.0, 'Bruto', 'Full-Time', 130000.0, 102000.0, None, 3, 1, 'No', 'No recibo bono', 'No', 0.0, 0, 'En mi trabajo actual', 'Heterosexual', None, None, '501-1000', 'Otras industrias', 7, 6, 'Abono de celular, Capacitaciones y/o cursos, Comidas pagas / subvencionadas, Cuota para universidad / posgrados, Horarios flexibles, Lactario en la oficina, Vacaciones flexibles (adicionales a las reglamentarias), Viáticos', None), (4, 'Hombre', 32, 'Argentina', 'Ciudad Autónoma de Buenos Aires', 9.0, 6.0, 6.0, 0, 'Universitario', 'En curso', 'Licenciatura en Ciencias dela Computación', 'UBA - Universidad de Buenos Aires', 'No', 'No', 'Sí', 'Developer', 'Amazon Web Services', 'CSS, HTML, Javascript, SQL, TypeScript', 'Angular, Node.js', 'Amazon DynamoDB, MongoDB, MySQL', 'Jest', 'Vim', 'macOS', 'Android', 'No', 0.0, 'Porcentaje de mi sueldo', 'Full-Time', 140000.0, 106000.0, None, 1, 1, 'Menos de un sueldo', 'Performance individual', 'No', 0.0, 0, 'Jamás', 'Heterosexual', None, None, '11-50', 'Servicios / Consultoría de Software / Digital', 6, 6, 'Clases de idiomas, Horarios flexibles, Vacaciones flexibles (adicionales a las reglamentarias)', None), (5, 'Hombre', 25, 'Argentina', 'Ciudad Autónoma de Buenos Aires', 1.0, 0.0, 0.0, 0, 'Terciario', 'Incompleto', 'Tecnicatura Superior en Programación', 'UTN - Universidad Tecnológica Nacional', 'No', 'No', 'Sí', 'Developer', 'Ninguna', 'Java, Javascript', 'Node.js, React.js, Spark', 'MySQL', 'Jest, JUnit, Postman', 'IntelliJ, Visual Studio Code', 'macOS', 'Android', 'No', 0.0, 'Bruto', 'Full-Time', 54000.0, 44000.0, None, 2, 2, 'No', 'No recibo bono', 'Uno', 15.0, 5, 'Jamás', 'Heterosexual', None, 'No', '10001+', 'Producto basado en Software', 8, 8, 'Clases de gimnasia online, Clases de idiomas, Comidas pagas / subvencionadas', None), (6, 'Hombre', 33, 'Argentina', 'Ciudad Autónoma de Buenos Aires', 1.0, 1.0, 1.0, 0, 'Universitario', 'Incompleto', 'Ingeniería en Informática', 'UBA - Universidad de Buenos Aires', 'Sí, de forma particular, Sí, los pagó un empleador', 'Sí', 'Sí', 'Developer', 'Amazon Web Services, Docker, Linux, Serverless', 'Javascript', 'Node.js', 'MongoDB, MySQL, Redis', 'Postman', 'Visual Studio Code', 'GNU/Linux', 'Android', 'No', 0.0, 'Porcentaje de mi sueldo', 'Full-Time', 75000.0, 62400.0, None, 3, 3, 'No', 'No recibo bono', 'Dos', 8.0, 4, 'Jamás', 'Heterosexual', None, None, '51-100', 'Producto basado en Software', 7, 7, 'Capacitaciones y/o cursos, Clases de gimnasia online, Clases de idiomas, Comidas pagas / subvencionadas, Horarios flexibles, Licencia de paternidad/maternidad extendida, Vacaciones flexibles (adicionales a las reglamentarias)', 'Mercado Libre'), (7, 'Hombre', 23, 'Argentina', 'Provincia de Buenos Aires', 0.0, 0.0, 0.0, 0, 'Terciario', 'En curso', 'Tecnicatura en Programación', 'UTN - Universidad Tecnológica Nacional', 'Sí, de forma particular', 'No', 'Sí', 'Developer', 'IBM Cloud / Watson', 'Java, Javascript', 'Spring, Liferay', 'MySQL', 'Ninguna', 'Eclipse, IntelliJ, NetBeans, Notepad++', 'Windows', 'iOS', 'No', 0.0, 'Porcentaje de mi sueldo', 'Full-Time', 45000.0, 37500.0, None, 2, 2, 'No', 'No recibo bono', 'No', 0.0, 0, 'Jamás', 'Heterosexual', None, None, '11-50', 'Producto basado en Software', 8, 10, 'Ninguna de las anteriores', 'Globant, Accenture, Making Sense, Globalogic')  ... displaying 10 of 6095 total bound parameter sets ...  (6093, 'Hombre', 28, 'Argentina', 'La Pampa', 5.0, 3.0, 2.0, 0, 'Terciario', 'En curso', 'Ingeniería en Sistemas de Información', 'UNLPAM', 'Sí, los pagó un empleador', 'No', 'Sí', 'SysAdmin / DevOps / SRE', 'Amazon Web Services, Docker, Kubernetes, Linux', 'C, C++, HTML, Java, Javascript, PHP, Python, SQL', 'Symfony', 'MariaDB, MongoDB, MySQL, Neo4j, PostgreSQL, Redis', 'PHPUnit, Postman', 'Nano, PHPStorm, PyCharm, Vim, Visual Studio Code', 'GNU/Linux', 'Android', 'Sí, pasiva', 10.0, 'Neto', 'Full-Time', 86000.0, 72.0, None, 2, 1, 'No', 'No recibo bono', 'Uno', 20.0, 3, 'Jamás', 'Heterosexual', None, 'No', '51-100', 'Servicios / Consultoría de Software / Digital', 5, 7, 'Capacitaciones y/o cursos', 'Solo Nubity'), (6094, 'Hombre', 33, 'Argentina', 'GBA', 5.0, 5.0, 3.0, 0, 'Terciario', 'Incompleto', 'Analista de Sistemas', 'UAI - Universidad Abierta Interamericana', 'Sí, de forma particular', 'No', 'No', 'SysAdmin / DevOps / SRE', 'Linux, OpenStack, VMWare, Windows Server', 'Ninguno de los anteriores', 'Ninguno de los anteriores', 'Ninguna de las anteriores', 'Ninguna de las anteriores', 'Ninguno de los anteriores', 'Windows', 'iOS', 'No', 0.0, 'Neto', 'Full-Time', 85000.0, 65000.0, None, 3, 3, 'No', 'No recibo bono', 'Dos', 4.0, 7, 'Jamás', 'Heterosexual', 'no', 'No', '501-1000', 'Otras industrias', 9, 7, 'Abono de celular, Comidas pagas / subvencionadas', None)]\n"
          ]
        },
        {
          "output_type": "stream",
          "name": "stderr",
          "text": [
            "INFO:sqlalchemy.engine.Engine:[generated in 0.17222s] [(0, 'Mujer', 26, 'Argentina', 'Ciudad Autónoma de Buenos Aires', 3.0, 3.0, 3.0, 0, 'Universitario', 'En curso', 'Ingeniería en Sistemas de Información', 'UTN - Universidad Tecnológica Nacional', 'Sí, los pagó un empleador', 'No', 'Sí', 'Consultant', 'Ninguna', 'Ninguno', 'Ninguno', 'Ninguna', 'Ninguna', 'Ninguno', 'GNU/Linux', 'Android', 'No', 0.0, 'Bruto', 'Full-Time', 53000.0, 43000.0, None, 1, 1, 'No', 'No recibo bono', 'No', 0.0, 0, 'En mi trabajo actual', 'Homosexual', None, None, '501-1000', 'Servicios / Consultoría de Software / Digital', 7, 2, 'Capacitaciones y/o cursos, Comidas pagas / subvencionadas, Cuota para universidad / posgrados, Descuentos varios (Mercado Pago, Clarín 365, Club La Nación, etc), Horarios flexibles, Lactario en la oficina, Licencia de paternidad/maternidad extendida, Viáticos', None), (1, 'Hombre', 29, 'Argentina', 'Corrientes', 5.0, 2.0, 2.0, 4, 'Universitario', 'En curso', 'Ingeniería en Sistemas de Información', 'UTN - Universidad Tecnológica Nacional', 'Sí, de forma particular, Sí, los pagó un empleador', 'No', 'Sí', 'Developer', 'Docker, Google Cloud Platform/App Engine', 'HTML, Javascript, Python', 'Django, jQuery', 'Informix, MySQL, PostgreSQL', 'Ninguna', 'IPython / Jupyter, Sublime Text, Visual Studio Code', 'GNU/Linux', 'Android', 'No', 0.0, 'Bruto', 'Full-Time', 79000.0, 63000.0, None, 2, 2, 'Menos de un sueldo', 'Performance de la compañía', 'Uno', 10.0, 1, 'Jamás', 'Heterosexual', 'Visual', 'No', '201-500', 'Otras industrias', 8, 9, 'Horarios flexibles, Stock options / RSUs, Viáticos', None), (2, 'Mujer', 22, 'Argentina', 'Ciudad Autónoma de Buenos Aires', 2.0, 0.0, 0.0, 0, 'Secundario', 'Completado', None, None, 'Sí, de forma particular, Sí, los pagó un empleador', 'No', 'Sí', 'Infosec', 'Linux, VMWare', 'Ninguno', 'Ninguno', 'Ninguna', 'Ninguna', 'Ninguno', 'Windows', 'iOS', 'No', 0.0, 'Porcentaje de mi sueldo', 'Full-Time', 160000.0, 127000.0, None, 3, 3, 'Un sueldo', 'Performance individual', 'No', 0.0, 0, 'En un trabajo anterior', 'Bisexual o queer', None, 'No', '2001-5000', 'Otras industrias', 6, 9, 'Clases de gimnasia online, Comidas pagas / subvencionadas, Descuentos varios (Mercado Pago, Clarín 365, Club La Nación, etc)', None), (3, 'Hombre', 39, 'Argentina', 'Corrientes', 15.0, 15.0, 13.0, 5, 'Posgrado', 'Incompleto', 'Licenciatura en Sistemas', 'UNNE Universidad Nacional del Nordeste', 'Sí, de forma particular, Sí, los pagó un empleador', 'Sí', 'Sí', 'SysAdmin / DevOps / SRE', 'Docker, Linux, OpenStack, VMWare, Windows Server', 'Bash/Shell, C, CSS, HTML, Java, Javascript, PHP, Python, SQL', 'jQuery, WordPress', 'Microsoft SQL Server, MySQL', 'PHPUnit', 'Eclipse, Visual Studio Code', 'GNU/Linux', 'Android', 'Sí, pasiva', 0.0, 'Bruto', 'Full-Time', 130000.0, 102000.0, None, 3, 1, 'No', 'No recibo bono', 'No', 0.0, 0, 'En mi trabajo actual', 'Heterosexual', None, None, '501-1000', 'Otras industrias', 7, 6, 'Abono de celular, Capacitaciones y/o cursos, Comidas pagas / subvencionadas, Cuota para universidad / posgrados, Horarios flexibles, Lactario en la oficina, Vacaciones flexibles (adicionales a las reglamentarias), Viáticos', None), (4, 'Hombre', 32, 'Argentina', 'Ciudad Autónoma de Buenos Aires', 9.0, 6.0, 6.0, 0, 'Universitario', 'En curso', 'Licenciatura en Ciencias dela Computación', 'UBA - Universidad de Buenos Aires', 'No', 'No', 'Sí', 'Developer', 'Amazon Web Services', 'CSS, HTML, Javascript, SQL, TypeScript', 'Angular, Node.js', 'Amazon DynamoDB, MongoDB, MySQL', 'Jest', 'Vim', 'macOS', 'Android', 'No', 0.0, 'Porcentaje de mi sueldo', 'Full-Time', 140000.0, 106000.0, None, 1, 1, 'Menos de un sueldo', 'Performance individual', 'No', 0.0, 0, 'Jamás', 'Heterosexual', None, None, '11-50', 'Servicios / Consultoría de Software / Digital', 6, 6, 'Clases de idiomas, Horarios flexibles, Vacaciones flexibles (adicionales a las reglamentarias)', None), (5, 'Hombre', 25, 'Argentina', 'Ciudad Autónoma de Buenos Aires', 1.0, 0.0, 0.0, 0, 'Terciario', 'Incompleto', 'Tecnicatura Superior en Programación', 'UTN - Universidad Tecnológica Nacional', 'No', 'No', 'Sí', 'Developer', 'Ninguna', 'Java, Javascript', 'Node.js, React.js, Spark', 'MySQL', 'Jest, JUnit, Postman', 'IntelliJ, Visual Studio Code', 'macOS', 'Android', 'No', 0.0, 'Bruto', 'Full-Time', 54000.0, 44000.0, None, 2, 2, 'No', 'No recibo bono', 'Uno', 15.0, 5, 'Jamás', 'Heterosexual', None, 'No', '10001+', 'Producto basado en Software', 8, 8, 'Clases de gimnasia online, Clases de idiomas, Comidas pagas / subvencionadas', None), (6, 'Hombre', 33, 'Argentina', 'Ciudad Autónoma de Buenos Aires', 1.0, 1.0, 1.0, 0, 'Universitario', 'Incompleto', 'Ingeniería en Informática', 'UBA - Universidad de Buenos Aires', 'Sí, de forma particular, Sí, los pagó un empleador', 'Sí', 'Sí', 'Developer', 'Amazon Web Services, Docker, Linux, Serverless', 'Javascript', 'Node.js', 'MongoDB, MySQL, Redis', 'Postman', 'Visual Studio Code', 'GNU/Linux', 'Android', 'No', 0.0, 'Porcentaje de mi sueldo', 'Full-Time', 75000.0, 62400.0, None, 3, 3, 'No', 'No recibo bono', 'Dos', 8.0, 4, 'Jamás', 'Heterosexual', None, None, '51-100', 'Producto basado en Software', 7, 7, 'Capacitaciones y/o cursos, Clases de gimnasia online, Clases de idiomas, Comidas pagas / subvencionadas, Horarios flexibles, Licencia de paternidad/maternidad extendida, Vacaciones flexibles (adicionales a las reglamentarias)', 'Mercado Libre'), (7, 'Hombre', 23, 'Argentina', 'Provincia de Buenos Aires', 0.0, 0.0, 0.0, 0, 'Terciario', 'En curso', 'Tecnicatura en Programación', 'UTN - Universidad Tecnológica Nacional', 'Sí, de forma particular', 'No', 'Sí', 'Developer', 'IBM Cloud / Watson', 'Java, Javascript', 'Spring, Liferay', 'MySQL', 'Ninguna', 'Eclipse, IntelliJ, NetBeans, Notepad++', 'Windows', 'iOS', 'No', 0.0, 'Porcentaje de mi sueldo', 'Full-Time', 45000.0, 37500.0, None, 2, 2, 'No', 'No recibo bono', 'No', 0.0, 0, 'Jamás', 'Heterosexual', None, None, '11-50', 'Producto basado en Software', 8, 10, 'Ninguna de las anteriores', 'Globant, Accenture, Making Sense, Globalogic')  ... displaying 10 of 6095 total bound parameter sets ...  (6093, 'Hombre', 28, 'Argentina', 'La Pampa', 5.0, 3.0, 2.0, 0, 'Terciario', 'En curso', 'Ingeniería en Sistemas de Información', 'UNLPAM', 'Sí, los pagó un empleador', 'No', 'Sí', 'SysAdmin / DevOps / SRE', 'Amazon Web Services, Docker, Kubernetes, Linux', 'C, C++, HTML, Java, Javascript, PHP, Python, SQL', 'Symfony', 'MariaDB, MongoDB, MySQL, Neo4j, PostgreSQL, Redis', 'PHPUnit, Postman', 'Nano, PHPStorm, PyCharm, Vim, Visual Studio Code', 'GNU/Linux', 'Android', 'Sí, pasiva', 10.0, 'Neto', 'Full-Time', 86000.0, 72.0, None, 2, 1, 'No', 'No recibo bono', 'Uno', 20.0, 3, 'Jamás', 'Heterosexual', None, 'No', '51-100', 'Servicios / Consultoría de Software / Digital', 5, 7, 'Capacitaciones y/o cursos', 'Solo Nubity'), (6094, 'Hombre', 33, 'Argentina', 'GBA', 5.0, 5.0, 3.0, 0, 'Terciario', 'Incompleto', 'Analista de Sistemas', 'UAI - Universidad Abierta Interamericana', 'Sí, de forma particular', 'No', 'No', 'SysAdmin / DevOps / SRE', 'Linux, OpenStack, VMWare, Windows Server', 'Ninguno de los anteriores', 'Ninguno de los anteriores', 'Ninguna de las anteriores', 'Ninguna de las anteriores', 'Ninguno de los anteriores', 'Windows', 'iOS', 'No', 0.0, 'Neto', 'Full-Time', 85000.0, 65000.0, None, 3, 3, 'No', 'No recibo bono', 'Dos', 4.0, 7, 'Jamás', 'Heterosexual', 'no', 'No', '501-1000', 'Otras industrias', 9, 7, 'Abono de celular, Comidas pagas / subvencionadas', None)]\n"
          ]
        },
        {
          "output_type": "stream",
          "name": "stdout",
          "text": [
            "2023-05-13 13:14:49,499 INFO sqlalchemy.engine.Engine COMMIT\n"
          ]
        },
        {
          "output_type": "stream",
          "name": "stderr",
          "text": [
            "INFO:sqlalchemy.engine.Engine:COMMIT\n"
          ]
        },
        {
          "output_type": "execute_result",
          "data": {
            "text/plain": [
              "6095"
            ]
          },
          "metadata": {},
          "execution_count": 7
        }
      ]
    },
    {
      "cell_type": "code",
      "source": [
        "query1 = \"SELECT * FROM survey WHERE salary_monthly_NETO > 100000 LIMIT 10\"\n",
        "query2 = \"SELECT COUNT(1) FROM survey WHERE salary_monthly_NETO > 100000\"\n",
        "query3 = \"SELECT AVG(salary_monthly_NETO) FROM survey\"\n",
        "query4 = \"SELECT AVG(salary_monthly_NETO) FROM survey WHERE profile_gender = 'Mujer'\"\n",
        "query5 = \"SELECT AVG(salary_monthly_NETO) FROM survey WHERE profile_gender = 'Hombre'\"\n",
        "query6 = \"SELECT profile_gender, AVG(salary_monthly_NETO) FROM survey GROUP BY profile_gender\"\n",
        "query7 = \"\"\"\n",
        "SELECT profile_gender, AVG(salary_monthly_NETO)\n",
        "FROM survey\n",
        "WHERE profile_years_experience > 5\n",
        "GROUP BY profile_gender\n",
        "\"\"\"\n",
        "query8 = \"\"\"\n",
        "SELECT profile_gender, work_province, AVG(salary_monthly_NETO) as avg_salary, MAX(salary_monthly_NETO), MIN(salary_monthly_NETO), COUNT(1)\n",
        "FROM survey\n",
        "WHERE profile_years_experience > 5\n",
        "GROUP BY profile_gender, work_province\n",
        "HAVING COUNT(*) > 10\n",
        "ORDER BY  AVG(salary_monthly_NETO) DESC\n",
        "\"\"\"\n",
        "queries = [query1, query2, query3, query4, query5, query6, query7, query8]"
      ],
      "metadata": {
        "id": "ScGvCcW8OqbQ"
      },
      "execution_count": null,
      "outputs": []
    },
    {
      "cell_type": "code",
      "source": [
        "with engine.connect() as con:\n",
        "      rs = con.execute(text(query8))\n",
        "      df_rs = pd.DataFrame(rs.fetchall())\n",
        "      # print(query1)\n",
        "      for row in rs:\n",
        "          print(row)"
      ],
      "metadata": {
        "colab": {
          "base_uri": "https://localhost:8080/"
        },
        "id": "AuEnTp6D-wp9",
        "outputId": "85ab485b-4850-4e0d-d609-e89503c6765d"
      },
      "execution_count": null,
      "outputs": [
        {
          "output_type": "stream",
          "name": "stdout",
          "text": [
            "2023-05-13 13:33:46,387 INFO sqlalchemy.engine.Engine BEGIN (implicit)\n"
          ]
        },
        {
          "output_type": "stream",
          "name": "stderr",
          "text": [
            "INFO:sqlalchemy.engine.Engine:BEGIN (implicit)\n"
          ]
        },
        {
          "output_type": "stream",
          "name": "stdout",
          "text": [
            "2023-05-13 13:33:46,393 INFO sqlalchemy.engine.Engine \n",
            "SELECT profile_gender, work_province, AVG(salary_monthly_NETO) as avg_salary, MAX(salary_monthly_NETO), MIN(salary_monthly_NETO), COUNT(1)\n",
            "FROM survey \n",
            "WHERE profile_years_experience > 5\n",
            "GROUP BY profile_gender, work_province\n",
            "HAVING COUNT(*) > 10\n",
            "ORDER BY  AVG(salary_monthly_NETO) DESC\n",
            "\n"
          ]
        },
        {
          "output_type": "stream",
          "name": "stderr",
          "text": [
            "INFO:sqlalchemy.engine.Engine:\n",
            "SELECT profile_gender, work_province, AVG(salary_monthly_NETO) as avg_salary, MAX(salary_monthly_NETO), MIN(salary_monthly_NETO), COUNT(1)\n",
            "FROM survey \n",
            "WHERE profile_years_experience > 5\n",
            "GROUP BY profile_gender, work_province\n",
            "HAVING COUNT(*) > 10\n",
            "ORDER BY  AVG(salary_monthly_NETO) DESC\n",
            "\n"
          ]
        },
        {
          "output_type": "stream",
          "name": "stdout",
          "text": [
            "2023-05-13 13:33:46,398 INFO sqlalchemy.engine.Engine [generated in 0.01069s] ()\n"
          ]
        },
        {
          "output_type": "stream",
          "name": "stderr",
          "text": [
            "INFO:sqlalchemy.engine.Engine:[generated in 0.01069s] ()\n"
          ]
        },
        {
          "output_type": "stream",
          "name": "stdout",
          "text": [
            "2023-05-13 13:33:46,419 INFO sqlalchemy.engine.Engine ROLLBACK\n"
          ]
        },
        {
          "output_type": "stream",
          "name": "stderr",
          "text": [
            "INFO:sqlalchemy.engine.Engine:ROLLBACK\n"
          ]
        }
      ]
    },
    {
      "cell_type": "code",
      "source": [
        "df_rs"
      ],
      "metadata": {
        "colab": {
          "base_uri": "https://localhost:8080/",
          "height": 645
        },
        "id": "8X78H6hNRBRV",
        "outputId": "5c2a4fba-9295-49c5-aa7d-b96018dcc4e9"
      },
      "execution_count": null,
      "outputs": [
        {
          "output_type": "execute_result",
          "data": {
            "text/plain": [
              "   profile_gender                    work_province     avg_salary  \\\n",
              "0          Hombre                       Entre Ríos  129013.706514   \n",
              "1          Hombre        Provincia de Buenos Aires  127820.819575   \n",
              "2          Hombre                          Córdoba  125733.352000   \n",
              "3           Otros  Ciudad Autónoma de Buenos Aires  123082.727273   \n",
              "4          Hombre  Ciudad Autónoma de Buenos Aires  121328.795081   \n",
              "5          Hombre                          Mendoza  118321.436364   \n",
              "6          Hombre                          Tucumán  109104.375000   \n",
              "7          Hombre                              GBA  106638.984407   \n",
              "8           Mujer                          Córdoba  105162.637826   \n",
              "9          Hombre                         Santa Fe  104178.009345   \n",
              "10          Mujer                         Santa Fe   96222.632963   \n",
              "11         Hombre                           Chubut   94451.411765   \n",
              "12         Hombre                          Neuquén   94383.354000   \n",
              "13         Hombre                        Río Negro   93956.521739   \n",
              "14          Mujer  Ciudad Autónoma de Buenos Aires   90840.829667   \n",
              "15         Hombre                            Jujuy   87766.111111   \n",
              "16          Mujer                              GBA   75773.750000   \n",
              "17          Mujer        Provincia de Buenos Aires   67438.750000   \n",
              "18         Hombre                         Misiones   55646.588235   \n",
              "\n",
              "    MAX(salary_monthly_NETO)  MIN(salary_monthly_NETO)  COUNT(1)  \n",
              "0                   500000.0                    44.378        35  \n",
              "1                  1500000.0                    36.000       269  \n",
              "2                  1030000.0                    30.000       219  \n",
              "3                   312000.0                    40.000        11  \n",
              "4                  2080000.0                     1.000      1855  \n",
              "5                   550000.0                 22000.000        57  \n",
              "6                   850000.0                 24000.000        17  \n",
              "7                   800000.0                    27.000       319  \n",
              "8                   400000.0                     2.000        24  \n",
              "9                  1000000.0                   144.000       177  \n",
              "10                  203000.0                 30000.000        28  \n",
              "11                  200000.0                    44.000        17  \n",
              "12                  159000.0                   133.788        22  \n",
              "13                  400000.0                  5000.000        23  \n",
              "14                  800000.0                    43.392       322  \n",
              "15                  279000.0                    60.000        19  \n",
              "16                  265000.0                    18.000        25  \n",
              "17                  150000.0                    34.000        28  \n",
              "18                  110000.0                    35.000        17  "
            ],
            "text/html": [
              "\n",
              "  <div id=\"df-7227595f-6e1d-449c-90b4-7426df9727ed\">\n",
              "    <div class=\"colab-df-container\">\n",
              "      <div>\n",
              "<style scoped>\n",
              "    .dataframe tbody tr th:only-of-type {\n",
              "        vertical-align: middle;\n",
              "    }\n",
              "\n",
              "    .dataframe tbody tr th {\n",
              "        vertical-align: top;\n",
              "    }\n",
              "\n",
              "    .dataframe thead th {\n",
              "        text-align: right;\n",
              "    }\n",
              "</style>\n",
              "<table border=\"1\" class=\"dataframe\">\n",
              "  <thead>\n",
              "    <tr style=\"text-align: right;\">\n",
              "      <th></th>\n",
              "      <th>profile_gender</th>\n",
              "      <th>work_province</th>\n",
              "      <th>avg_salary</th>\n",
              "      <th>MAX(salary_monthly_NETO)</th>\n",
              "      <th>MIN(salary_monthly_NETO)</th>\n",
              "      <th>COUNT(1)</th>\n",
              "    </tr>\n",
              "  </thead>\n",
              "  <tbody>\n",
              "    <tr>\n",
              "      <th>0</th>\n",
              "      <td>Hombre</td>\n",
              "      <td>Entre Ríos</td>\n",
              "      <td>129013.706514</td>\n",
              "      <td>500000.0</td>\n",
              "      <td>44.378</td>\n",
              "      <td>35</td>\n",
              "    </tr>\n",
              "    <tr>\n",
              "      <th>1</th>\n",
              "      <td>Hombre</td>\n",
              "      <td>Provincia de Buenos Aires</td>\n",
              "      <td>127820.819575</td>\n",
              "      <td>1500000.0</td>\n",
              "      <td>36.000</td>\n",
              "      <td>269</td>\n",
              "    </tr>\n",
              "    <tr>\n",
              "      <th>2</th>\n",
              "      <td>Hombre</td>\n",
              "      <td>Córdoba</td>\n",
              "      <td>125733.352000</td>\n",
              "      <td>1030000.0</td>\n",
              "      <td>30.000</td>\n",
              "      <td>219</td>\n",
              "    </tr>\n",
              "    <tr>\n",
              "      <th>3</th>\n",
              "      <td>Otros</td>\n",
              "      <td>Ciudad Autónoma de Buenos Aires</td>\n",
              "      <td>123082.727273</td>\n",
              "      <td>312000.0</td>\n",
              "      <td>40.000</td>\n",
              "      <td>11</td>\n",
              "    </tr>\n",
              "    <tr>\n",
              "      <th>4</th>\n",
              "      <td>Hombre</td>\n",
              "      <td>Ciudad Autónoma de Buenos Aires</td>\n",
              "      <td>121328.795081</td>\n",
              "      <td>2080000.0</td>\n",
              "      <td>1.000</td>\n",
              "      <td>1855</td>\n",
              "    </tr>\n",
              "    <tr>\n",
              "      <th>5</th>\n",
              "      <td>Hombre</td>\n",
              "      <td>Mendoza</td>\n",
              "      <td>118321.436364</td>\n",
              "      <td>550000.0</td>\n",
              "      <td>22000.000</td>\n",
              "      <td>57</td>\n",
              "    </tr>\n",
              "    <tr>\n",
              "      <th>6</th>\n",
              "      <td>Hombre</td>\n",
              "      <td>Tucumán</td>\n",
              "      <td>109104.375000</td>\n",
              "      <td>850000.0</td>\n",
              "      <td>24000.000</td>\n",
              "      <td>17</td>\n",
              "    </tr>\n",
              "    <tr>\n",
              "      <th>7</th>\n",
              "      <td>Hombre</td>\n",
              "      <td>GBA</td>\n",
              "      <td>106638.984407</td>\n",
              "      <td>800000.0</td>\n",
              "      <td>27.000</td>\n",
              "      <td>319</td>\n",
              "    </tr>\n",
              "    <tr>\n",
              "      <th>8</th>\n",
              "      <td>Mujer</td>\n",
              "      <td>Córdoba</td>\n",
              "      <td>105162.637826</td>\n",
              "      <td>400000.0</td>\n",
              "      <td>2.000</td>\n",
              "      <td>24</td>\n",
              "    </tr>\n",
              "    <tr>\n",
              "      <th>9</th>\n",
              "      <td>Hombre</td>\n",
              "      <td>Santa Fe</td>\n",
              "      <td>104178.009345</td>\n",
              "      <td>1000000.0</td>\n",
              "      <td>144.000</td>\n",
              "      <td>177</td>\n",
              "    </tr>\n",
              "    <tr>\n",
              "      <th>10</th>\n",
              "      <td>Mujer</td>\n",
              "      <td>Santa Fe</td>\n",
              "      <td>96222.632963</td>\n",
              "      <td>203000.0</td>\n",
              "      <td>30000.000</td>\n",
              "      <td>28</td>\n",
              "    </tr>\n",
              "    <tr>\n",
              "      <th>11</th>\n",
              "      <td>Hombre</td>\n",
              "      <td>Chubut</td>\n",
              "      <td>94451.411765</td>\n",
              "      <td>200000.0</td>\n",
              "      <td>44.000</td>\n",
              "      <td>17</td>\n",
              "    </tr>\n",
              "    <tr>\n",
              "      <th>12</th>\n",
              "      <td>Hombre</td>\n",
              "      <td>Neuquén</td>\n",
              "      <td>94383.354000</td>\n",
              "      <td>159000.0</td>\n",
              "      <td>133.788</td>\n",
              "      <td>22</td>\n",
              "    </tr>\n",
              "    <tr>\n",
              "      <th>13</th>\n",
              "      <td>Hombre</td>\n",
              "      <td>Río Negro</td>\n",
              "      <td>93956.521739</td>\n",
              "      <td>400000.0</td>\n",
              "      <td>5000.000</td>\n",
              "      <td>23</td>\n",
              "    </tr>\n",
              "    <tr>\n",
              "      <th>14</th>\n",
              "      <td>Mujer</td>\n",
              "      <td>Ciudad Autónoma de Buenos Aires</td>\n",
              "      <td>90840.829667</td>\n",
              "      <td>800000.0</td>\n",
              "      <td>43.392</td>\n",
              "      <td>322</td>\n",
              "    </tr>\n",
              "    <tr>\n",
              "      <th>15</th>\n",
              "      <td>Hombre</td>\n",
              "      <td>Jujuy</td>\n",
              "      <td>87766.111111</td>\n",
              "      <td>279000.0</td>\n",
              "      <td>60.000</td>\n",
              "      <td>19</td>\n",
              "    </tr>\n",
              "    <tr>\n",
              "      <th>16</th>\n",
              "      <td>Mujer</td>\n",
              "      <td>GBA</td>\n",
              "      <td>75773.750000</td>\n",
              "      <td>265000.0</td>\n",
              "      <td>18.000</td>\n",
              "      <td>25</td>\n",
              "    </tr>\n",
              "    <tr>\n",
              "      <th>17</th>\n",
              "      <td>Mujer</td>\n",
              "      <td>Provincia de Buenos Aires</td>\n",
              "      <td>67438.750000</td>\n",
              "      <td>150000.0</td>\n",
              "      <td>34.000</td>\n",
              "      <td>28</td>\n",
              "    </tr>\n",
              "    <tr>\n",
              "      <th>18</th>\n",
              "      <td>Hombre</td>\n",
              "      <td>Misiones</td>\n",
              "      <td>55646.588235</td>\n",
              "      <td>110000.0</td>\n",
              "      <td>35.000</td>\n",
              "      <td>17</td>\n",
              "    </tr>\n",
              "  </tbody>\n",
              "</table>\n",
              "</div>\n",
              "      <button class=\"colab-df-convert\" onclick=\"convertToInteractive('df-7227595f-6e1d-449c-90b4-7426df9727ed')\"\n",
              "              title=\"Convert this dataframe to an interactive table.\"\n",
              "              style=\"display:none;\">\n",
              "        \n",
              "  <svg xmlns=\"http://www.w3.org/2000/svg\" height=\"24px\"viewBox=\"0 0 24 24\"\n",
              "       width=\"24px\">\n",
              "    <path d=\"M0 0h24v24H0V0z\" fill=\"none\"/>\n",
              "    <path d=\"M18.56 5.44l.94 2.06.94-2.06 2.06-.94-2.06-.94-.94-2.06-.94 2.06-2.06.94zm-11 1L8.5 8.5l.94-2.06 2.06-.94-2.06-.94L8.5 2.5l-.94 2.06-2.06.94zm10 10l.94 2.06.94-2.06 2.06-.94-2.06-.94-.94-2.06-.94 2.06-2.06.94z\"/><path d=\"M17.41 7.96l-1.37-1.37c-.4-.4-.92-.59-1.43-.59-.52 0-1.04.2-1.43.59L10.3 9.45l-7.72 7.72c-.78.78-.78 2.05 0 2.83L4 21.41c.39.39.9.59 1.41.59.51 0 1.02-.2 1.41-.59l7.78-7.78 2.81-2.81c.8-.78.8-2.07 0-2.86zM5.41 20L4 18.59l7.72-7.72 1.47 1.35L5.41 20z\"/>\n",
              "  </svg>\n",
              "      </button>\n",
              "      \n",
              "  <style>\n",
              "    .colab-df-container {\n",
              "      display:flex;\n",
              "      flex-wrap:wrap;\n",
              "      gap: 12px;\n",
              "    }\n",
              "\n",
              "    .colab-df-convert {\n",
              "      background-color: #E8F0FE;\n",
              "      border: none;\n",
              "      border-radius: 50%;\n",
              "      cursor: pointer;\n",
              "      display: none;\n",
              "      fill: #1967D2;\n",
              "      height: 32px;\n",
              "      padding: 0 0 0 0;\n",
              "      width: 32px;\n",
              "    }\n",
              "\n",
              "    .colab-df-convert:hover {\n",
              "      background-color: #E2EBFA;\n",
              "      box-shadow: 0px 1px 2px rgba(60, 64, 67, 0.3), 0px 1px 3px 1px rgba(60, 64, 67, 0.15);\n",
              "      fill: #174EA6;\n",
              "    }\n",
              "\n",
              "    [theme=dark] .colab-df-convert {\n",
              "      background-color: #3B4455;\n",
              "      fill: #D2E3FC;\n",
              "    }\n",
              "\n",
              "    [theme=dark] .colab-df-convert:hover {\n",
              "      background-color: #434B5C;\n",
              "      box-shadow: 0px 1px 3px 1px rgba(0, 0, 0, 0.15);\n",
              "      filter: drop-shadow(0px 1px 2px rgba(0, 0, 0, 0.3));\n",
              "      fill: #FFFFFF;\n",
              "    }\n",
              "  </style>\n",
              "\n",
              "      <script>\n",
              "        const buttonEl =\n",
              "          document.querySelector('#df-7227595f-6e1d-449c-90b4-7426df9727ed button.colab-df-convert');\n",
              "        buttonEl.style.display =\n",
              "          google.colab.kernel.accessAllowed ? 'block' : 'none';\n",
              "\n",
              "        async function convertToInteractive(key) {\n",
              "          const element = document.querySelector('#df-7227595f-6e1d-449c-90b4-7426df9727ed');\n",
              "          const dataTable =\n",
              "            await google.colab.kernel.invokeFunction('convertToInteractive',\n",
              "                                                     [key], {});\n",
              "          if (!dataTable) return;\n",
              "\n",
              "          const docLinkHtml = 'Like what you see? Visit the ' +\n",
              "            '<a target=\"_blank\" href=https://colab.research.google.com/notebooks/data_table.ipynb>data table notebook</a>'\n",
              "            + ' to learn more about interactive tables.';\n",
              "          element.innerHTML = '';\n",
              "          dataTable['output_type'] = 'display_data';\n",
              "          await google.colab.output.renderOutput(dataTable, element);\n",
              "          const docLink = document.createElement('div');\n",
              "          docLink.innerHTML = docLinkHtml;\n",
              "          element.appendChild(docLink);\n",
              "        }\n",
              "      </script>\n",
              "    </div>\n",
              "  </div>\n",
              "  "
            ]
          },
          "metadata": {},
          "execution_count": 27
        }
      ]
    },
    {
      "cell_type": "code",
      "source": [
        "with engine.connect() as con:\n",
        "    for query in queries:\n",
        "      rs = con.execute(text(query))\n",
        "      print(query)\n",
        "      for row in rs:\n",
        "          print(row)\n",
        "\n",
        "      print('\\n\\n')"
      ],
      "metadata": {
        "colab": {
          "base_uri": "https://localhost:8080/"
        },
        "id": "MaN-lhJZGt-q",
        "outputId": "75e6ab8a-b270-4ec2-8f89-20bc3c1e0d27"
      },
      "execution_count": null,
      "outputs": [
        {
          "output_type": "stream",
          "name": "stdout",
          "text": [
            "2023-05-13 00:21:10,500 INFO sqlalchemy.engine.Engine BEGIN (implicit)\n"
          ]
        },
        {
          "output_type": "stream",
          "name": "stderr",
          "text": [
            "INFO:sqlalchemy.engine.Engine:BEGIN (implicit)\n"
          ]
        },
        {
          "output_type": "stream",
          "name": "stdout",
          "text": [
            "2023-05-13 00:21:10,504 INFO sqlalchemy.engine.Engine SELECT * FROM survey WHERE salary_monthly_NETO > 100000 LIMIT 10\n"
          ]
        },
        {
          "output_type": "stream",
          "name": "stderr",
          "text": [
            "INFO:sqlalchemy.engine.Engine:SELECT * FROM survey WHERE salary_monthly_NETO > 100000 LIMIT 10\n"
          ]
        },
        {
          "output_type": "stream",
          "name": "stdout",
          "text": [
            "2023-05-13 00:21:10,507 INFO sqlalchemy.engine.Engine [cached since 263s ago] ()\n"
          ]
        },
        {
          "output_type": "stream",
          "name": "stderr",
          "text": [
            "INFO:sqlalchemy.engine.Engine:[cached since 263s ago] ()\n"
          ]
        },
        {
          "output_type": "stream",
          "name": "stdout",
          "text": [
            "SELECT * FROM survey WHERE salary_monthly_NETO > 100000 LIMIT 10\n",
            "(2, 'Mujer', 22, 'Argentina', 'Ciudad Autónoma de Buenos Aires', 2.0, 0.0, 0.0, 0, 'Secundario', 'Completado', None, None, 'Sí, de forma particular, Sí, los pagó un empleador', 'No', 'Sí', 'Infosec', 'Linux, VMWare', 'Ninguno', 'Ninguno', 'Ninguna', 'Ninguna', 'Ninguno', 'Windows', 'iOS', 'No', 0.0, 'Porcentaje de mi sueldo', 'Full-Time', 160000.0, 127000.0, None, 3, 3, 'Un sueldo', 'Performance individual', 'No', 0.0, 0, 'En un trabajo anterior', 'Bisexual o queer', None, 'No', '2001-5000', 'Otras industrias', 6, 9, 'Clases de gimnasia online, Comidas pagas / subvencionadas, Descuentos varios (Mercado Pago, Clarín 365, Club La Nación, etc)', None)\n",
            "(3, 'Hombre', 39, 'Argentina', 'Corrientes', 15.0, 15.0, 13.0, 5, 'Posgrado', 'Incompleto', 'Licenciatura en Sistemas', 'UNNE Universidad Nacional del Nordeste', 'Sí, de forma particular, Sí, los pagó un empleador', 'Sí', 'Sí', 'SysAdmin / DevOps / SRE', 'Docker, Linux, OpenStack, VMWare, Windows Server', 'Bash/Shell, C, CSS, HTML, Java, Javascript, PHP, Python, SQL', 'jQuery, WordPress', 'Microsoft SQL Server, MySQL', 'PHPUnit', 'Eclipse, Visual Studio Code', 'GNU/Linux', 'Android', 'Sí, pasiva', 0.0, 'Bruto', 'Full-Time', 130000.0, 102000.0, None, 3, 1, 'No', 'No recibo bono', 'No', 0.0, 0, 'En mi trabajo actual', 'Heterosexual', None, None, '501-1000', 'Otras industrias', 7, 6, 'Abono de celular, Capacitaciones y/o cursos, Comidas pagas / subvencionadas, Cuota para universidad / posgrados, Horarios flexibles, Lactario en la oficina, Vacaciones flexibles (adicionales a las reglamentarias), Viáticos', None)\n",
            "(4, 'Hombre', 32, 'Argentina', 'Ciudad Autónoma de Buenos Aires', 9.0, 6.0, 6.0, 0, 'Universitario', 'En curso', 'Licenciatura en Ciencias dela Computación', 'UBA - Universidad de Buenos Aires', 'No', 'No', 'Sí', 'Developer', 'Amazon Web Services', 'CSS, HTML, Javascript, SQL, TypeScript', 'Angular, Node.js', 'Amazon DynamoDB, MongoDB, MySQL', 'Jest', 'Vim', 'macOS', 'Android', 'No', 0.0, 'Porcentaje de mi sueldo', 'Full-Time', 140000.0, 106000.0, None, 1, 1, 'Menos de un sueldo', 'Performance individual', 'No', 0.0, 0, 'Jamás', 'Heterosexual', None, None, '11-50', 'Servicios / Consultoría de Software / Digital', 6, 6, 'Clases de idiomas, Horarios flexibles, Vacaciones flexibles (adicionales a las reglamentarias)', None)\n",
            "(26, 'Hombre', 24, 'Argentina', 'Ciudad Autónoma de Buenos Aires', 3.0, 0.0, 0.0, 0, 'Universitario', 'Incompleto', 'Ingeniería en Sistemas de Información', 'UAI - Universidad Abierta Interamericana', 'Sí, de forma particular', 'Sí', 'Sí', 'Developer', 'Amazon Web Services', 'Java, Javascript, Objective-C, TypeScript', 'Node.js, React.js', 'Ninguna', 'Jest, Mocha', 'Visual Studio Code', 'macOS', 'Android', 'No', 0.0, 'Bruto', 'Full-Time', 260000.0, 200000.0, None, 4, 4, 'De uno a tres sueldos', 'Performance de la compañía', 'Uno', 15.0, 3, 'Jamás', 'Heterosexual', None, None, '11-50', 'Producto basado en Software', 10, 8, 'Capacitaciones y/o cursos, Horarios flexibles, Licencia de paternidad/maternidad extendida', None)\n",
            "(30, 'Hombre', 53, 'Argentina', 'GBA', 30.0, 10.0, 10.0, 5, 'Universitario', 'En curso', 'Licenciatura en Ciencia de Datos', 'UNaB', 'Sí, de forma particular, Sí, los pagó un empleador', 'No', 'Sí', 'SysAdmin / DevOps / SRE', 'Docker, Linux, Windows Server', 'ABAP, Javascript, PHP, Python, SQL', 'Bootstrap, CodeIgniter, Django, jQuery, SAP', 'IBM Db2, MySQL, SQLite', 'PHPUnit', 'Vim, Visual Studio Code', 'GNU/Linux', 'Android', 'No', 0.0, 'Porcentaje de mi sueldo', 'Full-Time', 160000.0, 137000.0, None, 3, 1, 'Menos de un sueldo', 'Performance de la compañía', 'Uno', 8.0, 2, 'En un trabajo anterior', 'Heterosexual', None, None, '201-500', 'Otras industrias', 6, 1, 'Abono de celular, Comidas pagas / subvencionadas, Horarios flexibles, Vacaciones flexibles (adicionales a las reglamentarias)', None)\n",
            "(33, 'Hombre', 35, 'Argentina', 'Ciudad Autónoma de Buenos Aires', 12.0, 4.0, 0.0, 0, 'Universitario', 'Incompleto', 'Licenciatura en Ciencias dela Computación', 'UBA - Universidad de Buenos Aires', 'No', 'Sí', 'No', 'Data Scientist / Data Engineer', 'Amazon Web Services, Linux', 'Bash/Shell, Python', 'Flask', 'Apache Hive, Presto', 'Ninguna', 'Vim', 'GNU/Linux', 'Android', 'Sí, activa', 0.0, 'Porcentaje de mi sueldo', 'Full-Time', 268000.0, 168000.0, None, 4, 4, 'Menos de un sueldo', 'Performance individual', 'Dos', 17.0, 7, 'Jamás', 'Heterosexual', None, 'No', '11-50', 'Producto basado en Software', 5, 3, 'Clases de idiomas, Horarios flexibles', None)\n",
            "(36, 'Hombre', 33, 'Argentina', 'Ciudad Autónoma de Buenos Aires', 14.0, 6.0, 4.0, 38, 'Secundario', 'Completado', None, None, 'Sí, de forma particular, Sí, los pagó un empleador', 'No', 'Sí', 'Manager / Director', 'Amazon Web Services, Azure, Docker, Linux, Windows Server', 'Bash/Shell, Python', 'Ninguno', 'Ninguna', 'Ninguna', 'Ninguno', 'macOS', 'iOS', 'No', 0.0, 'Bruto', 'Full-Time', 196000.0, 132000.0, None, 3, 3, 'De uno a tres sueldos', 'Performance de la compañía', 'Uno', 25.0, 3, 'Jamás', '¿Qué les importa?', None, None, '101-200', 'Servicios / Consultoría de Software / Digital', 9, 10, 'Capacitaciones y/o cursos, Clases de idiomas, Horarios flexibles, Licencia de paternidad/maternidad extendida', None)\n",
            "(39, 'Hombre', 40, 'Argentina', 'Ciudad Autónoma de Buenos Aires', 20.0, 10.0, 5.0, 0, 'Universitario', 'Incompleto', 'Licenciatura en Ciencias dela Computación', 'UBA - Universidad de Buenos Aires', 'No', 'No', 'Sí', 'Architect', 'Amazon Web Services, Azure, Kubernetes, Linux, Serverless', 'Java, Javascript', 'Node.js, React.js, Spring', 'MongoDB, PostgreSQL, Redis', 'JUnit, Katalon, Postman', 'Eclipse, Visual Studio Code', 'Windows', 'Android', 'No', 0.0, 'Bruto', 'Full-Time', 174000.0, 122000.0, None, 1, 2, 'No', 'No recibo bono', 'Uno', 23.0, 6, 'Jamás', 'Heterosexual', None, None, '101-200', 'Servicios / Consultoría de Software / Digital', 5, 10, 'Clases de idiomas, Comidas pagas / subvencionadas, Horarios flexibles', None)\n",
            "(41, 'Hombre', 35, 'Argentina', 'Ciudad Autónoma de Buenos Aires', 15.0, 3.0, 1.5, 16, 'Universitario', 'Incompleto', 'Ingeniería en Informática', 'UFASTA', 'Sí, los pagó un empleador', 'Sí', 'No', 'Manager / Director', 'Amazon Web Services, Docker, Google Cloud Platform/App Engine, IBM Cloud / Watson, Kubernetes, Linux', 'Bash/Shell, Go, Python', 'Ninguno', 'Cassandra, ElasticSearch, MariaDB, PostgreSQL', 'Ninguna', 'Atom, Vim', 'macOS', 'iOS', 'Sí, pasiva', 0.0, 'Porcentaje de mi sueldo', 'Full-Time', 450000.0, 280000.0, 'Mi sueldo está dolarizado', 3, 2, 'De uno a tres sueldos', 'Performance de la compañía', 'No', 0.0, 0, 'Jamás', 'Heterosexual', None, 'No', '201-500', 'Producto basado en Software', 9, 10, 'Abono de celular, Capacitaciones y/o cursos, Clases de idiomas, Comidas pagas / subvencionadas, Estacionamiento gratuito / subvencionado, Horarios fl ... (6 characters truncated) ... s, Lactario en la oficina, Licencia de paternidad/maternidad extendida, Stock options / RSUs, Vacaciones flexibles (adicionales a las reglamentarias)', 'Medallia, auth0, wildlife')\n",
            "(42, 'Hombre', 30, 'Argentina', 'Ciudad Autónoma de Buenos Aires', 10.0, 7.0, 0.0, 0, 'Universitario', 'Completado', 'Licenciatura en Informática', 'UTN - Universidad Tecnológica Nacional', 'Sí, de forma particular', 'No', 'No', 'Developer', 'Docker, Kubernetes', 'Go', 'Ninguno', 'MySQL', 'Postman, SoapUI', 'Visual Studio Code', 'macOS', 'Android', 'No', 0.0, 'Porcentaje de mi sueldo', 'Full-Time', 180000.0, 130000.0, None, 3, 2, 'Menos de un sueldo', 'Mix de las anteriores', 'Uno', 10.0, 7, 'Jamás', 'Heterosexual', None, None, '5001-10000', 'Producto basado en Software', 9, 9, 'Clases de gimnasia online, Clases de idiomas, Comidas pagas / subvencionadas, Cuota para universidad / posgrados, Descuentos varios (Mercado Pago, Clarín 365, Club La Nación, etc), Lactario en la oficina, Licencia de paternidad/maternidad extendida', 'Mercado libre')\n",
            "\n",
            "\n",
            "\n",
            "2023-05-13 00:21:10,511 INFO sqlalchemy.engine.Engine SELECT COUNT(1) FROM survey WHERE salary_monthly_NETO > 100000\n"
          ]
        },
        {
          "output_type": "stream",
          "name": "stderr",
          "text": [
            "INFO:sqlalchemy.engine.Engine:SELECT COUNT(1) FROM survey WHERE salary_monthly_NETO > 100000\n"
          ]
        },
        {
          "output_type": "stream",
          "name": "stdout",
          "text": [
            "2023-05-13 00:21:10,513 INFO sqlalchemy.engine.Engine [cached since 199.3s ago] ()\n"
          ]
        },
        {
          "output_type": "stream",
          "name": "stderr",
          "text": [
            "INFO:sqlalchemy.engine.Engine:[cached since 199.3s ago] ()\n"
          ]
        },
        {
          "output_type": "stream",
          "name": "stdout",
          "text": [
            "SELECT COUNT(1) FROM survey WHERE salary_monthly_NETO > 100000\n",
            "(1657,)\n",
            "\n",
            "\n",
            "\n",
            "2023-05-13 00:21:10,519 INFO sqlalchemy.engine.Engine SELECT AVG(salary_monthly_NETO) FROM survey\n"
          ]
        },
        {
          "output_type": "stream",
          "name": "stderr",
          "text": [
            "INFO:sqlalchemy.engine.Engine:SELECT AVG(salary_monthly_NETO) FROM survey\n"
          ]
        },
        {
          "output_type": "stream",
          "name": "stdout",
          "text": [
            "2023-05-13 00:21:10,522 INFO sqlalchemy.engine.Engine [cached since 175.4s ago] ()\n"
          ]
        },
        {
          "output_type": "stream",
          "name": "stderr",
          "text": [
            "INFO:sqlalchemy.engine.Engine:[cached since 175.4s ago] ()\n"
          ]
        },
        {
          "output_type": "stream",
          "name": "stdout",
          "text": [
            "SELECT AVG(salary_monthly_NETO) FROM survey\n",
            "(94907.9491018188,)\n",
            "\n",
            "\n",
            "\n",
            "2023-05-13 00:21:10,528 INFO sqlalchemy.engine.Engine SELECT AVG(salary_monthly_NETO) FROM survey WHERE profile_gender = 'Mujer'\n"
          ]
        },
        {
          "output_type": "stream",
          "name": "stderr",
          "text": [
            "INFO:sqlalchemy.engine.Engine:SELECT AVG(salary_monthly_NETO) FROM survey WHERE profile_gender = 'Mujer'\n"
          ]
        },
        {
          "output_type": "stream",
          "name": "stdout",
          "text": [
            "2023-05-13 00:21:10,530 INFO sqlalchemy.engine.Engine [generated in 0.00259s] ()\n"
          ]
        },
        {
          "output_type": "stream",
          "name": "stderr",
          "text": [
            "INFO:sqlalchemy.engine.Engine:[generated in 0.00259s] ()\n"
          ]
        },
        {
          "output_type": "stream",
          "name": "stdout",
          "text": [
            "SELECT AVG(salary_monthly_NETO) FROM survey WHERE profile_gender = 'Mujer'\n",
            "(73501.4144647577,)\n",
            "\n",
            "\n",
            "\n",
            "2023-05-13 00:21:10,535 INFO sqlalchemy.engine.Engine SELECT AVG(salary_monthly_NETO) FROM survey WHERE profile_gender = 'Hombre'\n"
          ]
        },
        {
          "output_type": "stream",
          "name": "stderr",
          "text": [
            "INFO:sqlalchemy.engine.Engine:SELECT AVG(salary_monthly_NETO) FROM survey WHERE profile_gender = 'Hombre'\n"
          ]
        },
        {
          "output_type": "stream",
          "name": "stdout",
          "text": [
            "2023-05-13 00:21:10,538 INFO sqlalchemy.engine.Engine [generated in 0.00257s] ()\n"
          ]
        },
        {
          "output_type": "stream",
          "name": "stderr",
          "text": [
            "INFO:sqlalchemy.engine.Engine:[generated in 0.00257s] ()\n"
          ]
        },
        {
          "output_type": "stream",
          "name": "stdout",
          "text": [
            "SELECT AVG(salary_monthly_NETO) FROM survey WHERE profile_gender = 'Hombre'\n",
            "(98836.06355825246,)\n",
            "\n",
            "\n",
            "\n",
            "2023-05-13 00:21:10,544 INFO sqlalchemy.engine.Engine SELECT profile_gender, AVG(salary_monthly_NETO) FROM survey GROUP BY profile_gender\n"
          ]
        },
        {
          "output_type": "stream",
          "name": "stderr",
          "text": [
            "INFO:sqlalchemy.engine.Engine:SELECT profile_gender, AVG(salary_monthly_NETO) FROM survey GROUP BY profile_gender\n"
          ]
        },
        {
          "output_type": "stream",
          "name": "stdout",
          "text": [
            "2023-05-13 00:21:10,546 INFO sqlalchemy.engine.Engine [generated in 0.00254s] ()\n"
          ]
        },
        {
          "output_type": "stream",
          "name": "stderr",
          "text": [
            "INFO:sqlalchemy.engine.Engine:[generated in 0.00254s] ()\n"
          ]
        },
        {
          "output_type": "stream",
          "name": "stdout",
          "text": [
            "SELECT profile_gender, AVG(salary_monthly_NETO) FROM survey GROUP BY profile_gender\n",
            "('Hombre', 98836.06355825246)\n",
            "('Mujer', 73501.4144647577)\n",
            "('Otros', 95441.35483870968)\n",
            "\n",
            "\n",
            "\n",
            "2023-05-13 00:21:10,563 INFO sqlalchemy.engine.Engine \n",
            "SELECT profile_gender, AVG(salary_monthly_NETO) \n",
            "FROM survey \n",
            "WHERE profile_years_experience > 5\n",
            "GROUP BY profile_gender\n",
            "\n"
          ]
        },
        {
          "output_type": "stream",
          "name": "stderr",
          "text": [
            "INFO:sqlalchemy.engine.Engine:\n",
            "SELECT profile_gender, AVG(salary_monthly_NETO) \n",
            "FROM survey \n",
            "WHERE profile_years_experience > 5\n",
            "GROUP BY profile_gender\n",
            "\n"
          ]
        },
        {
          "output_type": "stream",
          "name": "stdout",
          "text": [
            "2023-05-13 00:21:10,565 INFO sqlalchemy.engine.Engine [generated in 0.00220s] ()\n"
          ]
        },
        {
          "output_type": "stream",
          "name": "stderr",
          "text": [
            "INFO:sqlalchemy.engine.Engine:[generated in 0.00220s] ()\n"
          ]
        },
        {
          "output_type": "stream",
          "name": "stdout",
          "text": [
            "\n",
            "SELECT profile_gender, AVG(salary_monthly_NETO) \n",
            "FROM survey \n",
            "WHERE profile_years_experience > 5\n",
            "GROUP BY profile_gender\n",
            "\n",
            "('Hombre', 117715.70699665888)\n",
            "('Mujer', 89313.04217633411)\n",
            "('Otros', 128284.42857142857)\n",
            "\n",
            "\n",
            "\n",
            "2023-05-13 00:21:10,572 INFO sqlalchemy.engine.Engine \n",
            "SELECT profile_gender, AVG(salary_monthly_NETO) as avg_salary, MAX(salary_monthly_NETO), MIN(salary_monthly_NETO), COUNT(1)\n",
            "FROM survey \n",
            "WHERE profile_years_experience > 5\n",
            "GROUP BY profile_gender\n",
            "HAVING COUNT(*) > 100\n",
            "ORDER BY  AVG(salary_monthly_NETO) DESC\n",
            "\n"
          ]
        },
        {
          "output_type": "stream",
          "name": "stderr",
          "text": [
            "INFO:sqlalchemy.engine.Engine:\n",
            "SELECT profile_gender, AVG(salary_monthly_NETO) as avg_salary, MAX(salary_monthly_NETO), MIN(salary_monthly_NETO), COUNT(1)\n",
            "FROM survey \n",
            "WHERE profile_years_experience > 5\n",
            "GROUP BY profile_gender\n",
            "HAVING COUNT(*) > 100\n",
            "ORDER BY  AVG(salary_monthly_NETO) DESC\n",
            "\n"
          ]
        },
        {
          "output_type": "stream",
          "name": "stdout",
          "text": [
            "2023-05-13 00:21:10,574 INFO sqlalchemy.engine.Engine [generated in 0.00267s] ()\n"
          ]
        },
        {
          "output_type": "stream",
          "name": "stderr",
          "text": [
            "INFO:sqlalchemy.engine.Engine:[generated in 0.00267s] ()\n"
          ]
        },
        {
          "output_type": "stream",
          "name": "stdout",
          "text": [
            "\n",
            "SELECT profile_gender, AVG(salary_monthly_NETO) as avg_salary, MAX(salary_monthly_NETO), MIN(salary_monthly_NETO), COUNT(1)\n",
            "FROM survey \n",
            "WHERE profile_years_experience > 5\n",
            "GROUP BY profile_gender\n",
            "HAVING COUNT(*) > 100\n",
            "ORDER BY  AVG(salary_monthly_NETO) DESC\n",
            "\n",
            "('Hombre', 117715.70699665888, 2080000.0, 1.0, 3116)\n",
            "('Mujer', 89313.04217633411, 800000.0, 2.0, 450)\n",
            "\n",
            "\n",
            "\n",
            "2023-05-13 00:21:10,593 INFO sqlalchemy.engine.Engine ROLLBACK\n"
          ]
        },
        {
          "output_type": "stream",
          "name": "stderr",
          "text": [
            "INFO:sqlalchemy.engine.Engine:ROLLBACK\n"
          ]
        }
      ]
    },
    {
      "cell_type": "code",
      "source": [
        "conn = engine.connect()"
      ],
      "metadata": {
        "id": "DsHMfh3OMRR-"
      },
      "execution_count": null,
      "outputs": []
    },
    {
      "cell_type": "code",
      "source": [
        "result = conn.execute(text('SELECT COUNT(1) FROM survey WHERE salary_monthly_NETO > 100000'))\n",
        "print(result.all())"
      ],
      "metadata": {
        "colab": {
          "base_uri": "https://localhost:8080/"
        },
        "id": "HRSjKMOuLuMA",
        "outputId": "04c6e1e4-0ed4-449e-ebdc-4a0f901815ee"
      },
      "execution_count": null,
      "outputs": [
        {
          "output_type": "stream",
          "name": "stdout",
          "text": [
            "2023-05-13 00:21:54,556 INFO sqlalchemy.engine.Engine BEGIN (implicit)\n"
          ]
        },
        {
          "output_type": "stream",
          "name": "stderr",
          "text": [
            "INFO:sqlalchemy.engine.Engine:BEGIN (implicit)\n"
          ]
        },
        {
          "output_type": "stream",
          "name": "stdout",
          "text": [
            "2023-05-13 00:21:54,564 INFO sqlalchemy.engine.Engine SELECT COUNT(1) FROM survey WHERE salary_monthly_NETO > 100000\n"
          ]
        },
        {
          "output_type": "stream",
          "name": "stderr",
          "text": [
            "INFO:sqlalchemy.engine.Engine:SELECT COUNT(1) FROM survey WHERE salary_monthly_NETO > 100000\n"
          ]
        },
        {
          "output_type": "stream",
          "name": "stdout",
          "text": [
            "2023-05-13 00:21:54,565 INFO sqlalchemy.engine.Engine [cached since 243.4s ago] ()\n"
          ]
        },
        {
          "output_type": "stream",
          "name": "stderr",
          "text": [
            "INFO:sqlalchemy.engine.Engine:[cached since 243.4s ago] ()\n"
          ]
        },
        {
          "output_type": "stream",
          "name": "stdout",
          "text": [
            "[(1657,)]\n"
          ]
        }
      ]
    },
    {
      "cell_type": "code",
      "source": [],
      "metadata": {
        "id": "scpCZUtNNPeg"
      },
      "execution_count": null,
      "outputs": []
    }
  ]
}