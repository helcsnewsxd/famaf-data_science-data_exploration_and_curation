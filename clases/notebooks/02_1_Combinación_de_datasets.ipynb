{
  "cells": [
    {
      "cell_type": "markdown",
      "metadata": {
        "id": "zO4bRoxr2Apy"
      },
      "source": [
        "**Diplomatura en Ciencia de Datos, Aprendizaje Automático y sus Aplicaciones**\n",
        "\n",
        "**Exploración y Curación de Datos**\n",
        "\n",
        "*Edición 2024*\n",
        "\n",
        "----\n",
        "\n",
        "# Combinación de conjuntos de datos\n",
        "\n",
        "En esta notebook, vamos a cargar el conjunto de datos de [la compentencia Kaggle](https://www.kaggle.com/dansbecker/melbourne-housing-snapshot) sobre estimación de precios de ventas de propiedades en Melbourne, Australia.\n",
        "\n",
        "Utilizaremos el conjunto de datos reducido producido por [DanB](https://www.kaggle.com/dansbecker). Hemos subido una copia a un servidor de la Universidad Nacional de Córdoba para facilitar su acceso remoto."
      ]
    },
    {
      "cell_type": "code",
      "execution_count": 1,
      "metadata": {
        "id": "4udjxjk1EtVU"
      },
      "outputs": [],
      "source": [
        "import matplotlib.pyplot as plt\n",
        "import numpy\n",
        "import pandas\n",
        "\n",
        "import seaborn\n",
        "seaborn.set_context('talk')"
      ]
    },
    {
      "cell_type": "code",
      "execution_count": 2,
      "metadata": {
        "colab": {
          "base_uri": "https://localhost:8080/",
          "height": 36
        },
        "id": "3XdIsB8hISis",
        "outputId": "ad788653-fddb-45d7-c605-55327f4a2d87"
      },
      "outputs": [
        {
          "data": {
            "text/plain": [
              "'5.19.0'"
            ]
          },
          "execution_count": 2,
          "metadata": {},
          "output_type": "execute_result"
        }
      ],
      "source": [
        "import plotly\n",
        "plotly.__version__\n"
      ]
    },
    {
      "cell_type": "code",
      "execution_count": null,
      "metadata": {
        "id": "i2nqY0GGIVn2"
      },
      "outputs": [],
      "source": [
        "# To update plotly, uncomment and run the following line:\n",
        "# !pip install plotly --upgrade"
      ]
    },
    {
      "cell_type": "code",
      "execution_count": 3,
      "metadata": {
        "colab": {
          "base_uri": "https://localhost:8080/",
          "height": 306
        },
        "id": "_qeFN3GnEvMk",
        "outputId": "e8760a88-e88e-41b8-c121-292aeebe8509"
      },
      "outputs": [
        {
          "data": {
            "text/html": [
              "<div>\n",
              "<style scoped>\n",
              "    .dataframe tbody tr th:only-of-type {\n",
              "        vertical-align: middle;\n",
              "    }\n",
              "\n",
              "    .dataframe tbody tr th {\n",
              "        vertical-align: top;\n",
              "    }\n",
              "\n",
              "    .dataframe thead th {\n",
              "        text-align: right;\n",
              "    }\n",
              "</style>\n",
              "<table border=\"1\" class=\"dataframe\">\n",
              "  <thead>\n",
              "    <tr style=\"text-align: right;\">\n",
              "      <th></th>\n",
              "      <th>Suburb</th>\n",
              "      <th>Address</th>\n",
              "      <th>Rooms</th>\n",
              "      <th>Type</th>\n",
              "      <th>Price</th>\n",
              "      <th>Method</th>\n",
              "      <th>SellerG</th>\n",
              "      <th>Date</th>\n",
              "      <th>Distance</th>\n",
              "      <th>Postcode</th>\n",
              "      <th>...</th>\n",
              "      <th>Bathroom</th>\n",
              "      <th>Car</th>\n",
              "      <th>Landsize</th>\n",
              "      <th>BuildingArea</th>\n",
              "      <th>YearBuilt</th>\n",
              "      <th>CouncilArea</th>\n",
              "      <th>Lattitude</th>\n",
              "      <th>Longtitude</th>\n",
              "      <th>Regionname</th>\n",
              "      <th>Propertycount</th>\n",
              "    </tr>\n",
              "  </thead>\n",
              "  <tbody>\n",
              "    <tr>\n",
              "      <th>0</th>\n",
              "      <td>Abbotsford</td>\n",
              "      <td>85 Turner St</td>\n",
              "      <td>2</td>\n",
              "      <td>h</td>\n",
              "      <td>1480000.0</td>\n",
              "      <td>S</td>\n",
              "      <td>Biggin</td>\n",
              "      <td>3/12/2016</td>\n",
              "      <td>2.5</td>\n",
              "      <td>3067.0</td>\n",
              "      <td>...</td>\n",
              "      <td>1.0</td>\n",
              "      <td>1.0</td>\n",
              "      <td>202.0</td>\n",
              "      <td>NaN</td>\n",
              "      <td>NaN</td>\n",
              "      <td>Yarra</td>\n",
              "      <td>-37.7996</td>\n",
              "      <td>144.9984</td>\n",
              "      <td>Northern Metropolitan</td>\n",
              "      <td>4019.0</td>\n",
              "    </tr>\n",
              "    <tr>\n",
              "      <th>1</th>\n",
              "      <td>Abbotsford</td>\n",
              "      <td>25 Bloomburg St</td>\n",
              "      <td>2</td>\n",
              "      <td>h</td>\n",
              "      <td>1035000.0</td>\n",
              "      <td>S</td>\n",
              "      <td>Biggin</td>\n",
              "      <td>4/02/2016</td>\n",
              "      <td>2.5</td>\n",
              "      <td>3067.0</td>\n",
              "      <td>...</td>\n",
              "      <td>1.0</td>\n",
              "      <td>0.0</td>\n",
              "      <td>156.0</td>\n",
              "      <td>79.0</td>\n",
              "      <td>1900.0</td>\n",
              "      <td>Yarra</td>\n",
              "      <td>-37.8079</td>\n",
              "      <td>144.9934</td>\n",
              "      <td>Northern Metropolitan</td>\n",
              "      <td>4019.0</td>\n",
              "    </tr>\n",
              "    <tr>\n",
              "      <th>2</th>\n",
              "      <td>Abbotsford</td>\n",
              "      <td>5 Charles St</td>\n",
              "      <td>3</td>\n",
              "      <td>h</td>\n",
              "      <td>1465000.0</td>\n",
              "      <td>SP</td>\n",
              "      <td>Biggin</td>\n",
              "      <td>4/03/2017</td>\n",
              "      <td>2.5</td>\n",
              "      <td>3067.0</td>\n",
              "      <td>...</td>\n",
              "      <td>2.0</td>\n",
              "      <td>0.0</td>\n",
              "      <td>134.0</td>\n",
              "      <td>150.0</td>\n",
              "      <td>1900.0</td>\n",
              "      <td>Yarra</td>\n",
              "      <td>-37.8093</td>\n",
              "      <td>144.9944</td>\n",
              "      <td>Northern Metropolitan</td>\n",
              "      <td>4019.0</td>\n",
              "    </tr>\n",
              "  </tbody>\n",
              "</table>\n",
              "<p>3 rows × 21 columns</p>\n",
              "</div>"
            ],
            "text/plain": [
              "       Suburb          Address  Rooms Type      Price Method SellerG  \\\n",
              "0  Abbotsford     85 Turner St      2    h  1480000.0      S  Biggin   \n",
              "1  Abbotsford  25 Bloomburg St      2    h  1035000.0      S  Biggin   \n",
              "2  Abbotsford     5 Charles St      3    h  1465000.0     SP  Biggin   \n",
              "\n",
              "        Date  Distance  Postcode  ...  Bathroom  Car  Landsize  BuildingArea  \\\n",
              "0  3/12/2016       2.5    3067.0  ...       1.0  1.0     202.0           NaN   \n",
              "1  4/02/2016       2.5    3067.0  ...       1.0  0.0     156.0          79.0   \n",
              "2  4/03/2017       2.5    3067.0  ...       2.0  0.0     134.0         150.0   \n",
              "\n",
              "   YearBuilt  CouncilArea Lattitude  Longtitude             Regionname  \\\n",
              "0        NaN        Yarra  -37.7996    144.9984  Northern Metropolitan   \n",
              "1     1900.0        Yarra  -37.8079    144.9934  Northern Metropolitan   \n",
              "2     1900.0        Yarra  -37.8093    144.9944  Northern Metropolitan   \n",
              "\n",
              "  Propertycount  \n",
              "0        4019.0  \n",
              "1        4019.0  \n",
              "2        4019.0  \n",
              "\n",
              "[3 rows x 21 columns]"
            ]
          },
          "execution_count": 3,
          "metadata": {},
          "output_type": "execute_result"
        }
      ],
      "source": [
        "melb_df = pandas.read_csv(\n",
        "    'https://cs.famaf.unc.edu.ar/~mteruel/datasets/diplodatos/melb_data.csv')\n",
        "melb_df[:3]"
      ]
    },
    {
      "cell_type": "code",
      "execution_count": 4,
      "metadata": {
        "colab": {
          "base_uri": "https://localhost:8080/"
        },
        "id": "ixoAcscXh2FR",
        "outputId": "de619f40-cf72-44ac-97dd-9ab7c946336f"
      },
      "outputs": [
        {
          "data": {
            "text/plain": [
              "(13580, 21)"
            ]
          },
          "execution_count": 4,
          "metadata": {},
          "output_type": "execute_result"
        }
      ],
      "source": [
        "melb_df.shape"
      ]
    },
    {
      "cell_type": "markdown",
      "metadata": {
        "id": "s-mixICN22kA"
      },
      "source": [
        "## Datos adicionales\n",
        "\n",
        "Vamos a aumentar los datos presentes en el conjunto dado con un dataset similar: las publicaciones de la plataforma AirBnB en Melbourne en el año 2018. El objetivo es estimar con mayor precisión el valor del vecindario de cada propiedad.\n",
        "\n",
        "Para ello, utilizaremos [un conjunto de datos](https://www.kaggle.com/tylerx/melbourne-airbnb-open-data?select=cleansed_listings_dec18.csv) de *scrapings* del sitio realizado por [Tyler Xie](https://www.kaggle.com/tylerx), también disponible en una competencia de Kaggle."
      ]
    },
    {
      "cell_type": "code",
      "execution_count": 5,
      "metadata": {
        "colab": {
          "base_uri": "https://localhost:8080/"
        },
        "id": "k3Z2vxNHJfJK",
        "outputId": "33ce6f30-d44e-42dd-8157-d7ad1fbcbd99"
      },
      "outputs": [
        {
          "name": "stderr",
          "output_type": "stream",
          "text": [
            "C:\\Users\\emanu\\AppData\\Local\\Temp\\ipykernel_19024\\172457013.py:9: DtypeWarning: Columns (35) have mixed types. Specify dtype option on import or set low_memory=False.\n",
            "  airbnb_df = pandas.read_csv(\n"
          ]
        }
      ],
      "source": [
        "# data source:\n",
        "# https://www.kaggle.com/tylerx/melbourne-airbnb-open-data?select=cleansed_listings_dec18.csv\n",
        "interesting_cols = [\n",
        "  'description', 'neighborhood_overview',\n",
        "  'street', 'neighborhood', 'city', 'suburb', 'state', 'zipcode',\n",
        "  'price', 'weekly_price', 'monthly_price',\n",
        "  'latitude', 'longitude',\n",
        "]\n",
        "airbnb_df = pandas.read_csv(\n",
        "    'https://cs.famaf.unc.edu.ar/~mteruel/datasets/diplodatos/cleansed_listings_dec18.csv',\n",
        "    usecols=interesting_cols)"
      ]
    },
    {
      "cell_type": "code",
      "execution_count": 6,
      "metadata": {
        "colab": {
          "base_uri": "https://localhost:8080/",
          "height": 381
        },
        "id": "bc55TFlhF6tP",
        "outputId": "74f76975-c6d7-4110-82c8-f4068b3897fc"
      },
      "outputs": [
        {
          "data": {
            "text/html": [
              "<div>\n",
              "<style scoped>\n",
              "    .dataframe tbody tr th:only-of-type {\n",
              "        vertical-align: middle;\n",
              "    }\n",
              "\n",
              "    .dataframe tbody tr th {\n",
              "        vertical-align: top;\n",
              "    }\n",
              "\n",
              "    .dataframe thead th {\n",
              "        text-align: right;\n",
              "    }\n",
              "</style>\n",
              "<table border=\"1\" class=\"dataframe\">\n",
              "  <thead>\n",
              "    <tr style=\"text-align: right;\">\n",
              "      <th></th>\n",
              "      <th>description</th>\n",
              "      <th>neighborhood_overview</th>\n",
              "      <th>street</th>\n",
              "      <th>neighborhood</th>\n",
              "      <th>city</th>\n",
              "      <th>suburb</th>\n",
              "      <th>state</th>\n",
              "      <th>zipcode</th>\n",
              "      <th>latitude</th>\n",
              "      <th>longitude</th>\n",
              "      <th>price</th>\n",
              "      <th>weekly_price</th>\n",
              "      <th>monthly_price</th>\n",
              "    </tr>\n",
              "  </thead>\n",
              "  <tbody>\n",
              "    <tr>\n",
              "      <th>0</th>\n",
              "      <td>House: Clean, New, Modern, Quite, Safe. 10Km f...</td>\n",
              "      <td>Very safe! Family oriented. Older age group.</td>\n",
              "      <td>Bulleen, VIC, Australia</td>\n",
              "      <td>Balwyn North</td>\n",
              "      <td>Manningham</td>\n",
              "      <td>Bulleen</td>\n",
              "      <td>VIC</td>\n",
              "      <td>3105</td>\n",
              "      <td>-37.772684</td>\n",
              "      <td>145.092133</td>\n",
              "      <td>60</td>\n",
              "      <td>NaN</td>\n",
              "      <td>NaN</td>\n",
              "    </tr>\n",
              "    <tr>\n",
              "      <th>1</th>\n",
              "      <td>A large air conditioned room with queen spring...</td>\n",
              "      <td>This hip area is a crossroads between two grea...</td>\n",
              "      <td>Brunswick East, VIC, Australia</td>\n",
              "      <td>Brunswick</td>\n",
              "      <td>Moreland</td>\n",
              "      <td>Brunswick East</td>\n",
              "      <td>VIC</td>\n",
              "      <td>3057</td>\n",
              "      <td>-37.766505</td>\n",
              "      <td>144.980736</td>\n",
              "      <td>35</td>\n",
              "      <td>200.0</td>\n",
              "      <td>803.0</td>\n",
              "    </tr>\n",
              "    <tr>\n",
              "      <th>2</th>\n",
              "      <td>RIGHT IN THE HEART OF ST KILDA! It doesn't get...</td>\n",
              "      <td>A stay at our apartment means you can enjoy so...</td>\n",
              "      <td>St Kilda, VIC, Australia</td>\n",
              "      <td>St Kilda</td>\n",
              "      <td>Port Phillip</td>\n",
              "      <td>St Kilda</td>\n",
              "      <td>VIC</td>\n",
              "      <td>3182</td>\n",
              "      <td>-37.859755</td>\n",
              "      <td>144.977369</td>\n",
              "      <td>159</td>\n",
              "      <td>1253.0</td>\n",
              "      <td>4452.0</td>\n",
              "    </tr>\n",
              "  </tbody>\n",
              "</table>\n",
              "</div>"
            ],
            "text/plain": [
              "                                         description  \\\n",
              "0  House: Clean, New, Modern, Quite, Safe. 10Km f...   \n",
              "1  A large air conditioned room with queen spring...   \n",
              "2  RIGHT IN THE HEART OF ST KILDA! It doesn't get...   \n",
              "\n",
              "                               neighborhood_overview  \\\n",
              "0       Very safe! Family oriented. Older age group.   \n",
              "1  This hip area is a crossroads between two grea...   \n",
              "2  A stay at our apartment means you can enjoy so...   \n",
              "\n",
              "                           street  neighborhood          city          suburb  \\\n",
              "0         Bulleen, VIC, Australia  Balwyn North    Manningham         Bulleen   \n",
              "1  Brunswick East, VIC, Australia     Brunswick      Moreland  Brunswick East   \n",
              "2        St Kilda, VIC, Australia      St Kilda  Port Phillip        St Kilda   \n",
              "\n",
              "  state zipcode   latitude   longitude  price  weekly_price  monthly_price  \n",
              "0   VIC    3105 -37.772684  145.092133     60           NaN            NaN  \n",
              "1   VIC    3057 -37.766505  144.980736     35         200.0          803.0  \n",
              "2   VIC    3182 -37.859755  144.977369    159        1253.0         4452.0  "
            ]
          },
          "execution_count": 6,
          "metadata": {},
          "output_type": "execute_result"
        }
      ],
      "source": [
        "airbnb_df[:3]"
      ]
    },
    {
      "cell_type": "code",
      "execution_count": 7,
      "metadata": {
        "colab": {
          "base_uri": "https://localhost:8080/"
        },
        "id": "kdqexZvsJTcT",
        "outputId": "340c46e6-1009-4502-a56e-fa75e068e1d5"
      },
      "outputs": [
        {
          "data": {
            "text/plain": [
              "22895"
            ]
          },
          "execution_count": 7,
          "metadata": {},
          "output_type": "execute_result"
        }
      ],
      "source": [
        "len(airbnb_df)"
      ]
    },
    {
      "cell_type": "markdown",
      "metadata": {
        "id": "ismngxPcfoWb"
      },
      "source": [
        "Para poder realizar esta combinación de datos, tenemos que encontrar una columna que contenga información en común. Utilizaremos el zipcode.\n",
        "\n",
        "* ¿Qué desventajas tiene utilizar el zipcode para agregar información sobre la vecindad de cada propiedad en venta? ¿Se corresponde con lo que entendemos intuitivamente como vecindad?\n",
        "* ¿Qué otros métodos podrían utilizarse?"
      ]
    },
    {
      "cell_type": "code",
      "execution_count": 8,
      "metadata": {
        "colab": {
          "base_uri": "https://localhost:8080/"
        },
        "id": "dTss9P-PgGOi",
        "outputId": "f02115fc-1383-410e-bc88-8156da6f9104"
      },
      "outputs": [
        {
          "data": {
            "text/plain": [
              "zipcode\n",
              "3000.0    2491\n",
              "3000       876\n",
              "3006.0     860\n",
              "3182.0     579\n",
              "3182       556\n",
              "Name: count, dtype: int64"
            ]
          },
          "execution_count": 8,
          "metadata": {},
          "output_type": "execute_result"
        }
      ],
      "source": [
        "airbnb_df.zipcode.value_counts()[:5]"
      ]
    },
    {
      "cell_type": "markdown",
      "metadata": {
        "id": "kAMLtgh6gNQN"
      },
      "source": [
        " Sin embargo, este zipcode tiene tipos diferentes, que tendremos que estandarizar antes de continuar con la combinación de los datos."
      ]
    },
    {
      "cell_type": "code",
      "execution_count": 9,
      "metadata": {
        "id": "xbDm0-VwQd97"
      },
      "outputs": [],
      "source": [
        "airbnb_df['zipcode'] = pandas.to_numeric(airbnb_df.zipcode, errors='coerce')"
      ]
    },
    {
      "cell_type": "code",
      "execution_count": 10,
      "metadata": {
        "colab": {
          "base_uri": "https://localhost:8080/"
        },
        "id": "MWWf21VEKJyz",
        "outputId": "76b1a326-b5df-4046-88d5-55d22c106421"
      },
      "outputs": [
        {
          "data": {
            "text/plain": [
              "zipcode\n",
              "3000.0    3367\n",
              "3006.0    1268\n",
              "3182.0    1135\n",
              "3141.0     881\n",
              "3004.0     728\n",
              "Name: count, dtype: int64"
            ]
          },
          "execution_count": 10,
          "metadata": {},
          "output_type": "execute_result"
        }
      ],
      "source": [
        "airbnb_df.zipcode.value_counts().head(5)"
      ]
    },
    {
      "cell_type": "code",
      "execution_count": 11,
      "metadata": {
        "colab": {
          "base_uri": "https://localhost:8080/"
        },
        "id": "lz14GkRZa2iA",
        "outputId": "2803651a-2116-4b81-afd5-d1bc5db8a7a4"
      },
      "outputs": [
        {
          "data": {
            "text/plain": [
              "dtype('float64')"
            ]
          },
          "execution_count": 11,
          "metadata": {},
          "output_type": "execute_result"
        }
      ],
      "source": [
        "airbnb_df.zipcode.dtype"
      ]
    },
    {
      "cell_type": "code",
      "execution_count": 12,
      "metadata": {
        "id": "IEVfOZ4zbIsQ"
      },
      "outputs": [],
      "source": [
        "airbnb_df['zipcode_int'] = airbnb_df.zipcode.fillna(0).astype('int')"
      ]
    },
    {
      "cell_type": "code",
      "execution_count": 13,
      "metadata": {
        "colab": {
          "base_uri": "https://localhost:8080/"
        },
        "id": "iNfyi6_cb1d4",
        "outputId": "ac1b1b2b-aa3a-47bd-9b18-e69c377ed8b7"
      },
      "outputs": [
        {
          "data": {
            "text/plain": [
              "(146, 14)"
            ]
          },
          "execution_count": 13,
          "metadata": {},
          "output_type": "execute_result"
        }
      ],
      "source": [
        "airbnb_df[airbnb_df['zipcode_int'] == 0].shape"
      ]
    },
    {
      "cell_type": "markdown",
      "metadata": {
        "id": "JOahRB4qggBA"
      },
      "source": [
        "### Valores en común\n",
        "\n",
        "Antes de unir los conjuntos de datos, tenemos que asegurarnos de que tengamos suficientes registros en común como para agregar información relevantes."
      ]
    },
    {
      "cell_type": "code",
      "execution_count": 14,
      "metadata": {
        "colab": {
          "base_uri": "https://localhost:8080/"
        },
        "id": "2Gxz99YJJSCk",
        "outputId": "59a4d20c-71fa-426d-e3b6-d63ae00c3d2c"
      },
      "outputs": [
        {
          "name": "stdout",
          "output_type": "stream",
          "text": [
            "Airbnb unique zipcodes 248\n",
            "Sales unique zipcodes 198\n",
            "Common zipcodes 191\n"
          ]
        }
      ],
      "source": [
        "intersection = numpy.intersect1d(\n",
        "    airbnb_df.zipcode.values, melb_df.Postcode.values, assume_unique=False)\n",
        "print(\"Airbnb unique zipcodes\", len(airbnb_df.zipcode.unique()))\n",
        "print(\"Sales unique zipcodes\", len(melb_df.Postcode.unique()))\n",
        "print(\"Common zipcodes\", len(intersection))"
      ]
    },
    {
      "cell_type": "code",
      "execution_count": 15,
      "metadata": {
        "colab": {
          "base_uri": "https://localhost:8080/"
        },
        "id": "AB41oWdhLKJU",
        "outputId": "20223f86-e8f7-4878-a032-92eedbe2ef03"
      },
      "outputs": [
        {
          "name": "stdout",
          "output_type": "stream",
          "text": [
            "Records in Sales df with corresponding zipcode form Airbnb df 0.9985272459499264\n",
            "Records in Airbnb df with corresponding zipcode form Sales df 0.9302904564315353\n"
          ]
        }
      ],
      "source": [
        "print('Records in Sales df with corresponding zipcode form Airbnb df',\n",
        "      melb_df.Postcode.isin(intersection).sum() / len(melb_df))\n",
        "print('Records in Airbnb df with corresponding zipcode form Sales df',\n",
        "      airbnb_df.zipcode.isin(intersection).sum() / len(airbnb_df))"
      ]
    },
    {
      "cell_type": "markdown",
      "metadata": {
        "id": "bwvm0M48OdF6"
      },
      "source": [
        "### Exploración visual\n",
        "\n",
        "Para terminar de asegurarnos de que las áreas representadas por ambos datasets son consitentes, podemos representar las coordenadas en un mapa usando Plotly.\n",
        "\n",
        "Aunque estas visualizaciones no son completas en cuanto a la información geográfica que muestran, aproximadamente podemos ver que se tratan de zonas similares."
      ]
    },
    {
      "cell_type": "code",
      "execution_count": 17,
      "metadata": {
        "colab": {
          "base_uri": "https://localhost:8080/",
          "height": 542
        },
        "id": "J5P1Tu8UE5Zm",
        "outputId": "a7fbbdad-33e7-4413-efd1-318b91db2925"
      },
      "outputs": [
        {
          "data": {
            "application/vnd.plotly.v1+json": {
              "config": {
                "plotlyServerURL": "https://plot.ly"
              },
              "data": [
                {
                  "geo": "geo",
                  "hovertemplate": "Lattitude=%{lat}<br>Longtitude=%{lon}<br>YearBuilt=%{marker.color}<extra></extra>",
                  "lat": [
                    -37.8013,
                    -37.7847,
                    -37.7766,
                    -37.8382,
                    -37.7439,
                    -37.70525,
                    -37.9252,
                    -37.73883,
                    -37.7514,
                    -37.8493,
                    -37.9378,
                    -37.714,
                    -37.7042,
                    -37.82909,
                    -37.72465,
                    -37.847,
                    -37.7663,
                    -37.75907,
                    -37.9008,
                    -37.83522,
                    -37.81359000000001,
                    -37.7746,
                    -37.719,
                    -37.8955,
                    -38.02981,
                    -37.8904,
                    -37.75637,
                    -37.74487,
                    -37.778,
                    -37.7233,
                    -37.74373,
                    -37.7402,
                    -37.78659,
                    -37.7178,
                    -37.83273,
                    -37.8286,
                    -37.85743,
                    -37.72057,
                    -37.8092,
                    -37.90286,
                    -37.7885,
                    -37.8382,
                    -37.8496,
                    -37.8173,
                    -37.84405,
                    -37.64385,
                    -37.792,
                    -37.81614,
                    -37.7412,
                    -37.773,
                    -38.00626,
                    -37.7375,
                    -37.63923,
                    -37.71811,
                    -37.7433,
                    -37.8356,
                    -37.8544,
                    -37.76491,
                    -37.8839,
                    -37.771,
                    -37.57201,
                    -37.86301,
                    -37.7426,
                    -37.76517,
                    -37.70295,
                    -37.71679,
                    -37.8301,
                    -37.7807,
                    -37.7283,
                    -37.94043,
                    -37.85984000000001,
                    -37.9195,
                    -37.7702,
                    -37.7296,
                    -37.7751,
                    -37.7645,
                    -37.92811,
                    -37.868,
                    -37.7566,
                    -37.7402,
                    -37.75267,
                    -37.9293,
                    -37.8337,
                    -37.8538,
                    -37.75788,
                    -37.66648,
                    -37.7917,
                    -37.836,
                    -37.8472,
                    -37.8726,
                    -37.8628,
                    -37.8107,
                    -37.7618,
                    -37.8155,
                    -37.8456,
                    -37.72165,
                    -37.77012,
                    -37.70267,
                    -37.8433,
                    -37.72123,
                    -37.62554,
                    -37.8332,
                    -37.81065,
                    -37.85679,
                    -37.93226,
                    -37.89327,
                    -37.7355,
                    -37.98825,
                    -37.76012,
                    -37.9232,
                    -37.98841,
                    -37.822,
                    -37.95569,
                    -37.7489,
                    -37.93271,
                    -37.8613,
                    -37.8198,
                    -37.8829,
                    -37.8464,
                    -37.8968,
                    -37.9431,
                    -37.64836,
                    -37.8284,
                    -37.8472,
                    -37.81188,
                    -37.7131,
                    -37.8859,
                    -37.7693,
                    -37.8847,
                    -37.81167,
                    -37.8415,
                    -37.7994,
                    -37.807,
                    -37.9186,
                    -37.7898,
                    -37.7953,
                    -37.84283,
                    -38.00022,
                    -37.92211,
                    -37.88374,
                    -37.94887,
                    -37.757,
                    -37.7263,
                    -37.7283,
                    -37.7593,
                    -37.85586,
                    -37.73887,
                    -37.7772,
                    -37.72308,
                    -37.7545,
                    -37.8368,
                    -37.762,
                    -37.8255,
                    -37.7833,
                    -37.79546,
                    -37.8097,
                    -37.7925,
                    -37.7635,
                    -37.7786,
                    -37.66101,
                    -37.7858,
                    -37.7963,
                    -37.85029,
                    -37.76592,
                    -37.7351,
                    -37.8547,
                    -37.711,
                    -37.76421,
                    -37.9179,
                    -37.8078,
                    -37.8384,
                    -37.773,
                    -37.8108,
                    -37.7373,
                    -37.77539,
                    -37.7966,
                    -37.70489,
                    -37.8309,
                    -37.7973,
                    -37.7846,
                    -37.7534,
                    -37.58505,
                    -37.8619,
                    -37.7911,
                    -37.6882,
                    -37.7738,
                    -37.84825,
                    -37.8694,
                    -37.7745,
                    -37.8414,
                    -37.8018,
                    -37.8424,
                    -37.7297,
                    -37.87171,
                    -37.6964,
                    -37.81143,
                    -37.8975,
                    -38.00051,
                    -37.8113,
                    -37.906,
                    -37.5877,
                    -37.7597,
                    -37.8128,
                    -37.8581,
                    -37.78182,
                    -37.74351,
                    -37.8476,
                    -37.7906,
                    -37.75746,
                    -37.7985,
                    -37.8791,
                    -37.83944,
                    -37.69485,
                    -37.7658,
                    -37.8354,
                    -37.82676,
                    -37.49674,
                    -37.7199,
                    -37.73084,
                    -37.63011,
                    -37.7597,
                    -37.8183,
                    -37.7938,
                    -37.7796,
                    -37.82324000000001,
                    -37.8186,
                    -37.7835,
                    -37.7815,
                    -37.9324,
                    -37.83781,
                    -37.9416,
                    -37.8084,
                    -37.8258,
                    -37.7774,
                    -37.8047,
                    -37.9159,
                    -37.8352,
                    -37.7772,
                    -37.7763,
                    -37.7971,
                    -37.73261,
                    -37.946,
                    -37.87571,
                    -37.76207,
                    -37.8584,
                    -37.8425,
                    -37.94302,
                    -37.7767,
                    -37.91304,
                    -37.7814,
                    -37.79115,
                    -37.9449,
                    -37.80894,
                    -37.45709,
                    -37.79496,
                    -37.8001,
                    -37.73514,
                    -37.8791,
                    -37.86325,
                    -37.8246,
                    -37.7749,
                    -37.9135,
                    -37.7656,
                    -37.7904,
                    -37.7843,
                    -37.7184,
                    -37.7449,
                    -37.7965,
                    -37.78496,
                    -37.9396,
                    -37.9389,
                    -37.78791,
                    -37.94515,
                    -37.84212,
                    -37.70176,
                    -37.9166,
                    -37.8351,
                    -37.81736,
                    -37.91327,
                    -37.75843,
                    -37.7311,
                    -37.76457,
                    -37.7847,
                    -37.7259,
                    -37.87307,
                    -37.79818,
                    -37.7521,
                    -37.7125,
                    -37.7493,
                    -37.8416,
                    -37.88995,
                    -37.96318,
                    -37.8289,
                    -37.802,
                    -37.84716,
                    -37.8459,
                    -38.16121,
                    -37.8153,
                    -37.83712,
                    -37.80898
                  ],
                  "legendgroup": "",
                  "lon": [
                    145.0652,
                    144.9383,
                    144.9988,
                    144.9272,
                    145.0688,
                    144.75699,
                    145.0494,
                    144.95321,
                    144.9288,
                    145.0395,
                    145.0546,
                    145.007,
                    144.9211,
                    145.233,
                    144.8359,
                    145.0672,
                    144.9795,
                    144.75923999999995,
                    145.0859,
                    144.93471,
                    145.17574,
                    144.9031,
                    144.76699,
                    145.0515,
                    145.24826000000004,
                    145.013,
                    144.77983,
                    144.91194,
                    145.1173,
                    144.9168,
                    144.95783,
                    144.9807,
                    144.97211,
                    144.9121,
                    145.08812,
                    145.1094,
                    145.0468,
                    145.02615,
                    145.0366,
                    145.04772,
                    145.0854,
                    144.9469,
                    144.9905,
                    145.0252,
                    145.0016,
                    144.89221,
                    145.1077,
                    145.05056000000005,
                    144.8888,
                    144.9568,
                    145.29079,
                    145.0555,
                    145.05306000000004,
                    144.87693000000004,
                    144.9762,
                    144.9439,
                    145.0164,
                    144.95253,
                    144.9903,
                    144.8586,
                    144.90896999999995,
                    145.14145,
                    145.0556,
                    145.3298,
                    145.00277,
                    144.90901000000005,
                    145.0475,
                    144.842,
                    144.969,
                    145.09313999999995,
                    144.9867,
                    145.0555,
                    145.0493,
                    144.9225,
                    145.0099,
                    145.0314,
                    145.14971,
                    144.8286,
                    144.9965,
                    144.8591,
                    145.00361999999996,
                    145.0657,
                    145.0469,
                    144.8722,
                    144.90487,
                    144.93399,
                    144.9231,
                    145.056,
                    144.8754,
                    144.9846,
                    144.8468,
                    144.8666,
                    145.0649,
                    145.0385,
                    144.8741,
                    144.95853,
                    144.96476,
                    145.09526,
                    145.0001,
                    144.92614,
                    144.92006,
                    145.0366,
                    145.17309,
                    145.00089,
                    145.19097,
                    144.64789,
                    145.0178,
                    145.03226999999995,
                    145.0854,
                    145.0502,
                    145.26001000000005,
                    145.0104,
                    145.06588,
                    144.9073,
                    145.17792,
                    145.0264,
                    144.8839,
                    145.0033,
                    145.0511,
                    145.0983,
                    145.0407,
                    145.03139,
                    144.9989,
                    144.8707,
                    145.20051999999995,
                    144.9091,
                    144.9994,
                    144.93415,
                    145.076,
                    144.88346,
                    144.8698,
                    144.9464,
                    144.898,
                    145.0175,
                    144.9276,
                    144.8332,
                    145.00015,
                    145.2709,
                    145.0466,
                    144.98518,
                    145.02647,
                    144.9251,
                    144.9843,
                    144.9331,
                    144.9885,
                    145.15827,
                    144.91103,
                    145.0232,
                    145.14011000000005,
                    144.91194,
                    144.9848,
                    145.0645,
                    144.8709,
                    145.0135,
                    145.04533,
                    144.8906,
                    144.8282,
                    145.039,
                    144.9753,
                    145.02568,
                    144.8757,
                    144.8853,
                    145.13846,
                    144.99265,
                    145.0323,
                    145.0771,
                    144.9478,
                    144.90571,
                    145.0127,
                    144.961,
                    144.923,
                    144.9332,
                    144.8899,
                    144.9155,
                    144.95576,
                    144.9254,
                    144.91033000000004,
                    144.9686,
                    144.9712,
                    144.9704,
                    144.9679,
                    144.93591999999995,
                    145.0185,
                    144.8821,
                    144.92541,
                    144.9695,
                    145.18764,
                    145.0246,
                    145.0045,
                    144.991,
                    144.9825,
                    144.9449,
                    144.9645,
                    144.81273000000004,
                    144.9314,
                    145.07108,
                    145.0478,
                    145.09315,
                    144.8955,
                    145.04,
                    144.73734,
                    144.9548,
                    145.0588,
                    145.0685,
                    145.1903,
                    145.07965,
                    145.29493,
                    145.0788,
                    144.95633,
                    144.9745,
                    144.9923,
                    145.18641000000005,
                    144.89092,
                    144.9823,
                    145.1001,
                    145.04443999999995,
                    144.62618,
                    145.0155,
                    144.92238,
                    145.02936,
                    145.1058,
                    145.0194,
                    145.0666,
                    144.8384,
                    145.01331000000005,
                    145.017,
                    144.9799,
                    145.0403,
                    145.0577,
                    145.05234,
                    145.0107,
                    144.8907,
                    144.99200000000005,
                    144.928,
                    145.0534,
                    145.019,
                    144.9458,
                    144.9118,
                    144.947,
                    144.8703,
                    144.99535,
                    145.0181,
                    144.98702,
                    145.09336000000005,
                    145.0017,
                    145.0009,
                    145.15478000000004,
                    145.0592,
                    145.0373,
                    145.0039,
                    145.28337,
                    145.0068,
                    145.05853000000005,
                    144.68999,
                    144.92659,
                    144.9901,
                    144.87143999999995,
                    144.9923,
                    145.02422,
                    144.9967,
                    144.9762,
                    145.00846,
                    144.9562,
                    144.7999,
                    144.9902,
                    144.9962,
                    144.8533,
                    144.9544,
                    145.14659,
                    145.0156,
                    145.0186,
                    145.00588,
                    145.01886000000005,
                    144.88211,
                    145.0118,
                    144.9926,
                    144.9441,
                    144.89133,
                    145.07917,
                    145.10888,
                    144.8257,
                    145.06555,
                    144.9741,
                    144.8792,
                    144.98635,
                    144.92685,
                    145.0114,
                    145.0768,
                    144.9559,
                    144.939,
                    144.78505,
                    145.18962,
                    144.9992,
                    145.036,
                    145.07351,
                    144.9555,
                    145.10381,
                    145.0231,
                    144.86686,
                    144.88701
                  ],
                  "marker": {
                    "color": [
                      1995,
                      2012,
                      1970,
                      1999,
                      null,
                      2004,
                      2010,
                      1930,
                      1980,
                      1977,
                      null,
                      null,
                      1975,
                      1961,
                      1970,
                      null,
                      null,
                      null,
                      2010,
                      null,
                      2014,
                      1955,
                      1995,
                      1938,
                      1960,
                      null,
                      null,
                      null,
                      1965,
                      null,
                      null,
                      1960,
                      null,
                      1960,
                      null,
                      1915,
                      1970,
                      null,
                      1960,
                      1970,
                      1960,
                      1880,
                      1996,
                      1900,
                      1920,
                      null,
                      2013,
                      1980,
                      null,
                      1890,
                      1996,
                      null,
                      null,
                      1950,
                      null,
                      1900,
                      2011,
                      1920,
                      1970,
                      null,
                      2012,
                      null,
                      2007,
                      1978,
                      1960,
                      2010,
                      null,
                      null,
                      1950,
                      null,
                      1940,
                      null,
                      1965,
                      1940,
                      1900,
                      1950,
                      1958,
                      2014,
                      1910,
                      1995,
                      2010,
                      2005,
                      1980,
                      2003,
                      1922,
                      null,
                      1997,
                      1980,
                      null,
                      1960,
                      null,
                      1960,
                      1960,
                      1910,
                      2015,
                      1930,
                      null,
                      2000,
                      2005,
                      null,
                      2000,
                      null,
                      null,
                      1905,
                      null,
                      1980,
                      null,
                      null,
                      1970,
                      null,
                      1980,
                      2005,
                      1960,
                      null,
                      1972,
                      1900,
                      null,
                      1966,
                      null,
                      1930,
                      null,
                      null,
                      1920,
                      null,
                      null,
                      1990,
                      1900,
                      null,
                      1970,
                      1936,
                      null,
                      1970,
                      1910,
                      1970,
                      null,
                      null,
                      null,
                      null,
                      1950,
                      1970,
                      1970,
                      1996,
                      null,
                      2001,
                      1930,
                      null,
                      null,
                      null,
                      1966,
                      1940,
                      1970,
                      1956,
                      null,
                      null,
                      1925,
                      1920,
                      null,
                      1960,
                      1940,
                      1980,
                      null,
                      null,
                      null,
                      null,
                      2005,
                      1975,
                      1960,
                      1925,
                      1930,
                      null,
                      null,
                      null,
                      1960,
                      null,
                      1910,
                      null,
                      2003,
                      2003,
                      2000,
                      null,
                      null,
                      2007,
                      1975,
                      1925,
                      null,
                      1900,
                      null,
                      1960,
                      1920,
                      1970,
                      1900,
                      2005,
                      2012,
                      1970,
                      2017,
                      null,
                      1970,
                      null,
                      1980,
                      1990,
                      2001,
                      1970,
                      1970,
                      null,
                      null,
                      1960,
                      1970,
                      1950,
                      1996,
                      null,
                      null,
                      null,
                      null,
                      null,
                      2001,
                      null,
                      1985,
                      null,
                      null,
                      2011,
                      null,
                      1965,
                      1968,
                      1940,
                      1890,
                      1960,
                      null,
                      2007,
                      1966,
                      null,
                      1935,
                      1912,
                      1900,
                      1900,
                      1983,
                      2012,
                      null,
                      1900,
                      1960,
                      1982,
                      1930,
                      1950,
                      1950,
                      null,
                      null,
                      null,
                      null,
                      null,
                      1920,
                      1997,
                      null,
                      1997,
                      null,
                      2011,
                      1940,
                      1900,
                      null,
                      1930,
                      1910,
                      null,
                      1890,
                      1990,
                      1930,
                      1970,
                      1880,
                      1960,
                      1970,
                      null,
                      1966,
                      1960,
                      1985,
                      1970,
                      null,
                      2012,
                      2004,
                      1958,
                      2015,
                      null,
                      1950,
                      null,
                      null,
                      null,
                      null,
                      null,
                      1930,
                      null,
                      1950,
                      1960,
                      1940,
                      2006,
                      1990,
                      1970,
                      null,
                      1985,
                      1975,
                      1900,
                      1890,
                      null,
                      null,
                      2014
                    ],
                    "coloraxis": "coloraxis",
                    "symbol": "circle"
                  },
                  "mode": "markers",
                  "name": "",
                  "showlegend": false,
                  "type": "scattergeo"
                }
              ],
              "layout": {
                "coloraxis": {
                  "colorbar": {
                    "title": {
                      "text": "YearBuilt"
                    }
                  },
                  "colorscale": [
                    [
                      0,
                      "#0d0887"
                    ],
                    [
                      0.1111111111111111,
                      "#46039f"
                    ],
                    [
                      0.2222222222222222,
                      "#7201a8"
                    ],
                    [
                      0.3333333333333333,
                      "#9c179e"
                    ],
                    [
                      0.4444444444444444,
                      "#bd3786"
                    ],
                    [
                      0.5555555555555556,
                      "#d8576b"
                    ],
                    [
                      0.6666666666666666,
                      "#ed7953"
                    ],
                    [
                      0.7777777777777778,
                      "#fb9f3a"
                    ],
                    [
                      0.8888888888888888,
                      "#fdca26"
                    ],
                    [
                      1,
                      "#f0f921"
                    ]
                  ]
                },
                "geo": {
                  "center": {},
                  "domain": {
                    "x": [
                      0,
                      1
                    ],
                    "y": [
                      0,
                      1
                    ]
                  },
                  "fitbounds": "locations"
                },
                "legend": {
                  "tracegroupgap": 0
                },
                "margin": {
                  "t": 60
                },
                "template": {
                  "data": {
                    "bar": [
                      {
                        "error_x": {
                          "color": "#2a3f5f"
                        },
                        "error_y": {
                          "color": "#2a3f5f"
                        },
                        "marker": {
                          "line": {
                            "color": "#E5ECF6",
                            "width": 0.5
                          },
                          "pattern": {
                            "fillmode": "overlay",
                            "size": 10,
                            "solidity": 0.2
                          }
                        },
                        "type": "bar"
                      }
                    ],
                    "barpolar": [
                      {
                        "marker": {
                          "line": {
                            "color": "#E5ECF6",
                            "width": 0.5
                          },
                          "pattern": {
                            "fillmode": "overlay",
                            "size": 10,
                            "solidity": 0.2
                          }
                        },
                        "type": "barpolar"
                      }
                    ],
                    "carpet": [
                      {
                        "aaxis": {
                          "endlinecolor": "#2a3f5f",
                          "gridcolor": "white",
                          "linecolor": "white",
                          "minorgridcolor": "white",
                          "startlinecolor": "#2a3f5f"
                        },
                        "baxis": {
                          "endlinecolor": "#2a3f5f",
                          "gridcolor": "white",
                          "linecolor": "white",
                          "minorgridcolor": "white",
                          "startlinecolor": "#2a3f5f"
                        },
                        "type": "carpet"
                      }
                    ],
                    "choropleth": [
                      {
                        "colorbar": {
                          "outlinewidth": 0,
                          "ticks": ""
                        },
                        "type": "choropleth"
                      }
                    ],
                    "contour": [
                      {
                        "colorbar": {
                          "outlinewidth": 0,
                          "ticks": ""
                        },
                        "colorscale": [
                          [
                            0,
                            "#0d0887"
                          ],
                          [
                            0.1111111111111111,
                            "#46039f"
                          ],
                          [
                            0.2222222222222222,
                            "#7201a8"
                          ],
                          [
                            0.3333333333333333,
                            "#9c179e"
                          ],
                          [
                            0.4444444444444444,
                            "#bd3786"
                          ],
                          [
                            0.5555555555555556,
                            "#d8576b"
                          ],
                          [
                            0.6666666666666666,
                            "#ed7953"
                          ],
                          [
                            0.7777777777777778,
                            "#fb9f3a"
                          ],
                          [
                            0.8888888888888888,
                            "#fdca26"
                          ],
                          [
                            1,
                            "#f0f921"
                          ]
                        ],
                        "type": "contour"
                      }
                    ],
                    "contourcarpet": [
                      {
                        "colorbar": {
                          "outlinewidth": 0,
                          "ticks": ""
                        },
                        "type": "contourcarpet"
                      }
                    ],
                    "heatmap": [
                      {
                        "colorbar": {
                          "outlinewidth": 0,
                          "ticks": ""
                        },
                        "colorscale": [
                          [
                            0,
                            "#0d0887"
                          ],
                          [
                            0.1111111111111111,
                            "#46039f"
                          ],
                          [
                            0.2222222222222222,
                            "#7201a8"
                          ],
                          [
                            0.3333333333333333,
                            "#9c179e"
                          ],
                          [
                            0.4444444444444444,
                            "#bd3786"
                          ],
                          [
                            0.5555555555555556,
                            "#d8576b"
                          ],
                          [
                            0.6666666666666666,
                            "#ed7953"
                          ],
                          [
                            0.7777777777777778,
                            "#fb9f3a"
                          ],
                          [
                            0.8888888888888888,
                            "#fdca26"
                          ],
                          [
                            1,
                            "#f0f921"
                          ]
                        ],
                        "type": "heatmap"
                      }
                    ],
                    "heatmapgl": [
                      {
                        "colorbar": {
                          "outlinewidth": 0,
                          "ticks": ""
                        },
                        "colorscale": [
                          [
                            0,
                            "#0d0887"
                          ],
                          [
                            0.1111111111111111,
                            "#46039f"
                          ],
                          [
                            0.2222222222222222,
                            "#7201a8"
                          ],
                          [
                            0.3333333333333333,
                            "#9c179e"
                          ],
                          [
                            0.4444444444444444,
                            "#bd3786"
                          ],
                          [
                            0.5555555555555556,
                            "#d8576b"
                          ],
                          [
                            0.6666666666666666,
                            "#ed7953"
                          ],
                          [
                            0.7777777777777778,
                            "#fb9f3a"
                          ],
                          [
                            0.8888888888888888,
                            "#fdca26"
                          ],
                          [
                            1,
                            "#f0f921"
                          ]
                        ],
                        "type": "heatmapgl"
                      }
                    ],
                    "histogram": [
                      {
                        "marker": {
                          "pattern": {
                            "fillmode": "overlay",
                            "size": 10,
                            "solidity": 0.2
                          }
                        },
                        "type": "histogram"
                      }
                    ],
                    "histogram2d": [
                      {
                        "colorbar": {
                          "outlinewidth": 0,
                          "ticks": ""
                        },
                        "colorscale": [
                          [
                            0,
                            "#0d0887"
                          ],
                          [
                            0.1111111111111111,
                            "#46039f"
                          ],
                          [
                            0.2222222222222222,
                            "#7201a8"
                          ],
                          [
                            0.3333333333333333,
                            "#9c179e"
                          ],
                          [
                            0.4444444444444444,
                            "#bd3786"
                          ],
                          [
                            0.5555555555555556,
                            "#d8576b"
                          ],
                          [
                            0.6666666666666666,
                            "#ed7953"
                          ],
                          [
                            0.7777777777777778,
                            "#fb9f3a"
                          ],
                          [
                            0.8888888888888888,
                            "#fdca26"
                          ],
                          [
                            1,
                            "#f0f921"
                          ]
                        ],
                        "type": "histogram2d"
                      }
                    ],
                    "histogram2dcontour": [
                      {
                        "colorbar": {
                          "outlinewidth": 0,
                          "ticks": ""
                        },
                        "colorscale": [
                          [
                            0,
                            "#0d0887"
                          ],
                          [
                            0.1111111111111111,
                            "#46039f"
                          ],
                          [
                            0.2222222222222222,
                            "#7201a8"
                          ],
                          [
                            0.3333333333333333,
                            "#9c179e"
                          ],
                          [
                            0.4444444444444444,
                            "#bd3786"
                          ],
                          [
                            0.5555555555555556,
                            "#d8576b"
                          ],
                          [
                            0.6666666666666666,
                            "#ed7953"
                          ],
                          [
                            0.7777777777777778,
                            "#fb9f3a"
                          ],
                          [
                            0.8888888888888888,
                            "#fdca26"
                          ],
                          [
                            1,
                            "#f0f921"
                          ]
                        ],
                        "type": "histogram2dcontour"
                      }
                    ],
                    "mesh3d": [
                      {
                        "colorbar": {
                          "outlinewidth": 0,
                          "ticks": ""
                        },
                        "type": "mesh3d"
                      }
                    ],
                    "parcoords": [
                      {
                        "line": {
                          "colorbar": {
                            "outlinewidth": 0,
                            "ticks": ""
                          }
                        },
                        "type": "parcoords"
                      }
                    ],
                    "pie": [
                      {
                        "automargin": true,
                        "type": "pie"
                      }
                    ],
                    "scatter": [
                      {
                        "fillpattern": {
                          "fillmode": "overlay",
                          "size": 10,
                          "solidity": 0.2
                        },
                        "type": "scatter"
                      }
                    ],
                    "scatter3d": [
                      {
                        "line": {
                          "colorbar": {
                            "outlinewidth": 0,
                            "ticks": ""
                          }
                        },
                        "marker": {
                          "colorbar": {
                            "outlinewidth": 0,
                            "ticks": ""
                          }
                        },
                        "type": "scatter3d"
                      }
                    ],
                    "scattercarpet": [
                      {
                        "marker": {
                          "colorbar": {
                            "outlinewidth": 0,
                            "ticks": ""
                          }
                        },
                        "type": "scattercarpet"
                      }
                    ],
                    "scattergeo": [
                      {
                        "marker": {
                          "colorbar": {
                            "outlinewidth": 0,
                            "ticks": ""
                          }
                        },
                        "type": "scattergeo"
                      }
                    ],
                    "scattergl": [
                      {
                        "marker": {
                          "colorbar": {
                            "outlinewidth": 0,
                            "ticks": ""
                          }
                        },
                        "type": "scattergl"
                      }
                    ],
                    "scattermapbox": [
                      {
                        "marker": {
                          "colorbar": {
                            "outlinewidth": 0,
                            "ticks": ""
                          }
                        },
                        "type": "scattermapbox"
                      }
                    ],
                    "scatterpolar": [
                      {
                        "marker": {
                          "colorbar": {
                            "outlinewidth": 0,
                            "ticks": ""
                          }
                        },
                        "type": "scatterpolar"
                      }
                    ],
                    "scatterpolargl": [
                      {
                        "marker": {
                          "colorbar": {
                            "outlinewidth": 0,
                            "ticks": ""
                          }
                        },
                        "type": "scatterpolargl"
                      }
                    ],
                    "scatterternary": [
                      {
                        "marker": {
                          "colorbar": {
                            "outlinewidth": 0,
                            "ticks": ""
                          }
                        },
                        "type": "scatterternary"
                      }
                    ],
                    "surface": [
                      {
                        "colorbar": {
                          "outlinewidth": 0,
                          "ticks": ""
                        },
                        "colorscale": [
                          [
                            0,
                            "#0d0887"
                          ],
                          [
                            0.1111111111111111,
                            "#46039f"
                          ],
                          [
                            0.2222222222222222,
                            "#7201a8"
                          ],
                          [
                            0.3333333333333333,
                            "#9c179e"
                          ],
                          [
                            0.4444444444444444,
                            "#bd3786"
                          ],
                          [
                            0.5555555555555556,
                            "#d8576b"
                          ],
                          [
                            0.6666666666666666,
                            "#ed7953"
                          ],
                          [
                            0.7777777777777778,
                            "#fb9f3a"
                          ],
                          [
                            0.8888888888888888,
                            "#fdca26"
                          ],
                          [
                            1,
                            "#f0f921"
                          ]
                        ],
                        "type": "surface"
                      }
                    ],
                    "table": [
                      {
                        "cells": {
                          "fill": {
                            "color": "#EBF0F8"
                          },
                          "line": {
                            "color": "white"
                          }
                        },
                        "header": {
                          "fill": {
                            "color": "#C8D4E3"
                          },
                          "line": {
                            "color": "white"
                          }
                        },
                        "type": "table"
                      }
                    ]
                  },
                  "layout": {
                    "annotationdefaults": {
                      "arrowcolor": "#2a3f5f",
                      "arrowhead": 0,
                      "arrowwidth": 1
                    },
                    "autotypenumbers": "strict",
                    "coloraxis": {
                      "colorbar": {
                        "outlinewidth": 0,
                        "ticks": ""
                      }
                    },
                    "colorscale": {
                      "diverging": [
                        [
                          0,
                          "#8e0152"
                        ],
                        [
                          0.1,
                          "#c51b7d"
                        ],
                        [
                          0.2,
                          "#de77ae"
                        ],
                        [
                          0.3,
                          "#f1b6da"
                        ],
                        [
                          0.4,
                          "#fde0ef"
                        ],
                        [
                          0.5,
                          "#f7f7f7"
                        ],
                        [
                          0.6,
                          "#e6f5d0"
                        ],
                        [
                          0.7,
                          "#b8e186"
                        ],
                        [
                          0.8,
                          "#7fbc41"
                        ],
                        [
                          0.9,
                          "#4d9221"
                        ],
                        [
                          1,
                          "#276419"
                        ]
                      ],
                      "sequential": [
                        [
                          0,
                          "#0d0887"
                        ],
                        [
                          0.1111111111111111,
                          "#46039f"
                        ],
                        [
                          0.2222222222222222,
                          "#7201a8"
                        ],
                        [
                          0.3333333333333333,
                          "#9c179e"
                        ],
                        [
                          0.4444444444444444,
                          "#bd3786"
                        ],
                        [
                          0.5555555555555556,
                          "#d8576b"
                        ],
                        [
                          0.6666666666666666,
                          "#ed7953"
                        ],
                        [
                          0.7777777777777778,
                          "#fb9f3a"
                        ],
                        [
                          0.8888888888888888,
                          "#fdca26"
                        ],
                        [
                          1,
                          "#f0f921"
                        ]
                      ],
                      "sequentialminus": [
                        [
                          0,
                          "#0d0887"
                        ],
                        [
                          0.1111111111111111,
                          "#46039f"
                        ],
                        [
                          0.2222222222222222,
                          "#7201a8"
                        ],
                        [
                          0.3333333333333333,
                          "#9c179e"
                        ],
                        [
                          0.4444444444444444,
                          "#bd3786"
                        ],
                        [
                          0.5555555555555556,
                          "#d8576b"
                        ],
                        [
                          0.6666666666666666,
                          "#ed7953"
                        ],
                        [
                          0.7777777777777778,
                          "#fb9f3a"
                        ],
                        [
                          0.8888888888888888,
                          "#fdca26"
                        ],
                        [
                          1,
                          "#f0f921"
                        ]
                      ]
                    },
                    "colorway": [
                      "#636efa",
                      "#EF553B",
                      "#00cc96",
                      "#ab63fa",
                      "#FFA15A",
                      "#19d3f3",
                      "#FF6692",
                      "#B6E880",
                      "#FF97FF",
                      "#FECB52"
                    ],
                    "font": {
                      "color": "#2a3f5f"
                    },
                    "geo": {
                      "bgcolor": "white",
                      "lakecolor": "white",
                      "landcolor": "#E5ECF6",
                      "showlakes": true,
                      "showland": true,
                      "subunitcolor": "white"
                    },
                    "hoverlabel": {
                      "align": "left"
                    },
                    "hovermode": "closest",
                    "mapbox": {
                      "style": "light"
                    },
                    "paper_bgcolor": "white",
                    "plot_bgcolor": "#E5ECF6",
                    "polar": {
                      "angularaxis": {
                        "gridcolor": "white",
                        "linecolor": "white",
                        "ticks": ""
                      },
                      "bgcolor": "#E5ECF6",
                      "radialaxis": {
                        "gridcolor": "white",
                        "linecolor": "white",
                        "ticks": ""
                      }
                    },
                    "scene": {
                      "xaxis": {
                        "backgroundcolor": "#E5ECF6",
                        "gridcolor": "white",
                        "gridwidth": 2,
                        "linecolor": "white",
                        "showbackground": true,
                        "ticks": "",
                        "zerolinecolor": "white"
                      },
                      "yaxis": {
                        "backgroundcolor": "#E5ECF6",
                        "gridcolor": "white",
                        "gridwidth": 2,
                        "linecolor": "white",
                        "showbackground": true,
                        "ticks": "",
                        "zerolinecolor": "white"
                      },
                      "zaxis": {
                        "backgroundcolor": "#E5ECF6",
                        "gridcolor": "white",
                        "gridwidth": 2,
                        "linecolor": "white",
                        "showbackground": true,
                        "ticks": "",
                        "zerolinecolor": "white"
                      }
                    },
                    "shapedefaults": {
                      "line": {
                        "color": "#2a3f5f"
                      }
                    },
                    "ternary": {
                      "aaxis": {
                        "gridcolor": "white",
                        "linecolor": "white",
                        "ticks": ""
                      },
                      "baxis": {
                        "gridcolor": "white",
                        "linecolor": "white",
                        "ticks": ""
                      },
                      "bgcolor": "#E5ECF6",
                      "caxis": {
                        "gridcolor": "white",
                        "linecolor": "white",
                        "ticks": ""
                      }
                    },
                    "title": {
                      "x": 0.05
                    },
                    "xaxis": {
                      "automargin": true,
                      "gridcolor": "white",
                      "linecolor": "white",
                      "ticks": "",
                      "title": {
                        "standoff": 15
                      },
                      "zerolinecolor": "white",
                      "zerolinewidth": 2
                    },
                    "yaxis": {
                      "automargin": true,
                      "gridcolor": "white",
                      "linecolor": "white",
                      "ticks": "",
                      "title": {
                        "standoff": 15
                      },
                      "zerolinecolor": "white",
                      "zerolinewidth": 2
                    }
                  }
                }
              }
            }
          },
          "metadata": {},
          "output_type": "display_data"
        }
      ],
      "source": [
        "import plotly.express as px\n",
        "data = melb_df.sample(300)\n",
        "fig = px.scatter_geo(\n",
        "    data, lat=data.Lattitude, lon=data.Longtitude, color=data.YearBuilt\n",
        "    )\n",
        "fig.update_geos(fitbounds=\"locations\")\n",
        "fig.show()"
      ]
    },
    {
      "cell_type": "code",
      "execution_count": 18,
      "metadata": {
        "colab": {
          "base_uri": "https://localhost:8080/",
          "height": 542
        },
        "id": "YQwnjE3MFVN1",
        "outputId": "486e1623-995e-4e1c-e9bd-64901aa9ec5d"
      },
      "outputs": [
        {
          "data": {
            "application/vnd.plotly.v1+json": {
              "config": {
                "plotlyServerURL": "https://plot.ly"
              },
              "data": [
                {
                  "geo": "geo",
                  "hovertemplate": "state=VIC<br>latitude=%{lat}<br>longitude=%{lon}<extra></extra>",
                  "lat": [
                    -37.81402365,
                    -37.8204325,
                    -37.82981496,
                    -37.77777396,
                    -37.85610618,
                    -37.77168003,
                    -37.81357136,
                    -37.87711191,
                    -37.90934904,
                    -38.07230073,
                    -37.81266677,
                    -37.80276477,
                    -37.81489194,
                    -38.07063794,
                    -37.74593356,
                    -37.81164779,
                    -37.86100291,
                    -37.8124897,
                    -37.7725355,
                    -37.9073073,
                    -37.75815638,
                    -37.81846726,
                    -37.97748779,
                    -37.81001761,
                    -37.84628062,
                    -37.77836201,
                    -37.80818692,
                    -37.86169926,
                    -37.81543861,
                    -37.86533222,
                    -37.84982755,
                    -37.8382072,
                    -37.80704756,
                    -37.90005464,
                    -37.74020834,
                    -37.90039904,
                    -38.06919466,
                    -37.87553205,
                    -37.93537647,
                    -37.85607769,
                    -37.80826172,
                    -37.81199466,
                    -37.7096015,
                    -37.79145642,
                    -37.82242042,
                    -37.81888172,
                    -37.84164119,
                    -37.76857427,
                    -37.85324715,
                    -37.85089807,
                    -37.81051952,
                    -37.88002629,
                    -37.81128525,
                    -37.78611452,
                    -37.80740931,
                    -37.81096937,
                    -37.77475434,
                    -37.97715909,
                    -37.78036825,
                    -37.86769475,
                    -37.8090974,
                    -37.77828339,
                    -37.81181985,
                    -37.8426733,
                    -38.07300061,
                    -37.8031305,
                    -37.88710463,
                    -37.83683562,
                    -37.81720761,
                    -37.80821236,
                    -37.80359157,
                    -37.80095366,
                    -37.83366991,
                    -37.78996918,
                    -37.80000516,
                    -37.78577814,
                    -37.90143696,
                    -37.8157114,
                    -37.81598832,
                    -37.80984785,
                    -37.87176992,
                    -37.77642307,
                    -37.80899617,
                    -37.81889568,
                    -37.77229118,
                    -37.83591869,
                    -37.83052669,
                    -37.78589637,
                    -37.81317957,
                    -37.87713058,
                    -37.81011786,
                    -37.90570677,
                    -37.74043278,
                    -37.86086472,
                    -37.8193832,
                    -37.75335356,
                    -37.82698689,
                    -37.81602327,
                    -37.81640872,
                    -37.85782819,
                    -37.86792362,
                    -37.83666422,
                    -37.75646384,
                    -37.8104172,
                    -37.85961005,
                    -37.83150226,
                    -37.78128838,
                    -37.81029321,
                    -37.80941793,
                    -37.86602158,
                    -37.83566053,
                    -37.80599537,
                    -37.92546405,
                    -37.86739039,
                    -38.11407653,
                    -37.77574636,
                    -37.72470685,
                    -37.76264791,
                    -37.85801175,
                    -37.80536919,
                    -37.74889877,
                    -37.75628788,
                    -37.8082296,
                    -37.83275237,
                    -37.79672539,
                    -37.78655217,
                    -37.80129406,
                    -37.82305806,
                    -37.87011016,
                    -37.87191234,
                    -37.82653059,
                    -37.81569226,
                    -37.8264575,
                    -37.86532638,
                    -37.80503471,
                    -37.85809731,
                    -37.80449561,
                    -37.80642324,
                    -37.80034981,
                    -37.81402294,
                    -37.81311849,
                    -37.76115337,
                    -37.82181034,
                    -37.76268987,
                    -37.82120145,
                    -37.7416161,
                    -37.86526703,
                    -37.75635936,
                    -37.80975328,
                    -37.810938,
                    -37.79462285,
                    -37.83908699,
                    -37.65915901,
                    -37.86478217,
                    -37.98848177,
                    -37.80776846,
                    -37.93630468,
                    -37.87811916,
                    -37.99592279,
                    -37.90572208,
                    -37.89046109,
                    -37.81932545,
                    -37.79159861,
                    -37.90982085,
                    -37.80893768,
                    -37.88074636,
                    -37.72590394,
                    -37.86290064,
                    -37.83882521,
                    -37.82489602,
                    -37.94575657,
                    -37.82208522,
                    -37.80931977,
                    -37.68158609,
                    -37.905075,
                    -37.79693124,
                    -37.80384709,
                    -37.75978126,
                    -37.79632638,
                    -37.6456619,
                    -37.83472313,
                    -37.81713199,
                    -37.90959511,
                    -37.81091648,
                    -37.77477571,
                    -37.84424854,
                    -37.81618416,
                    -37.84416842,
                    -37.83151792,
                    -37.77699462,
                    -37.86456505,
                    -37.76333901,
                    -37.74373773,
                    -37.80840603,
                    -37.81611275,
                    -37.83186365,
                    -37.80559659,
                    -37.84984329,
                    -37.81006888,
                    -37.88254297,
                    -37.8141052,
                    -37.83733736,
                    -37.80102556,
                    -37.82125089,
                    -37.82521295,
                    -37.82006552,
                    -37.81412663,
                    -37.70138866,
                    -37.85563237,
                    -37.7879715,
                    -37.82631743,
                    -37.86033948,
                    -37.8101686,
                    -37.91571956,
                    -37.81298798,
                    -37.78681828,
                    -37.8772654,
                    -37.78426069,
                    -37.8609903,
                    -37.8644382,
                    -37.77725059,
                    -37.81382233,
                    -37.77190428,
                    -37.86194167,
                    -37.8538256,
                    -37.83869533,
                    -37.8138613,
                    -38.0728631,
                    -37.82222864,
                    -37.79166319,
                    -37.84054044,
                    -37.78352335,
                    -37.77453833,
                    -37.85178055,
                    -37.80920854,
                    -37.85056307,
                    -37.76587666,
                    -37.81317421,
                    -37.84499108,
                    -37.95977823,
                    -37.81007805,
                    -37.84003888,
                    -37.84325745,
                    -37.83870126,
                    -37.81649884,
                    -37.80353827,
                    -37.69100536,
                    -37.81205794,
                    -37.78714749,
                    -37.78811753,
                    -37.81348853,
                    -37.82381152,
                    -37.84030691,
                    -37.85362386,
                    -37.86002928,
                    -37.81187251,
                    -37.7540715,
                    -37.82891166,
                    -37.89700242,
                    -37.8804197,
                    -37.89583037,
                    -37.87231827,
                    -37.82365335,
                    -37.91997469,
                    -37.80891705,
                    -37.73855134,
                    -38.19230135,
                    -37.81087605,
                    -37.80889828,
                    -37.82664572,
                    -37.96584469,
                    -37.80663097,
                    -37.8872648,
                    -37.77520997,
                    -37.7945764,
                    -37.8198904,
                    -37.82536628,
                    -37.85454107,
                    -37.81783167,
                    -37.80062579,
                    -37.83432535,
                    -37.6601318,
                    -37.81966918,
                    -37.84996353,
                    -37.82412671
                  ],
                  "legendgroup": "VIC",
                  "lon": [
                    144.9530038,
                    144.9414442,
                    144.9696181,
                    144.9631149,
                    144.7359531,
                    144.9612606,
                    145.1255755,
                    145.0384558,
                    145.0544146,
                    145.4409549,
                    144.9894011,
                    144.9036773,
                    144.9651101,
                    145.4489466,
                    145.4125417,
                    144.960632,
                    145.2961424,
                    144.9598142,
                    145.0015502,
                    144.6340155,
                    144.9684856,
                    145.1313628,
                    145.0511528,
                    144.9577755,
                    144.9600649,
                    144.8226413,
                    145.0130388,
                    144.9742948,
                    144.9609251,
                    144.7349036,
                    144.8943209,
                    144.9911438,
                    144.8834028,
                    145.1466533,
                    145.0515664,
                    144.7347459,
                    145.1459185,
                    144.9891591,
                    145.4384699,
                    144.9921958,
                    145.1389483,
                    144.9698036,
                    145.0496119,
                    144.9872503,
                    144.962804,
                    144.9542347,
                    144.9966093,
                    144.9795918,
                    145.0484445,
                    144.9871752,
                    145.0262218,
                    145.2294517,
                    144.9883901,
                    144.8782717,
                    144.9677933,
                    144.9614901,
                    144.9444387,
                    145.0241368,
                    144.9737741,
                    145.1842508,
                    144.9603789,
                    144.9401999,
                    144.9638118,
                    145.0269242,
                    145.4417375,
                    144.9510386,
                    145.1048636,
                    144.9409896,
                    144.9559843,
                    144.9670778,
                    144.9676219,
                    144.9062499,
                    144.9580494,
                    144.9588556,
                    144.9833922,
                    145.1288608,
                    145.0435257,
                    144.9795187,
                    144.9525829,
                    144.9706375,
                    144.9837592,
                    144.9975271,
                    144.9582463,
                    144.9543619,
                    144.9708931,
                    144.9946189,
                    144.9584181,
                    144.9765992,
                    145.1496512,
                    144.9897044,
                    144.947733,
                    144.7725201,
                    145.0106731,
                    144.9791587,
                    144.9420813,
                    145.7094617,
                    145.1021133,
                    144.9525687,
                    144.9666929,
                    144.9970524,
                    144.982371,
                    144.9954128,
                    145.0640362,
                    144.9592412,
                    144.9022157,
                    144.9693945,
                    144.9757325,
                    144.9602165,
                    145.1127425,
                    145.0814872,
                    144.992881,
                    144.961811,
                    144.9991793,
                    144.9965305,
                    145.2759291,
                    145.123343,
                    144.9978628,
                    144.9901421,
                    145.0522642,
                    144.9627202,
                    145.0018792,
                    145.6833124,
                    144.9594734,
                    144.9891822,
                    144.9656638,
                    144.9286253,
                    144.9677588,
                    145.1483784,
                    145.0066027,
                    145.01848,
                    144.9649212,
                    144.9531744,
                    144.9591461,
                    144.9750112,
                    144.961908,
                    144.9833575,
                    144.9629675,
                    144.9868908,
                    144.9883758,
                    145.1249781,
                    144.9537557,
                    144.9393488,
                    144.9907152,
                    145.2792422,
                    145.1393069,
                    144.9277346,
                    144.9945932,
                    145.0451504,
                    144.9511717,
                    144.9629601,
                    144.9426366,
                    144.9766248,
                    145.3440649,
                    145.0002263,
                    145.0579344,
                    144.9617917,
                    145.0955553,
                    144.7727169,
                    145.0959041,
                    145.0677187,
                    145.0386188,
                    145.1297592,
                    144.9298321,
                    144.9946792,
                    144.9596849,
                    145.0889432,
                    144.9321061,
                    144.9937557,
                    144.9942684,
                    144.961644,
                    145.1926307,
                    145.0585107,
                    144.9918326,
                    145.0478036,
                    144.7722855,
                    144.9787697,
                    144.9588693,
                    144.9997868,
                    144.954253,
                    145.2337138,
                    144.9897959,
                    144.9707641,
                    144.6575176,
                    144.9652376,
                    144.9762727,
                    144.7425201,
                    144.9377541,
                    144.9404325,
                    144.9870849,
                    144.8235982,
                    145.1649716,
                    144.9724725,
                    145.4923734,
                    144.9611791,
                    144.9628056,
                    144.9675897,
                    144.9798872,
                    144.9924156,
                    144.9557272,
                    144.9912142,
                    144.9531195,
                    145.0017725,
                    144.9864514,
                    144.9923216,
                    144.9532977,
                    145.0221382,
                    144.9511143,
                    144.8995356,
                    145.051217,
                    144.9992642,
                    144.9584792,
                    145.3778714,
                    144.9862356,
                    145.2626195,
                    144.9722717,
                    144.9346276,
                    144.9914257,
                    145.5695817,
                    144.9986446,
                    144.9914077,
                    144.9614275,
                    144.954933,
                    145.0167127,
                    144.9873762,
                    145.0074922,
                    145.0120135,
                    144.972317,
                    145.1416926,
                    144.9907648,
                    144.9288889,
                    144.7423754,
                    145.1085172,
                    144.9844188,
                    144.9893382,
                    144.9595803,
                    144.9900034,
                    144.9765254,
                    145.0042848,
                    144.9792884,
                    145.0578949,
                    144.9534837,
                    144.9918578,
                    145.1294954,
                    144.9931079,
                    145.0032762,
                    144.9840912,
                    145.1497964,
                    145.2325539,
                    144.9693214,
                    144.9324992,
                    145.0070194,
                    144.9666177,
                    144.9763971,
                    144.9828748,
                    144.9840747,
                    144.9591257,
                    145.0104382,
                    144.9577802,
                    144.9938584,
                    144.9952226,
                    145.0341705,
                    144.9799172,
                    144.9677018,
                    145.330427,
                    144.9509147,
                    145.0724271,
                    145.2170811,
                    144.9615472,
                    144.9596581,
                    144.9570722,
                    145.0560747,
                    145.0277347,
                    144.9824761,
                    144.9808329,
                    144.8869459,
                    144.942396,
                    144.9566247,
                    145.0029425,
                    145.1239503,
                    144.9689481,
                    144.989154,
                    145.5116555,
                    145.1182943,
                    145.0131946,
                    144.9616573
                  ],
                  "marker": {
                    "color": "#636efa",
                    "symbol": "circle"
                  },
                  "mode": "markers",
                  "name": "VIC",
                  "showlegend": true,
                  "type": "scattergeo"
                },
                {
                  "geo": "geo",
                  "hovertemplate": "state=Victoria<br>latitude=%{lat}<br>longitude=%{lon}<extra></extra>",
                  "lat": [
                    -38.00763565,
                    -37.78697653,
                    -37.99241216,
                    -37.80376243,
                    -37.88252884,
                    -37.83450881,
                    -37.74906291,
                    -37.82790773,
                    -37.8113742,
                    -37.61897398,
                    -37.8275209,
                    -37.86559041,
                    -37.83781418,
                    -37.85173324
                  ],
                  "legendgroup": "Victoria",
                  "lon": [
                    145.0898862,
                    145.0621281,
                    145.0691004,
                    144.8595959,
                    145.1717529,
                    144.9854845,
                    144.5707758,
                    144.9584161,
                    145.036081,
                    145.4948667,
                    144.9598427,
                    144.9837818,
                    144.9948252,
                    144.9788041
                  ],
                  "marker": {
                    "color": "#EF553B",
                    "symbol": "circle"
                  },
                  "mode": "markers",
                  "name": "Victoria",
                  "showlegend": true,
                  "type": "scattergeo"
                },
                {
                  "geo": "geo",
                  "hovertemplate": "state=Vic<br>latitude=%{lat}<br>longitude=%{lon}<extra></extra>",
                  "lat": [
                    -37.77035509
                  ],
                  "legendgroup": "Vic",
                  "lon": [
                    144.9714059
                  ],
                  "marker": {
                    "color": "#00cc96",
                    "symbol": "circle"
                  },
                  "mode": "markers",
                  "name": "Vic",
                  "showlegend": true,
                  "type": "scattergeo"
                }
              ],
              "layout": {
                "geo": {
                  "center": {},
                  "domain": {
                    "x": [
                      0,
                      1
                    ],
                    "y": [
                      0,
                      1
                    ]
                  },
                  "fitbounds": "locations"
                },
                "legend": {
                  "title": {
                    "text": "state"
                  },
                  "tracegroupgap": 0
                },
                "margin": {
                  "t": 60
                },
                "template": {
                  "data": {
                    "bar": [
                      {
                        "error_x": {
                          "color": "#2a3f5f"
                        },
                        "error_y": {
                          "color": "#2a3f5f"
                        },
                        "marker": {
                          "line": {
                            "color": "#E5ECF6",
                            "width": 0.5
                          },
                          "pattern": {
                            "fillmode": "overlay",
                            "size": 10,
                            "solidity": 0.2
                          }
                        },
                        "type": "bar"
                      }
                    ],
                    "barpolar": [
                      {
                        "marker": {
                          "line": {
                            "color": "#E5ECF6",
                            "width": 0.5
                          },
                          "pattern": {
                            "fillmode": "overlay",
                            "size": 10,
                            "solidity": 0.2
                          }
                        },
                        "type": "barpolar"
                      }
                    ],
                    "carpet": [
                      {
                        "aaxis": {
                          "endlinecolor": "#2a3f5f",
                          "gridcolor": "white",
                          "linecolor": "white",
                          "minorgridcolor": "white",
                          "startlinecolor": "#2a3f5f"
                        },
                        "baxis": {
                          "endlinecolor": "#2a3f5f",
                          "gridcolor": "white",
                          "linecolor": "white",
                          "minorgridcolor": "white",
                          "startlinecolor": "#2a3f5f"
                        },
                        "type": "carpet"
                      }
                    ],
                    "choropleth": [
                      {
                        "colorbar": {
                          "outlinewidth": 0,
                          "ticks": ""
                        },
                        "type": "choropleth"
                      }
                    ],
                    "contour": [
                      {
                        "colorbar": {
                          "outlinewidth": 0,
                          "ticks": ""
                        },
                        "colorscale": [
                          [
                            0,
                            "#0d0887"
                          ],
                          [
                            0.1111111111111111,
                            "#46039f"
                          ],
                          [
                            0.2222222222222222,
                            "#7201a8"
                          ],
                          [
                            0.3333333333333333,
                            "#9c179e"
                          ],
                          [
                            0.4444444444444444,
                            "#bd3786"
                          ],
                          [
                            0.5555555555555556,
                            "#d8576b"
                          ],
                          [
                            0.6666666666666666,
                            "#ed7953"
                          ],
                          [
                            0.7777777777777778,
                            "#fb9f3a"
                          ],
                          [
                            0.8888888888888888,
                            "#fdca26"
                          ],
                          [
                            1,
                            "#f0f921"
                          ]
                        ],
                        "type": "contour"
                      }
                    ],
                    "contourcarpet": [
                      {
                        "colorbar": {
                          "outlinewidth": 0,
                          "ticks": ""
                        },
                        "type": "contourcarpet"
                      }
                    ],
                    "heatmap": [
                      {
                        "colorbar": {
                          "outlinewidth": 0,
                          "ticks": ""
                        },
                        "colorscale": [
                          [
                            0,
                            "#0d0887"
                          ],
                          [
                            0.1111111111111111,
                            "#46039f"
                          ],
                          [
                            0.2222222222222222,
                            "#7201a8"
                          ],
                          [
                            0.3333333333333333,
                            "#9c179e"
                          ],
                          [
                            0.4444444444444444,
                            "#bd3786"
                          ],
                          [
                            0.5555555555555556,
                            "#d8576b"
                          ],
                          [
                            0.6666666666666666,
                            "#ed7953"
                          ],
                          [
                            0.7777777777777778,
                            "#fb9f3a"
                          ],
                          [
                            0.8888888888888888,
                            "#fdca26"
                          ],
                          [
                            1,
                            "#f0f921"
                          ]
                        ],
                        "type": "heatmap"
                      }
                    ],
                    "heatmapgl": [
                      {
                        "colorbar": {
                          "outlinewidth": 0,
                          "ticks": ""
                        },
                        "colorscale": [
                          [
                            0,
                            "#0d0887"
                          ],
                          [
                            0.1111111111111111,
                            "#46039f"
                          ],
                          [
                            0.2222222222222222,
                            "#7201a8"
                          ],
                          [
                            0.3333333333333333,
                            "#9c179e"
                          ],
                          [
                            0.4444444444444444,
                            "#bd3786"
                          ],
                          [
                            0.5555555555555556,
                            "#d8576b"
                          ],
                          [
                            0.6666666666666666,
                            "#ed7953"
                          ],
                          [
                            0.7777777777777778,
                            "#fb9f3a"
                          ],
                          [
                            0.8888888888888888,
                            "#fdca26"
                          ],
                          [
                            1,
                            "#f0f921"
                          ]
                        ],
                        "type": "heatmapgl"
                      }
                    ],
                    "histogram": [
                      {
                        "marker": {
                          "pattern": {
                            "fillmode": "overlay",
                            "size": 10,
                            "solidity": 0.2
                          }
                        },
                        "type": "histogram"
                      }
                    ],
                    "histogram2d": [
                      {
                        "colorbar": {
                          "outlinewidth": 0,
                          "ticks": ""
                        },
                        "colorscale": [
                          [
                            0,
                            "#0d0887"
                          ],
                          [
                            0.1111111111111111,
                            "#46039f"
                          ],
                          [
                            0.2222222222222222,
                            "#7201a8"
                          ],
                          [
                            0.3333333333333333,
                            "#9c179e"
                          ],
                          [
                            0.4444444444444444,
                            "#bd3786"
                          ],
                          [
                            0.5555555555555556,
                            "#d8576b"
                          ],
                          [
                            0.6666666666666666,
                            "#ed7953"
                          ],
                          [
                            0.7777777777777778,
                            "#fb9f3a"
                          ],
                          [
                            0.8888888888888888,
                            "#fdca26"
                          ],
                          [
                            1,
                            "#f0f921"
                          ]
                        ],
                        "type": "histogram2d"
                      }
                    ],
                    "histogram2dcontour": [
                      {
                        "colorbar": {
                          "outlinewidth": 0,
                          "ticks": ""
                        },
                        "colorscale": [
                          [
                            0,
                            "#0d0887"
                          ],
                          [
                            0.1111111111111111,
                            "#46039f"
                          ],
                          [
                            0.2222222222222222,
                            "#7201a8"
                          ],
                          [
                            0.3333333333333333,
                            "#9c179e"
                          ],
                          [
                            0.4444444444444444,
                            "#bd3786"
                          ],
                          [
                            0.5555555555555556,
                            "#d8576b"
                          ],
                          [
                            0.6666666666666666,
                            "#ed7953"
                          ],
                          [
                            0.7777777777777778,
                            "#fb9f3a"
                          ],
                          [
                            0.8888888888888888,
                            "#fdca26"
                          ],
                          [
                            1,
                            "#f0f921"
                          ]
                        ],
                        "type": "histogram2dcontour"
                      }
                    ],
                    "mesh3d": [
                      {
                        "colorbar": {
                          "outlinewidth": 0,
                          "ticks": ""
                        },
                        "type": "mesh3d"
                      }
                    ],
                    "parcoords": [
                      {
                        "line": {
                          "colorbar": {
                            "outlinewidth": 0,
                            "ticks": ""
                          }
                        },
                        "type": "parcoords"
                      }
                    ],
                    "pie": [
                      {
                        "automargin": true,
                        "type": "pie"
                      }
                    ],
                    "scatter": [
                      {
                        "fillpattern": {
                          "fillmode": "overlay",
                          "size": 10,
                          "solidity": 0.2
                        },
                        "type": "scatter"
                      }
                    ],
                    "scatter3d": [
                      {
                        "line": {
                          "colorbar": {
                            "outlinewidth": 0,
                            "ticks": ""
                          }
                        },
                        "marker": {
                          "colorbar": {
                            "outlinewidth": 0,
                            "ticks": ""
                          }
                        },
                        "type": "scatter3d"
                      }
                    ],
                    "scattercarpet": [
                      {
                        "marker": {
                          "colorbar": {
                            "outlinewidth": 0,
                            "ticks": ""
                          }
                        },
                        "type": "scattercarpet"
                      }
                    ],
                    "scattergeo": [
                      {
                        "marker": {
                          "colorbar": {
                            "outlinewidth": 0,
                            "ticks": ""
                          }
                        },
                        "type": "scattergeo"
                      }
                    ],
                    "scattergl": [
                      {
                        "marker": {
                          "colorbar": {
                            "outlinewidth": 0,
                            "ticks": ""
                          }
                        },
                        "type": "scattergl"
                      }
                    ],
                    "scattermapbox": [
                      {
                        "marker": {
                          "colorbar": {
                            "outlinewidth": 0,
                            "ticks": ""
                          }
                        },
                        "type": "scattermapbox"
                      }
                    ],
                    "scatterpolar": [
                      {
                        "marker": {
                          "colorbar": {
                            "outlinewidth": 0,
                            "ticks": ""
                          }
                        },
                        "type": "scatterpolar"
                      }
                    ],
                    "scatterpolargl": [
                      {
                        "marker": {
                          "colorbar": {
                            "outlinewidth": 0,
                            "ticks": ""
                          }
                        },
                        "type": "scatterpolargl"
                      }
                    ],
                    "scatterternary": [
                      {
                        "marker": {
                          "colorbar": {
                            "outlinewidth": 0,
                            "ticks": ""
                          }
                        },
                        "type": "scatterternary"
                      }
                    ],
                    "surface": [
                      {
                        "colorbar": {
                          "outlinewidth": 0,
                          "ticks": ""
                        },
                        "colorscale": [
                          [
                            0,
                            "#0d0887"
                          ],
                          [
                            0.1111111111111111,
                            "#46039f"
                          ],
                          [
                            0.2222222222222222,
                            "#7201a8"
                          ],
                          [
                            0.3333333333333333,
                            "#9c179e"
                          ],
                          [
                            0.4444444444444444,
                            "#bd3786"
                          ],
                          [
                            0.5555555555555556,
                            "#d8576b"
                          ],
                          [
                            0.6666666666666666,
                            "#ed7953"
                          ],
                          [
                            0.7777777777777778,
                            "#fb9f3a"
                          ],
                          [
                            0.8888888888888888,
                            "#fdca26"
                          ],
                          [
                            1,
                            "#f0f921"
                          ]
                        ],
                        "type": "surface"
                      }
                    ],
                    "table": [
                      {
                        "cells": {
                          "fill": {
                            "color": "#EBF0F8"
                          },
                          "line": {
                            "color": "white"
                          }
                        },
                        "header": {
                          "fill": {
                            "color": "#C8D4E3"
                          },
                          "line": {
                            "color": "white"
                          }
                        },
                        "type": "table"
                      }
                    ]
                  },
                  "layout": {
                    "annotationdefaults": {
                      "arrowcolor": "#2a3f5f",
                      "arrowhead": 0,
                      "arrowwidth": 1
                    },
                    "autotypenumbers": "strict",
                    "coloraxis": {
                      "colorbar": {
                        "outlinewidth": 0,
                        "ticks": ""
                      }
                    },
                    "colorscale": {
                      "diverging": [
                        [
                          0,
                          "#8e0152"
                        ],
                        [
                          0.1,
                          "#c51b7d"
                        ],
                        [
                          0.2,
                          "#de77ae"
                        ],
                        [
                          0.3,
                          "#f1b6da"
                        ],
                        [
                          0.4,
                          "#fde0ef"
                        ],
                        [
                          0.5,
                          "#f7f7f7"
                        ],
                        [
                          0.6,
                          "#e6f5d0"
                        ],
                        [
                          0.7,
                          "#b8e186"
                        ],
                        [
                          0.8,
                          "#7fbc41"
                        ],
                        [
                          0.9,
                          "#4d9221"
                        ],
                        [
                          1,
                          "#276419"
                        ]
                      ],
                      "sequential": [
                        [
                          0,
                          "#0d0887"
                        ],
                        [
                          0.1111111111111111,
                          "#46039f"
                        ],
                        [
                          0.2222222222222222,
                          "#7201a8"
                        ],
                        [
                          0.3333333333333333,
                          "#9c179e"
                        ],
                        [
                          0.4444444444444444,
                          "#bd3786"
                        ],
                        [
                          0.5555555555555556,
                          "#d8576b"
                        ],
                        [
                          0.6666666666666666,
                          "#ed7953"
                        ],
                        [
                          0.7777777777777778,
                          "#fb9f3a"
                        ],
                        [
                          0.8888888888888888,
                          "#fdca26"
                        ],
                        [
                          1,
                          "#f0f921"
                        ]
                      ],
                      "sequentialminus": [
                        [
                          0,
                          "#0d0887"
                        ],
                        [
                          0.1111111111111111,
                          "#46039f"
                        ],
                        [
                          0.2222222222222222,
                          "#7201a8"
                        ],
                        [
                          0.3333333333333333,
                          "#9c179e"
                        ],
                        [
                          0.4444444444444444,
                          "#bd3786"
                        ],
                        [
                          0.5555555555555556,
                          "#d8576b"
                        ],
                        [
                          0.6666666666666666,
                          "#ed7953"
                        ],
                        [
                          0.7777777777777778,
                          "#fb9f3a"
                        ],
                        [
                          0.8888888888888888,
                          "#fdca26"
                        ],
                        [
                          1,
                          "#f0f921"
                        ]
                      ]
                    },
                    "colorway": [
                      "#636efa",
                      "#EF553B",
                      "#00cc96",
                      "#ab63fa",
                      "#FFA15A",
                      "#19d3f3",
                      "#FF6692",
                      "#B6E880",
                      "#FF97FF",
                      "#FECB52"
                    ],
                    "font": {
                      "color": "#2a3f5f"
                    },
                    "geo": {
                      "bgcolor": "white",
                      "lakecolor": "white",
                      "landcolor": "#E5ECF6",
                      "showlakes": true,
                      "showland": true,
                      "subunitcolor": "white"
                    },
                    "hoverlabel": {
                      "align": "left"
                    },
                    "hovermode": "closest",
                    "mapbox": {
                      "style": "light"
                    },
                    "paper_bgcolor": "white",
                    "plot_bgcolor": "#E5ECF6",
                    "polar": {
                      "angularaxis": {
                        "gridcolor": "white",
                        "linecolor": "white",
                        "ticks": ""
                      },
                      "bgcolor": "#E5ECF6",
                      "radialaxis": {
                        "gridcolor": "white",
                        "linecolor": "white",
                        "ticks": ""
                      }
                    },
                    "scene": {
                      "xaxis": {
                        "backgroundcolor": "#E5ECF6",
                        "gridcolor": "white",
                        "gridwidth": 2,
                        "linecolor": "white",
                        "showbackground": true,
                        "ticks": "",
                        "zerolinecolor": "white"
                      },
                      "yaxis": {
                        "backgroundcolor": "#E5ECF6",
                        "gridcolor": "white",
                        "gridwidth": 2,
                        "linecolor": "white",
                        "showbackground": true,
                        "ticks": "",
                        "zerolinecolor": "white"
                      },
                      "zaxis": {
                        "backgroundcolor": "#E5ECF6",
                        "gridcolor": "white",
                        "gridwidth": 2,
                        "linecolor": "white",
                        "showbackground": true,
                        "ticks": "",
                        "zerolinecolor": "white"
                      }
                    },
                    "shapedefaults": {
                      "line": {
                        "color": "#2a3f5f"
                      }
                    },
                    "ternary": {
                      "aaxis": {
                        "gridcolor": "white",
                        "linecolor": "white",
                        "ticks": ""
                      },
                      "baxis": {
                        "gridcolor": "white",
                        "linecolor": "white",
                        "ticks": ""
                      },
                      "bgcolor": "#E5ECF6",
                      "caxis": {
                        "gridcolor": "white",
                        "linecolor": "white",
                        "ticks": ""
                      }
                    },
                    "title": {
                      "x": 0.05
                    },
                    "xaxis": {
                      "automargin": true,
                      "gridcolor": "white",
                      "linecolor": "white",
                      "ticks": "",
                      "title": {
                        "standoff": 15
                      },
                      "zerolinecolor": "white",
                      "zerolinewidth": 2
                    },
                    "yaxis": {
                      "automargin": true,
                      "gridcolor": "white",
                      "linecolor": "white",
                      "ticks": "",
                      "title": {
                        "standoff": 15
                      },
                      "zerolinecolor": "white",
                      "zerolinewidth": 2
                    }
                  }
                }
              }
            }
          },
          "metadata": {},
          "output_type": "display_data"
        }
      ],
      "source": [
        "import plotly.express as px\n",
        "color_col = 'state'\n",
        "data = airbnb_df[~airbnb_df[color_col].isna()].sample(300)\n",
        "fig = px.scatter_geo(\n",
        "    data, lat=data.latitude, lon=data.longitude, color=data[color_col]\n",
        "    )\n",
        "fig.update_geos(fitbounds=\"locations\")\n",
        "fig.show()"
      ]
    },
    {
      "cell_type": "markdown",
      "metadata": {
        "id": "rWJHY4f5RT_b"
      },
      "source": [
        "## Operación merge\n",
        "\n",
        "Es hora de combinar ambos conjuntos de datos. Una opción frecuentemente tentadora es aplicar la operación merge sin analizar demasiado la situación. Sin embargo, ¡esta operación puede ocasionar una **explosión exponencial** de nuestro conjunto de datos!\n",
        "\n",
        "¿Por qué la siguiente operación genera un DataFrame con 2 millones de filas?"
      ]
    },
    {
      "cell_type": "code",
      "execution_count": 19,
      "metadata": {
        "colab": {
          "base_uri": "https://localhost:8080/"
        },
        "id": "X6NqwTaShgTD",
        "outputId": "c5fe76d6-521b-41b2-c42d-b34309658c5b"
      },
      "outputs": [
        {
          "data": {
            "text/plain": [
              "2139684"
            ]
          },
          "execution_count": 19,
          "metadata": {},
          "output_type": "execute_result"
        }
      ],
      "source": [
        "## Incorrecto!\n",
        "len(melb_df.merge(airbnb_df, how='left',\n",
        "                  left_on='Postcode', right_on='zipcode'))"
      ]
    },
    {
      "cell_type": "code",
      "execution_count": 20,
      "metadata": {
        "id": "7dnTdSeBgudR"
      },
      "outputs": [],
      "source": [
        "incorrect_df = melb_df.merge(airbnb_df, how='left',\n",
        "                  left_on='Postcode', right_on='zipcode')"
      ]
    },
    {
      "cell_type": "code",
      "execution_count": 21,
      "metadata": {
        "colab": {
          "base_uri": "https://localhost:8080/",
          "height": 191
        },
        "id": "NXr66EyeibpI",
        "outputId": "9a86797d-ee05-49ca-b479-87b4c3ac6b4d"
      },
      "outputs": [
        {
          "data": {
            "text/html": [
              "<div>\n",
              "<style scoped>\n",
              "    .dataframe tbody tr th:only-of-type {\n",
              "        vertical-align: middle;\n",
              "    }\n",
              "\n",
              "    .dataframe tbody tr th {\n",
              "        vertical-align: top;\n",
              "    }\n",
              "\n",
              "    .dataframe thead th {\n",
              "        text-align: right;\n",
              "    }\n",
              "</style>\n",
              "<table border=\"1\" class=\"dataframe\">\n",
              "  <thead>\n",
              "    <tr style=\"text-align: right;\">\n",
              "      <th></th>\n",
              "      <th>Suburb</th>\n",
              "      <th>Address</th>\n",
              "      <th>Rooms</th>\n",
              "      <th>Type</th>\n",
              "      <th>Price</th>\n",
              "      <th>Method</th>\n",
              "      <th>SellerG</th>\n",
              "      <th>Date</th>\n",
              "      <th>Distance</th>\n",
              "      <th>Postcode</th>\n",
              "      <th>...</th>\n",
              "      <th>Bathroom</th>\n",
              "      <th>Car</th>\n",
              "      <th>Landsize</th>\n",
              "      <th>BuildingArea</th>\n",
              "      <th>YearBuilt</th>\n",
              "      <th>CouncilArea</th>\n",
              "      <th>Lattitude</th>\n",
              "      <th>Longtitude</th>\n",
              "      <th>Regionname</th>\n",
              "      <th>Propertycount</th>\n",
              "    </tr>\n",
              "  </thead>\n",
              "  <tbody>\n",
              "    <tr>\n",
              "      <th>0</th>\n",
              "      <td>Abbotsford</td>\n",
              "      <td>85 Turner St</td>\n",
              "      <td>2</td>\n",
              "      <td>h</td>\n",
              "      <td>1480000.0</td>\n",
              "      <td>S</td>\n",
              "      <td>Biggin</td>\n",
              "      <td>3/12/2016</td>\n",
              "      <td>2.5</td>\n",
              "      <td>3067.0</td>\n",
              "      <td>...</td>\n",
              "      <td>1.0</td>\n",
              "      <td>1.0</td>\n",
              "      <td>202.0</td>\n",
              "      <td>NaN</td>\n",
              "      <td>NaN</td>\n",
              "      <td>Yarra</td>\n",
              "      <td>-37.7996</td>\n",
              "      <td>144.9984</td>\n",
              "      <td>Northern Metropolitan</td>\n",
              "      <td>4019.0</td>\n",
              "    </tr>\n",
              "  </tbody>\n",
              "</table>\n",
              "<p>1 rows × 21 columns</p>\n",
              "</div>"
            ],
            "text/plain": [
              "       Suburb       Address  Rooms Type      Price Method SellerG       Date  \\\n",
              "0  Abbotsford  85 Turner St      2    h  1480000.0      S  Biggin  3/12/2016   \n",
              "\n",
              "   Distance  Postcode  ...  Bathroom  Car  Landsize  BuildingArea  YearBuilt  \\\n",
              "0       2.5    3067.0  ...       1.0  1.0     202.0           NaN        NaN   \n",
              "\n",
              "   CouncilArea Lattitude  Longtitude             Regionname Propertycount  \n",
              "0        Yarra  -37.7996    144.9984  Northern Metropolitan        4019.0  \n",
              "\n",
              "[1 rows x 21 columns]"
            ]
          },
          "execution_count": 21,
          "metadata": {},
          "output_type": "execute_result"
        }
      ],
      "source": [
        "melb_df[melb_df['Address'] == \"85 Turner St\"]"
      ]
    },
    {
      "cell_type": "code",
      "execution_count": 22,
      "metadata": {
        "colab": {
          "base_uri": "https://localhost:8080/"
        },
        "id": "2hqQzLzBi8pJ",
        "outputId": "29003922-6941-4142-a5a1-15669158c086"
      },
      "outputs": [
        {
          "data": {
            "text/plain": [
              "(258, 14)"
            ]
          },
          "execution_count": 22,
          "metadata": {},
          "output_type": "execute_result"
        }
      ],
      "source": [
        "airbnb_df[airbnb_df['zipcode'] == 3067].shape"
      ]
    },
    {
      "cell_type": "code",
      "execution_count": 23,
      "metadata": {
        "colab": {
          "base_uri": "https://localhost:8080/"
        },
        "id": "SAxLKX0Vjfd0",
        "outputId": "1096f8b2-3d9d-492f-d8df-20f469102042"
      },
      "outputs": [
        {
          "data": {
            "text/plain": [
              "0      This is a space to enjoy, a place to come and ...\n",
              "1      Melbourne Inner city living at its very best!!...\n",
              "2      Set in a relaxing, bright city garden, complet...\n",
              "3      Cosy furnished single bedroom in a retro flat....\n",
              "4      My place is close to the Yarra River and the f...\n",
              "                             ...                        \n",
              "253    Contemporary, well-equipped, comfortable townh...\n",
              "254    Enjoy simple luxury living in my newly furnish...\n",
              "255    The place is located near Richmond and is a 10...\n",
              "256    Experience modern riverside living in my light...\n",
              "257    Charming, bright, clean and comfortable house ...\n",
              "Name: description, Length: 258, dtype: object"
            ]
          },
          "execution_count": 23,
          "metadata": {},
          "output_type": "execute_result"
        }
      ],
      "source": [
        "incorrect_df[incorrect_df['Address'] == \"85 Turner St\"]['description']"
      ]
    },
    {
      "cell_type": "markdown",
      "metadata": {
        "id": "ZjlzIlBGhfKA"
      },
      "source": [
        "Recordemos que nuestro objetivo es agregar información sobre el valor del vecindario de la propiedad. ¿Qué información del conjunto de airbnb nos sirve para representar esto?\n",
        "\n",
        "* Promedio de `price` por zipcode\n",
        "* Promedio de `weekly_price` por zipcode\n",
        "* Promedio de `monthly_price` por zipcode\n",
        "\n",
        "Queda a interpretación de ustedes decidir cuál de todos ellos utilizar."
      ]
    },
    {
      "cell_type": "code",
      "execution_count": 24,
      "metadata": {
        "id": "satTM4vKlqtS"
      },
      "outputs": [],
      "source": [
        "relevant_cols = ['price', 'weekly_price', 'monthly_price']"
      ]
    },
    {
      "cell_type": "markdown",
      "metadata": {
        "id": "Y2ORIRhGlY1z"
      },
      "source": [
        "Cuando queremos agregar un único dato luego de agrupar un DataFrame, la operación es bastante sencilla. Sólo tienen que tener en cuenta que el nombre de la columnas será el mismo, aunque su valor ahora esté agregado."
      ]
    },
    {
      "cell_type": "code",
      "execution_count": 25,
      "metadata": {
        "colab": {
          "base_uri": "https://localhost:8080/",
          "height": 206
        },
        "id": "I41gc3aflTrw",
        "outputId": "ee72e2c8-b8ec-43d1-ee51-4140a00a2bc2"
      },
      "outputs": [
        {
          "data": {
            "text/html": [
              "<div>\n",
              "<style scoped>\n",
              "    .dataframe tbody tr th:only-of-type {\n",
              "        vertical-align: middle;\n",
              "    }\n",
              "\n",
              "    .dataframe tbody tr th {\n",
              "        vertical-align: top;\n",
              "    }\n",
              "\n",
              "    .dataframe thead th {\n",
              "        text-align: right;\n",
              "    }\n",
              "</style>\n",
              "<table border=\"1\" class=\"dataframe\">\n",
              "  <thead>\n",
              "    <tr style=\"text-align: right;\">\n",
              "      <th></th>\n",
              "      <th>zipcode</th>\n",
              "      <th>price</th>\n",
              "      <th>weekly_price</th>\n",
              "      <th>monthly_price</th>\n",
              "    </tr>\n",
              "  </thead>\n",
              "  <tbody>\n",
              "    <tr>\n",
              "      <th>0</th>\n",
              "      <td>2010.0</td>\n",
              "      <td>40.000000</td>\n",
              "      <td>NaN</td>\n",
              "      <td>NaN</td>\n",
              "    </tr>\n",
              "    <tr>\n",
              "      <th>1</th>\n",
              "      <td>2134.0</td>\n",
              "      <td>50.000000</td>\n",
              "      <td>NaN</td>\n",
              "      <td>NaN</td>\n",
              "    </tr>\n",
              "    <tr>\n",
              "      <th>2</th>\n",
              "      <td>2582.0</td>\n",
              "      <td>104.000000</td>\n",
              "      <td>NaN</td>\n",
              "      <td>NaN</td>\n",
              "    </tr>\n",
              "    <tr>\n",
              "      <th>3</th>\n",
              "      <td>3000.0</td>\n",
              "      <td>150.504307</td>\n",
              "      <td>918.738956</td>\n",
              "      <td>3407.204651</td>\n",
              "    </tr>\n",
              "    <tr>\n",
              "      <th>4</th>\n",
              "      <td>3001.0</td>\n",
              "      <td>132.500000</td>\n",
              "      <td>NaN</td>\n",
              "      <td>NaN</td>\n",
              "    </tr>\n",
              "  </tbody>\n",
              "</table>\n",
              "</div>"
            ],
            "text/plain": [
              "   zipcode       price  weekly_price  monthly_price\n",
              "0   2010.0   40.000000           NaN            NaN\n",
              "1   2134.0   50.000000           NaN            NaN\n",
              "2   2582.0  104.000000           NaN            NaN\n",
              "3   3000.0  150.504307    918.738956    3407.204651\n",
              "4   3001.0  132.500000           NaN            NaN"
            ]
          },
          "execution_count": 25,
          "metadata": {},
          "output_type": "execute_result"
        }
      ],
      "source": [
        "# Option 1: inefficient form.\n",
        "# The aggregation is calculated over all columns, and after is calculated\n",
        "# we filter only the columns we want.\n",
        "# airbnb_df.groupby('zipcode').mean()[relevant_cols].reset_index()[:5]\n",
        "\n",
        "# Option 2: efficient form\n",
        "# First we filter out the columns we want, and then we only aggregate\n",
        "# those. Be careful to include the grouping column as well.\n",
        "airbnb_df[relevant_cols + ['zipcode']]\\\n",
        "  .groupby('zipcode').mean().reset_index()[:5]"
      ]
    },
    {
      "cell_type": "markdown",
      "metadata": {
        "id": "8kR2TEpni9i5"
      },
      "source": [
        "Agrupar y agregar utilizando más de un tipo de operación es un poco más complicado. Pandas nos provee de muchas formas de escribir la misma operación. Ninguna de ellas es muy intuitiva, y usualmente requiere renombrar las columnas para darles nombres más significativos."
      ]
    },
    {
      "cell_type": "code",
      "execution_count": 26,
      "metadata": {
        "id": "kIRP_yIUPvgJ"
      },
      "outputs": [],
      "source": [
        "relevant_cols = ['price', 'weekly_price', 'monthly_price', 'zipcode']\n",
        "## Option 1\n",
        "# Pass a dictionary where the keys are the original columns to aggregate and\n",
        "# the values are the operations (or list of operations).\n",
        "airbnb_price_by_zipcode = airbnb_df[relevant_cols].groupby('zipcode')\\\n",
        "  .agg({'price': ['mean', 'count'], 'weekly_price': 'mean',\n",
        "        'monthly_price': 'mean'})\\\n",
        "  .reset_index()"
      ]
    },
    {
      "cell_type": "code",
      "execution_count": null,
      "metadata": {
        "colab": {
          "base_uri": "https://localhost:8080/",
          "height": 455
        },
        "id": "u8tLNn_4Py1t",
        "outputId": "2d2ad85b-115c-4e57-8961-3b092ae9a325"
      },
      "outputs": [
        {
          "data": {
            "text/html": [
              "\n",
              "  <div id=\"df-b3a1281f-bb44-4411-8c16-b196f849c48d\">\n",
              "    <div class=\"colab-df-container\">\n",
              "      <div>\n",
              "<style scoped>\n",
              "    .dataframe tbody tr th:only-of-type {\n",
              "        vertical-align: middle;\n",
              "    }\n",
              "\n",
              "    .dataframe tbody tr th {\n",
              "        vertical-align: top;\n",
              "    }\n",
              "\n",
              "    .dataframe thead tr th {\n",
              "        text-align: left;\n",
              "    }\n",
              "</style>\n",
              "<table border=\"1\" class=\"dataframe\">\n",
              "  <thead>\n",
              "    <tr>\n",
              "      <th></th>\n",
              "      <th>zipcode</th>\n",
              "      <th colspan=\"2\" halign=\"left\">price</th>\n",
              "      <th>weekly_price</th>\n",
              "      <th>monthly_price</th>\n",
              "    </tr>\n",
              "    <tr>\n",
              "      <th></th>\n",
              "      <th></th>\n",
              "      <th>mean</th>\n",
              "      <th>count</th>\n",
              "      <th>mean</th>\n",
              "      <th>mean</th>\n",
              "    </tr>\n",
              "  </thead>\n",
              "  <tbody>\n",
              "    <tr>\n",
              "      <th>0</th>\n",
              "      <td>2010.0</td>\n",
              "      <td>40.000000</td>\n",
              "      <td>1</td>\n",
              "      <td>NaN</td>\n",
              "      <td>NaN</td>\n",
              "    </tr>\n",
              "    <tr>\n",
              "      <th>1</th>\n",
              "      <td>2134.0</td>\n",
              "      <td>50.000000</td>\n",
              "      <td>1</td>\n",
              "      <td>NaN</td>\n",
              "      <td>NaN</td>\n",
              "    </tr>\n",
              "    <tr>\n",
              "      <th>2</th>\n",
              "      <td>2582.0</td>\n",
              "      <td>104.000000</td>\n",
              "      <td>1</td>\n",
              "      <td>NaN</td>\n",
              "      <td>NaN</td>\n",
              "    </tr>\n",
              "    <tr>\n",
              "      <th>3</th>\n",
              "      <td>3000.0</td>\n",
              "      <td>150.504307</td>\n",
              "      <td>3367</td>\n",
              "      <td>918.738956</td>\n",
              "      <td>3407.204651</td>\n",
              "    </tr>\n",
              "    <tr>\n",
              "      <th>4</th>\n",
              "      <td>3001.0</td>\n",
              "      <td>132.500000</td>\n",
              "      <td>2</td>\n",
              "      <td>NaN</td>\n",
              "      <td>NaN</td>\n",
              "    </tr>\n",
              "    <tr>\n",
              "      <th>...</th>\n",
              "      <td>...</td>\n",
              "      <td>...</td>\n",
              "      <td>...</td>\n",
              "      <td>...</td>\n",
              "      <td>...</td>\n",
              "    </tr>\n",
              "    <tr>\n",
              "      <th>242</th>\n",
              "      <td>7367.0</td>\n",
              "      <td>230.000000</td>\n",
              "      <td>1</td>\n",
              "      <td>NaN</td>\n",
              "      <td>NaN</td>\n",
              "    </tr>\n",
              "    <tr>\n",
              "      <th>243</th>\n",
              "      <td>8938.0</td>\n",
              "      <td>296.000000</td>\n",
              "      <td>1</td>\n",
              "      <td>NaN</td>\n",
              "      <td>NaN</td>\n",
              "    </tr>\n",
              "    <tr>\n",
              "      <th>244</th>\n",
              "      <td>9004.0</td>\n",
              "      <td>226.000000</td>\n",
              "      <td>1</td>\n",
              "      <td>NaN</td>\n",
              "      <td>NaN</td>\n",
              "    </tr>\n",
              "    <tr>\n",
              "      <th>245</th>\n",
              "      <td>9540.0</td>\n",
              "      <td>245.000000</td>\n",
              "      <td>1</td>\n",
              "      <td>NaN</td>\n",
              "      <td>NaN</td>\n",
              "    </tr>\n",
              "    <tr>\n",
              "      <th>246</th>\n",
              "      <td>30122.0</td>\n",
              "      <td>75.000000</td>\n",
              "      <td>1</td>\n",
              "      <td>525.000000</td>\n",
              "      <td>2281.000000</td>\n",
              "    </tr>\n",
              "  </tbody>\n",
              "</table>\n",
              "<p>247 rows × 5 columns</p>\n",
              "</div>\n",
              "      <button class=\"colab-df-convert\" onclick=\"convertToInteractive('df-b3a1281f-bb44-4411-8c16-b196f849c48d')\"\n",
              "              title=\"Convert this dataframe to an interactive table.\"\n",
              "              style=\"display:none;\">\n",
              "        \n",
              "  <svg xmlns=\"http://www.w3.org/2000/svg\" height=\"24px\"viewBox=\"0 0 24 24\"\n",
              "       width=\"24px\">\n",
              "    <path d=\"M0 0h24v24H0V0z\" fill=\"none\"/>\n",
              "    <path d=\"M18.56 5.44l.94 2.06.94-2.06 2.06-.94-2.06-.94-.94-2.06-.94 2.06-2.06.94zm-11 1L8.5 8.5l.94-2.06 2.06-.94-2.06-.94L8.5 2.5l-.94 2.06-2.06.94zm10 10l.94 2.06.94-2.06 2.06-.94-2.06-.94-.94-2.06-.94 2.06-2.06.94z\"/><path d=\"M17.41 7.96l-1.37-1.37c-.4-.4-.92-.59-1.43-.59-.52 0-1.04.2-1.43.59L10.3 9.45l-7.72 7.72c-.78.78-.78 2.05 0 2.83L4 21.41c.39.39.9.59 1.41.59.51 0 1.02-.2 1.41-.59l7.78-7.78 2.81-2.81c.8-.78.8-2.07 0-2.86zM5.41 20L4 18.59l7.72-7.72 1.47 1.35L5.41 20z\"/>\n",
              "  </svg>\n",
              "      </button>\n",
              "      \n",
              "  <style>\n",
              "    .colab-df-container {\n",
              "      display:flex;\n",
              "      flex-wrap:wrap;\n",
              "      gap: 12px;\n",
              "    }\n",
              "\n",
              "    .colab-df-convert {\n",
              "      background-color: #E8F0FE;\n",
              "      border: none;\n",
              "      border-radius: 50%;\n",
              "      cursor: pointer;\n",
              "      display: none;\n",
              "      fill: #1967D2;\n",
              "      height: 32px;\n",
              "      padding: 0 0 0 0;\n",
              "      width: 32px;\n",
              "    }\n",
              "\n",
              "    .colab-df-convert:hover {\n",
              "      background-color: #E2EBFA;\n",
              "      box-shadow: 0px 1px 2px rgba(60, 64, 67, 0.3), 0px 1px 3px 1px rgba(60, 64, 67, 0.15);\n",
              "      fill: #174EA6;\n",
              "    }\n",
              "\n",
              "    [theme=dark] .colab-df-convert {\n",
              "      background-color: #3B4455;\n",
              "      fill: #D2E3FC;\n",
              "    }\n",
              "\n",
              "    [theme=dark] .colab-df-convert:hover {\n",
              "      background-color: #434B5C;\n",
              "      box-shadow: 0px 1px 3px 1px rgba(0, 0, 0, 0.15);\n",
              "      filter: drop-shadow(0px 1px 2px rgba(0, 0, 0, 0.3));\n",
              "      fill: #FFFFFF;\n",
              "    }\n",
              "  </style>\n",
              "\n",
              "      <script>\n",
              "        const buttonEl =\n",
              "          document.querySelector('#df-b3a1281f-bb44-4411-8c16-b196f849c48d button.colab-df-convert');\n",
              "        buttonEl.style.display =\n",
              "          google.colab.kernel.accessAllowed ? 'block' : 'none';\n",
              "\n",
              "        async function convertToInteractive(key) {\n",
              "          const element = document.querySelector('#df-b3a1281f-bb44-4411-8c16-b196f849c48d');\n",
              "          const dataTable =\n",
              "            await google.colab.kernel.invokeFunction('convertToInteractive',\n",
              "                                                     [key], {});\n",
              "          if (!dataTable) return;\n",
              "\n",
              "          const docLinkHtml = 'Like what you see? Visit the ' +\n",
              "            '<a target=\"_blank\" href=https://colab.research.google.com/notebooks/data_table.ipynb>data table notebook</a>'\n",
              "            + ' to learn more about interactive tables.';\n",
              "          element.innerHTML = '';\n",
              "          dataTable['output_type'] = 'display_data';\n",
              "          await google.colab.output.renderOutput(dataTable, element);\n",
              "          const docLink = document.createElement('div');\n",
              "          docLink.innerHTML = docLinkHtml;\n",
              "          element.appendChild(docLink);\n",
              "        }\n",
              "      </script>\n",
              "    </div>\n",
              "  </div>\n",
              "  "
            ],
            "text/plain": [
              "     zipcode       price       weekly_price monthly_price\n",
              "                    mean count         mean          mean\n",
              "0     2010.0   40.000000     1          NaN           NaN\n",
              "1     2134.0   50.000000     1          NaN           NaN\n",
              "2     2582.0  104.000000     1          NaN           NaN\n",
              "3     3000.0  150.504307  3367   918.738956   3407.204651\n",
              "4     3001.0  132.500000     2          NaN           NaN\n",
              "..       ...         ...   ...          ...           ...\n",
              "242   7367.0  230.000000     1          NaN           NaN\n",
              "243   8938.0  296.000000     1          NaN           NaN\n",
              "244   9004.0  226.000000     1          NaN           NaN\n",
              "245   9540.0  245.000000     1          NaN           NaN\n",
              "246  30122.0   75.000000     1   525.000000   2281.000000\n",
              "\n",
              "[247 rows x 5 columns]"
            ]
          },
          "execution_count": 47,
          "metadata": {},
          "output_type": "execute_result"
        }
      ],
      "source": [
        "airbnb_price_by_zipcode"
      ]
    },
    {
      "cell_type": "code",
      "execution_count": 27,
      "metadata": {
        "colab": {
          "base_uri": "https://localhost:8080/",
          "height": 143
        },
        "id": "K72zWkuJRl0M",
        "outputId": "5cece1f0-19fa-4989-99ba-af2c2bdd7b9d"
      },
      "outputs": [
        {
          "data": {
            "text/html": [
              "<div>\n",
              "<style scoped>\n",
              "    .dataframe tbody tr th:only-of-type {\n",
              "        vertical-align: middle;\n",
              "    }\n",
              "\n",
              "    .dataframe tbody tr th {\n",
              "        vertical-align: top;\n",
              "    }\n",
              "\n",
              "    .dataframe thead th {\n",
              "        text-align: right;\n",
              "    }\n",
              "</style>\n",
              "<table border=\"1\" class=\"dataframe\">\n",
              "  <thead>\n",
              "    <tr style=\"text-align: right;\">\n",
              "      <th></th>\n",
              "      <th>zipcode</th>\n",
              "      <th>airbnb_price_mean</th>\n",
              "      <th>airbnb_record_count</th>\n",
              "      <th>airbnb_weekly_price_mean</th>\n",
              "      <th>airbnb_monthly_price_mean</th>\n",
              "    </tr>\n",
              "  </thead>\n",
              "  <tbody>\n",
              "    <tr>\n",
              "      <th>0</th>\n",
              "      <td>2010.0</td>\n",
              "      <td>40.0</td>\n",
              "      <td>1</td>\n",
              "      <td>NaN</td>\n",
              "      <td>NaN</td>\n",
              "    </tr>\n",
              "    <tr>\n",
              "      <th>1</th>\n",
              "      <td>2134.0</td>\n",
              "      <td>50.0</td>\n",
              "      <td>1</td>\n",
              "      <td>NaN</td>\n",
              "      <td>NaN</td>\n",
              "    </tr>\n",
              "    <tr>\n",
              "      <th>2</th>\n",
              "      <td>2582.0</td>\n",
              "      <td>104.0</td>\n",
              "      <td>1</td>\n",
              "      <td>NaN</td>\n",
              "      <td>NaN</td>\n",
              "    </tr>\n",
              "  </tbody>\n",
              "</table>\n",
              "</div>"
            ],
            "text/plain": [
              "   zipcode  airbnb_price_mean  airbnb_record_count  airbnb_weekly_price_mean  \\\n",
              "0   2010.0               40.0                    1                       NaN   \n",
              "1   2134.0               50.0                    1                       NaN   \n",
              "2   2582.0              104.0                    1                       NaN   \n",
              "\n",
              "   airbnb_monthly_price_mean  \n",
              "0                        NaN  \n",
              "1                        NaN  \n",
              "2                        NaN  "
            ]
          },
          "execution_count": 27,
          "metadata": {},
          "output_type": "execute_result"
        }
      ],
      "source": [
        "relevant_cols = ['price', 'weekly_price', 'monthly_price', 'zipcode']\n",
        "## Option 1\n",
        "# Pass a dictionary where the keys are the original columns to aggregate and\n",
        "# the values are the operations (or list of operations).\n",
        "airbnb_price_by_zipcode = airbnb_df[relevant_cols].groupby('zipcode')\\\n",
        "  .agg({'price': ['mean', 'count'], 'weekly_price': 'mean',\n",
        "        'monthly_price': 'mean'})\\\n",
        "  .reset_index()\n",
        "# Flatten the two level columns\n",
        "airbnb_price_by_zipcode.columns = [\n",
        "  ' '.join(col).strip()\n",
        "  for col in airbnb_price_by_zipcode.columns.values]\n",
        "# Rename columns\n",
        "airbnb_price_by_zipcode = airbnb_price_by_zipcode.rename(\n",
        "    columns={'price mean': 'airbnb_price_mean',\n",
        "             'price count': 'airbnb_record_count',\n",
        "             'weekly_price mean': 'airbnb_weekly_price_mean',\n",
        "             'monthly_price mean': 'airbnb_monthly_price_mean'}\n",
        ")\n",
        "\n",
        "## Option 2\n",
        "# Pass as argument name the new name of the column, and as value a tuple where\n",
        "# the first value is the original column and the second value is the operation.\n",
        "# airbnb_price_by_zipcode = airbnb_df[relevant_cols].groupby('zipcode')\\\n",
        "#   .agg(airbnb_record_count=('price', 'count'),\n",
        "#        airbnb_price_mean=('price', 'mean'),\n",
        "#        airbnb_weekly_price_mean=('weekly_price', 'mean'),\n",
        "#        airbnb_monthly_price_mean=('monthly_price', 'mean'))\\\n",
        "#   .reset_index()\n",
        "\n",
        "airbnb_price_by_zipcode[:3]"
      ]
    },
    {
      "cell_type": "markdown",
      "metadata": {
        "id": "5e22EeNigvjw"
      },
      "source": [
        "Guardamos el dataset construido ya que nos sera util para el entregable"
      ]
    },
    {
      "cell_type": "code",
      "execution_count": 28,
      "metadata": {
        "id": "tXI0Sz2DgqXx"
      },
      "outputs": [],
      "source": [
        "airbnb_price_by_zipcode.to_csv(\"airbnb_price_by_zipcode.csv\", index=None)"
      ]
    },
    {
      "cell_type": "code",
      "execution_count": 29,
      "metadata": {
        "id": "lnbszPGAgjBk"
      },
      "outputs": [],
      "source": [
        "# Para Google Colab\n",
        "\n",
        "# from google.colab import files\n",
        "# files.download('airbnb_price_by_zipcode.csv')"
      ]
    },
    {
      "cell_type": "markdown",
      "metadata": {
        "id": "dWPewEhTQdWi"
      },
      "source": [
        "Finalmente hacemos la combinacion de ambos datasets creados"
      ]
    },
    {
      "cell_type": "code",
      "execution_count": 30,
      "metadata": {
        "colab": {
          "base_uri": "https://localhost:8080/",
          "height": 438
        },
        "id": "RfUAyonwMOrx",
        "outputId": "303814c3-f0f7-4dd0-a4d1-d5ca3e76559a"
      },
      "outputs": [
        {
          "data": {
            "text/html": [
              "<div>\n",
              "<style scoped>\n",
              "    .dataframe tbody tr th:only-of-type {\n",
              "        vertical-align: middle;\n",
              "    }\n",
              "\n",
              "    .dataframe tbody tr th {\n",
              "        vertical-align: top;\n",
              "    }\n",
              "\n",
              "    .dataframe thead th {\n",
              "        text-align: right;\n",
              "    }\n",
              "</style>\n",
              "<table border=\"1\" class=\"dataframe\">\n",
              "  <thead>\n",
              "    <tr style=\"text-align: right;\">\n",
              "      <th></th>\n",
              "      <th>Suburb</th>\n",
              "      <th>Address</th>\n",
              "      <th>Rooms</th>\n",
              "      <th>Type</th>\n",
              "      <th>Price</th>\n",
              "      <th>Method</th>\n",
              "      <th>SellerG</th>\n",
              "      <th>Date</th>\n",
              "      <th>Distance</th>\n",
              "      <th>Postcode</th>\n",
              "      <th>...</th>\n",
              "      <th>CouncilArea</th>\n",
              "      <th>Lattitude</th>\n",
              "      <th>Longtitude</th>\n",
              "      <th>Regionname</th>\n",
              "      <th>Propertycount</th>\n",
              "      <th>zipcode</th>\n",
              "      <th>airbnb_price_mean</th>\n",
              "      <th>airbnb_record_count</th>\n",
              "      <th>airbnb_weekly_price_mean</th>\n",
              "      <th>airbnb_monthly_price_mean</th>\n",
              "    </tr>\n",
              "  </thead>\n",
              "  <tbody>\n",
              "    <tr>\n",
              "      <th>992</th>\n",
              "      <td>Box Hill</td>\n",
              "      <td>12 Pendle St</td>\n",
              "      <td>4</td>\n",
              "      <td>h</td>\n",
              "      <td>1506000.0</td>\n",
              "      <td>S</td>\n",
              "      <td>hockingstuart</td>\n",
              "      <td>17/09/2016</td>\n",
              "      <td>13.1</td>\n",
              "      <td>3128.0</td>\n",
              "      <td>...</td>\n",
              "      <td>Whitehorse</td>\n",
              "      <td>-37.81800</td>\n",
              "      <td>145.13540</td>\n",
              "      <td>Eastern Metropolitan</td>\n",
              "      <td>4605.0</td>\n",
              "      <td>3128.0</td>\n",
              "      <td>111.443925</td>\n",
              "      <td>214.0</td>\n",
              "      <td>426.375000</td>\n",
              "      <td>1610.625000</td>\n",
              "    </tr>\n",
              "    <tr>\n",
              "      <th>7845</th>\n",
              "      <td>Fitzroy North</td>\n",
              "      <td>58 Scotchmer St</td>\n",
              "      <td>2</td>\n",
              "      <td>h</td>\n",
              "      <td>1345000.0</td>\n",
              "      <td>S</td>\n",
              "      <td>Woodards</td>\n",
              "      <td>8/04/2017</td>\n",
              "      <td>3.5</td>\n",
              "      <td>3068.0</td>\n",
              "      <td>...</td>\n",
              "      <td>Yarra</td>\n",
              "      <td>-37.78310</td>\n",
              "      <td>144.98050</td>\n",
              "      <td>Northern Metropolitan</td>\n",
              "      <td>6244.0</td>\n",
              "      <td>3068.0</td>\n",
              "      <td>126.012987</td>\n",
              "      <td>308.0</td>\n",
              "      <td>801.315789</td>\n",
              "      <td>2801.842105</td>\n",
              "    </tr>\n",
              "    <tr>\n",
              "      <th>10628</th>\n",
              "      <td>Collingwood</td>\n",
              "      <td>30 Alexander St</td>\n",
              "      <td>3</td>\n",
              "      <td>h</td>\n",
              "      <td>1297000.0</td>\n",
              "      <td>S</td>\n",
              "      <td>Dixon</td>\n",
              "      <td>8/07/2017</td>\n",
              "      <td>2.0</td>\n",
              "      <td>3066.0</td>\n",
              "      <td>...</td>\n",
              "      <td>Yarra</td>\n",
              "      <td>-37.79557</td>\n",
              "      <td>144.99158</td>\n",
              "      <td>Northern Metropolitan</td>\n",
              "      <td>4553.0</td>\n",
              "      <td>3066.0</td>\n",
              "      <td>145.989899</td>\n",
              "      <td>297.0</td>\n",
              "      <td>920.078947</td>\n",
              "      <td>3087.230769</td>\n",
              "    </tr>\n",
              "    <tr>\n",
              "      <th>3269</th>\n",
              "      <td>Heidelberg Heights</td>\n",
              "      <td>3/47 Southern Rd</td>\n",
              "      <td>2</td>\n",
              "      <td>h</td>\n",
              "      <td>510000.0</td>\n",
              "      <td>SP</td>\n",
              "      <td>Fletchers</td>\n",
              "      <td>27/11/2016</td>\n",
              "      <td>10.5</td>\n",
              "      <td>3081.0</td>\n",
              "      <td>...</td>\n",
              "      <td>Banyule</td>\n",
              "      <td>-37.74330</td>\n",
              "      <td>145.05450</td>\n",
              "      <td>Eastern Metropolitan</td>\n",
              "      <td>2947.0</td>\n",
              "      <td>3081.0</td>\n",
              "      <td>83.657895</td>\n",
              "      <td>38.0</td>\n",
              "      <td>291.428571</td>\n",
              "      <td>937.500000</td>\n",
              "    </tr>\n",
              "    <tr>\n",
              "      <th>10659</th>\n",
              "      <td>Epping</td>\n",
              "      <td>27 Hammond Dr</td>\n",
              "      <td>3</td>\n",
              "      <td>h</td>\n",
              "      <td>490000.0</td>\n",
              "      <td>SP</td>\n",
              "      <td>Ristic</td>\n",
              "      <td>8/07/2017</td>\n",
              "      <td>19.6</td>\n",
              "      <td>3076.0</td>\n",
              "      <td>...</td>\n",
              "      <td>Whittlesea</td>\n",
              "      <td>-37.64166</td>\n",
              "      <td>145.02885</td>\n",
              "      <td>Northern Metropolitan</td>\n",
              "      <td>10926.0</td>\n",
              "      <td>3076.0</td>\n",
              "      <td>51.529412</td>\n",
              "      <td>17.0</td>\n",
              "      <td>395.000000</td>\n",
              "      <td>1440.000000</td>\n",
              "    </tr>\n",
              "  </tbody>\n",
              "</table>\n",
              "<p>5 rows × 26 columns</p>\n",
              "</div>"
            ],
            "text/plain": [
              "                   Suburb           Address  Rooms Type      Price Method  \\\n",
              "992              Box Hill      12 Pendle St      4    h  1506000.0      S   \n",
              "7845        Fitzroy North   58 Scotchmer St      2    h  1345000.0      S   \n",
              "10628         Collingwood   30 Alexander St      3    h  1297000.0      S   \n",
              "3269   Heidelberg Heights  3/47 Southern Rd      2    h   510000.0     SP   \n",
              "10659              Epping     27 Hammond Dr      3    h   490000.0     SP   \n",
              "\n",
              "             SellerG        Date  Distance  Postcode  ...  CouncilArea  \\\n",
              "992    hockingstuart  17/09/2016      13.1    3128.0  ...   Whitehorse   \n",
              "7845        Woodards   8/04/2017       3.5    3068.0  ...        Yarra   \n",
              "10628          Dixon   8/07/2017       2.0    3066.0  ...        Yarra   \n",
              "3269       Fletchers  27/11/2016      10.5    3081.0  ...      Banyule   \n",
              "10659         Ristic   8/07/2017      19.6    3076.0  ...   Whittlesea   \n",
              "\n",
              "       Lattitude  Longtitude             Regionname  Propertycount  zipcode  \\\n",
              "992    -37.81800   145.13540   Eastern Metropolitan         4605.0   3128.0   \n",
              "7845   -37.78310   144.98050  Northern Metropolitan         6244.0   3068.0   \n",
              "10628  -37.79557   144.99158  Northern Metropolitan         4553.0   3066.0   \n",
              "3269   -37.74330   145.05450   Eastern Metropolitan         2947.0   3081.0   \n",
              "10659  -37.64166   145.02885  Northern Metropolitan        10926.0   3076.0   \n",
              "\n",
              "      airbnb_price_mean  airbnb_record_count  airbnb_weekly_price_mean  \\\n",
              "992          111.443925                214.0                426.375000   \n",
              "7845         126.012987                308.0                801.315789   \n",
              "10628        145.989899                297.0                920.078947   \n",
              "3269          83.657895                 38.0                291.428571   \n",
              "10659         51.529412                 17.0                395.000000   \n",
              "\n",
              "      airbnb_monthly_price_mean  \n",
              "992                 1610.625000  \n",
              "7845                2801.842105  \n",
              "10628               3087.230769  \n",
              "3269                 937.500000  \n",
              "10659               1440.000000  \n",
              "\n",
              "[5 rows x 26 columns]"
            ]
          },
          "execution_count": 30,
          "metadata": {},
          "output_type": "execute_result"
        }
      ],
      "source": [
        "merged_sales_df = melb_df.merge(\n",
        "    airbnb_price_by_zipcode, how='left',\n",
        "    left_on='Postcode', right_on='zipcode'\n",
        ")\n",
        "merged_sales_df.sample(5)"
      ]
    },
    {
      "cell_type": "code",
      "execution_count": 31,
      "metadata": {
        "colab": {
          "base_uri": "https://localhost:8080/"
        },
        "id": "3zgfBpsCRX8m",
        "outputId": "2fe66eba-80ba-4627-e89b-da58da111efd"
      },
      "outputs": [
        {
          "data": {
            "text/plain": [
              "Index(['Suburb', 'Address', 'Rooms', 'Type', 'Price', 'Method', 'SellerG',\n",
              "       'Date', 'Distance', 'Postcode', 'Bedroom2', 'Bathroom', 'Car',\n",
              "       'Landsize', 'BuildingArea', 'YearBuilt', 'CouncilArea', 'Lattitude',\n",
              "       'Longtitude', 'Regionname', 'Propertycount', 'zipcode',\n",
              "       'airbnb_price_mean', 'airbnb_record_count', 'airbnb_weekly_price_mean',\n",
              "       'airbnb_monthly_price_mean'],\n",
              "      dtype='object')"
            ]
          },
          "execution_count": 31,
          "metadata": {},
          "output_type": "execute_result"
        }
      ],
      "source": [
        "merged_sales_df.columns"
      ]
    },
    {
      "cell_type": "code",
      "execution_count": 32,
      "metadata": {
        "id": "G4ClSr_JapCw"
      },
      "outputs": [],
      "source": [
        "merged_sales_df.to_csv(\"melb_data_extended.csv\", index=None)"
      ]
    },
    {
      "cell_type": "code",
      "execution_count": 33,
      "metadata": {
        "colab": {
          "base_uri": "https://localhost:8080/",
          "height": 34
        },
        "id": "9YD0kPzAM1he",
        "outputId": "86928e54-678d-4822-d08a-5b6c035d3543"
      },
      "outputs": [],
      "source": [
        "# Para Google Colab\n",
        "\n",
        "# from google.colab import files\n",
        "# files.download('melb_data_extended.csv')"
      ]
    }
  ],
  "metadata": {
    "colab": {
      "provenance": []
    },
    "kernelspec": {
      "display_name": "Python 3",
      "name": "python3"
    },
    "language_info": {
      "codemirror_mode": {
        "name": "ipython",
        "version": 3
      },
      "file_extension": ".py",
      "mimetype": "text/x-python",
      "name": "python",
      "nbconvert_exporter": "python",
      "pygments_lexer": "ipython3",
      "version": "3.11.8"
    }
  },
  "nbformat": 4,
  "nbformat_minor": 0
}
